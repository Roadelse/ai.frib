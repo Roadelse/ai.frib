{
 "cells": [
  {
   "cell_type": "markdown",
   "id": "c6f1f716",
   "metadata": {},
   "source": [
    "# RNN-LSTM-GRU on IMDb classification\n",
    "\n",
    "+ `../RNN`里记录了PyTorch官方对NLR用RNN的十分基本的demo, 感觉很这种text classification很适合作为年轻人的第一个RNN, 以及后续的LSTM, GRU, ...作为练手\n",
    "+ ~~正好我在kaggle上找到了一个扩大化的[数据集](https://www.kaggle.com/datasets/amaleshvemula7/name-and-country-of-origin-dataset), 非常不错~~\n",
    "+ ~~我就给down下来在`./data`, 这里针对这个问题, 做一个从RNN到LSTM到GRU的练手!~~\n",
    "+ 额, 本来准备做一个简单的name2country的分类, 结果发现kaggle那个数据集菜的一批...算了算了...还是去pytorch里找个dataset吧\n",
    "+ 用IMDb dataset就!"
   ]
  },
  {
   "cell_type": "markdown",
   "id": "f8f55e03",
   "metadata": {},
   "source": []
  },
  {
   "cell_type": "markdown",
   "id": "839c7b27",
   "metadata": {},
   "source": [
    "## Structure\n",
    "\n",
    "+ ~~这里做数据处理代码的开发, 具体训练啥的分别开一个notebook去搞~~\n",
    "+ ~~数据处理开发好之后还得导出到py里去~~\n",
    "+ 这里直接搞吧就...也挺好, 省事了, 不用操心预处理\n",
    "+ 吸取教训, 一开始还是用官方大牌的dataset去练手!"
   ]
  },
  {
   "cell_type": "code",
   "execution_count": null,
   "id": "d84ffbb0",
   "metadata": {},
   "outputs": [],
   "source": []
  },
  {
   "cell_type": "markdown",
   "id": "e626db4f",
   "metadata": {},
   "source": [
    "# RNN\n",
    "\n",
    "## issues\n",
    "\n",
    "+ 额, 为什么我down个IDMB的dataset都能有问题的, torchtext你在干嘛啊, 为啥不直接用Dataset, 非要搞个什么datapipes...\n",
    "   * nm, 是网络问题, 我开了狗洞之后就可以了, 服了..."
   ]
  },
  {
   "cell_type": "code",
   "execution_count": 1,
   "id": "b77f5934",
   "metadata": {},
   "outputs": [],
   "source": [
    "import os.path"
   ]
  },
  {
   "cell_type": "code",
   "execution_count": 2,
   "id": "39549f3e",
   "metadata": {},
   "outputs": [],
   "source": [
    "import numpy as np\n",
    "import pandas as pd"
   ]
  },
  {
   "cell_type": "code",
   "execution_count": 3,
   "id": "a515c53e",
   "metadata": {},
   "outputs": [],
   "source": [
    "import time"
   ]
  },
  {
   "cell_type": "code",
   "execution_count": 4,
   "id": "aa903db7",
   "metadata": {},
   "outputs": [],
   "source": [
    "import torch\n",
    "import torch.nn as nn\n",
    "\n",
    "import torchtext\n",
    "from torchtext.data.utils import get_tokenizer\n",
    "from torchtext.vocab import build_vocab_from_iterator\n",
    "\n",
    "from torch.nn.utils.rnn import pad_sequence\n"
   ]
  },
  {
   "cell_type": "code",
   "execution_count": 12,
   "id": "0d96c631",
   "metadata": {},
   "outputs": [],
   "source": [
    "import matplotlib.pyplot as plt"
   ]
  },
  {
   "cell_type": "code",
   "execution_count": 5,
   "id": "3657066b",
   "metadata": {},
   "outputs": [],
   "source": [
    "class RNN(nn.Module):\n",
    "    def __init__(self, vocab_size, embedding_dim, hidden_dim, output_dim):\n",
    "        super().__init__()\n",
    "        self.embedding = nn.Embedding(vocab_size, embedding_dim)\n",
    "        self.rnn = nn.RNN(embedding_dim, hidden_dim)\n",
    "        self.fc = nn.Linear(hidden_dim, output_dim)\n",
    "\n",
    "    def forward(self, text):\n",
    "        embedded = self.embedding(text)\n",
    "        output, hidden = self.rnn(embedded)\n",
    "        return self.fc(hidden.squeeze(0))\n",
    "\n",
    "def tokenize_text(text, tokenizer, vocab):\n",
    "    return torch.tensor([vocab[token] for token in tokenizer(text)])\n",
    "\n",
    "# Define the function to process the label\n",
    "def process_label(label):\n",
    "    return torch.tensor(float(label == 1))\n",
    "\n",
    "def collate_batch(batch):\n",
    "    label_list, text_list, lengths = [], [], []\n",
    "    for (_label, _text) in batch:\n",
    "        label_list.append(process_label(_label))\n",
    "        processed_text = tokenize_text(_text, tokenizer, vocab)\n",
    "        text_list.append(processed_text)\n",
    "        lengths.append(processed_text.size(0))\n",
    "    return pad_sequence(text_list, padding_value=vocab['<pad>']).to(device), torch.tensor(label_list).to(device), lengths\n"
   ]
  },
  {
   "cell_type": "code",
   "execution_count": 6,
   "id": "86b28260",
   "metadata": {
    "scrolled": true
   },
   "outputs": [],
   "source": [
    "device = torch.device('cuda' if torch.cuda.is_available() else 'cpu')\n",
    "device\n",
    "\n",
    "tokenizer = get_tokenizer('spacy', language='en_core_web_sm')\n",
    "\n",
    "train_iter, test_iter = torchtext.datasets.IMDB(root = './data')\n",
    "\n",
    "dp_train = train_iter.set_length(len(list(train_iter)))\n",
    "dp_test = test_iter.set_length(len(list(test_iter)))\n",
    "\n",
    "vocab = build_vocab_from_iterator(map(tokenizer, map(lambda x: x[1], train_iter)), specials=['<unk>', '<pad>'])\n",
    "vocab.set_default_index(vocab['<unk>'])\n",
    "\n",
    "\n",
    "INPUT_DIM = len(vocab)\n",
    "EMBEDDING_DIM = 20\n",
    "HIDDEN_DIM = 40\n",
    "OUTPUT_DIM = 1\n",
    "INPUT_DIM, EMBEDDING_DIM, HIDDEN_DIM, OUTPUT_DIM\n",
    "\n",
    "dp_train = dp_train.shuffle()\n",
    "\n",
    "dlr = torch.utils.data.DataLoader(dp_train, batch_size=64, collate_fn=collate_batch)\n",
    "\n",
    "dlr_test = torch.utils.data.DataLoader(dp_test, batch_size=64, collate_fn=collate_batch)\n",
    "\n"
   ]
  },
  {
   "cell_type": "code",
   "execution_count": 7,
   "id": "cd20afc8",
   "metadata": {},
   "outputs": [
    {
     "data": {
      "text/plain": [
       "device(type='cuda')"
      ]
     },
     "execution_count": 7,
     "metadata": {},
     "output_type": "execute_result"
    }
   ],
   "source": [
    "device"
   ]
  },
  {
   "cell_type": "code",
   "execution_count": 8,
   "id": "fa7eb5e2",
   "metadata": {},
   "outputs": [],
   "source": [
    "\n",
    "model = RNN(INPUT_DIM, EMBEDDING_DIM, HIDDEN_DIM, OUTPUT_DIM)\n",
    "\n",
    "model.to(device)\n",
    "\n",
    "criterion = nn.BCEWithLogitsLoss()\n",
    "optimizer = torch.optim.Adam(model.parameters(), lr=1e-4)\n"
   ]
  },
  {
   "cell_type": "code",
   "execution_count": 9,
   "id": "86f2de19",
   "metadata": {
    "scrolled": true
   },
   "outputs": [
    {
     "name": "stdout",
     "output_type": "stream",
     "text": [
      "Epoch: 0, Loss: 0.6519079109287018, @ Sat Sep 23 14:59:29 2023\n",
      "Epoch: 10, Loss: 0.6972635004221631, @ Sat Sep 23 15:04:19 2023\n",
      "Epoch: 20, Loss: 0.6960146672585431, @ Sat Sep 23 15:09:11 2023\n",
      "Epoch: 30, Loss: 0.6953679050326043, @ Sat Sep 23 15:14:04 2023\n",
      "Epoch: 40, Loss: 0.6950723698072117, @ Sat Sep 23 15:18:55 2023\n",
      "Epoch: 50, Loss: 0.6940291202281748, @ Sat Sep 23 15:23:47 2023\n",
      "Epoch: 60, Loss: 0.6943043952097978, @ Sat Sep 23 15:28:40 2023\n",
      "Epoch: 70, Loss: 0.6944531350184584, @ Sat Sep 23 15:33:32 2023\n",
      "Epoch: 80, Loss: 0.6941007148579258, @ Sat Sep 23 15:38:24 2023\n",
      "Epoch: 90, Loss: 0.6948714413301414, @ Sat Sep 23 15:43:16 2023\n",
      "Epoch: 100, Loss: 0.6934829967101211, @ Sat Sep 23 15:48:09 2023\n",
      "Epoch: 110, Loss: 0.6936332778552609, @ Sat Sep 23 15:53:00 2023\n",
      "Epoch: 120, Loss: 0.693587314289854, @ Sat Sep 23 15:57:51 2023\n",
      "Epoch: 130, Loss: 0.6955915956241091, @ Sat Sep 23 16:02:41 2023\n",
      "Epoch: 140, Loss: 0.6939773750122246, @ Sat Sep 23 16:07:33 2023\n",
      "Epoch: 150, Loss: 0.6932717624222836, @ Sat Sep 23 16:12:26 2023\n",
      "Epoch: 160, Loss: 0.6926329734990054, @ Sat Sep 23 16:17:17 2023\n",
      "Epoch: 170, Loss: 0.693166840411818, @ Sat Sep 23 16:22:10 2023\n",
      "Epoch: 180, Loss: 0.6928887986161215, @ Sat Sep 23 16:27:03 2023\n",
      "Epoch: 190, Loss: 0.6923572689371036, @ Sat Sep 23 16:31:55 2023\n",
      "Epoch: 200, Loss: 0.6925647955416413, @ Sat Sep 23 16:36:48 2023\n",
      "Epoch: 210, Loss: 0.6945375826047815, @ Sat Sep 23 16:41:40 2023\n",
      "Epoch: 220, Loss: 0.6939002595594167, @ Sat Sep 23 16:46:32 2023\n",
      "Epoch: 230, Loss: 0.69299190352335, @ Sat Sep 23 16:51:24 2023\n",
      "Epoch: 240, Loss: 0.692881768316869, @ Sat Sep 23 16:56:14 2023\n",
      "Epoch: 250, Loss: 0.694534970518878, @ Sat Sep 23 17:01:05 2023\n",
      "Epoch: 260, Loss: 0.6940283776854005, @ Sat Sep 23 17:05:57 2023\n",
      "Epoch: 270, Loss: 0.6938558464769817, @ Sat Sep 23 17:10:49 2023\n",
      "Epoch: 280, Loss: 0.6939914371351452, @ Sat Sep 23 17:15:41 2023\n",
      "Epoch: 290, Loss: 0.6935857793559199, @ Sat Sep 23 17:20:32 2023\n",
      "Epoch: 300, Loss: 0.6935657502135353, @ Sat Sep 23 17:25:23 2023\n",
      "Epoch: 310, Loss: 0.6935644398259995, @ Sat Sep 23 17:30:14 2023\n",
      "Epoch: 320, Loss: 0.6926377711393644, @ Sat Sep 23 17:35:06 2023\n",
      "Epoch: 330, Loss: 0.6922056755751295, @ Sat Sep 23 17:39:56 2023\n",
      "Epoch: 340, Loss: 0.6926941280169865, @ Sat Sep 23 17:44:47 2023\n",
      "Epoch: 350, Loss: 0.6924532023842073, @ Sat Sep 23 17:49:38 2023\n",
      "Epoch: 360, Loss: 0.6920148911683456, @ Sat Sep 23 17:54:29 2023\n",
      "Epoch: 370, Loss: 0.6923278832374631, @ Sat Sep 23 17:59:20 2023\n",
      "Epoch: 380, Loss: 0.6922149629239231, @ Sat Sep 23 18:04:13 2023\n",
      "Epoch: 390, Loss: 0.6922172882672771, @ Sat Sep 23 18:09:03 2023\n",
      "Epoch: 400, Loss: 0.6922014264194557, @ Sat Sep 23 18:13:54 2023\n",
      "Epoch: 410, Loss: 0.6918640540688848, @ Sat Sep 23 18:18:45 2023\n",
      "Epoch: 420, Loss: 0.6934947648926464, @ Sat Sep 23 18:23:37 2023\n",
      "Epoch: 430, Loss: 0.6913754113799776, @ Sat Sep 23 18:28:28 2023\n",
      "Epoch: 440, Loss: 0.6950489974692654, @ Sat Sep 23 18:33:18 2023\n",
      "Epoch: 450, Loss: 0.6904697090463565, @ Sat Sep 23 18:38:09 2023\n",
      "Epoch: 460, Loss: 0.6906679900710845, @ Sat Sep 23 18:43:00 2023\n",
      "Epoch: 470, Loss: 0.6905999695858382, @ Sat Sep 23 18:47:51 2023\n",
      "Epoch: 480, Loss: 0.6913827619589198, @ Sat Sep 23 18:52:43 2023\n",
      "Epoch: 490, Loss: 0.691341803201934, @ Sat Sep 23 18:57:35 2023\n",
      "Epoch: 500, Loss: 0.6914353791405173, @ Sat Sep 23 19:02:25 2023\n",
      "Epoch: 510, Loss: 0.6908972368520849, @ Sat Sep 23 19:07:17 2023\n",
      "Epoch: 520, Loss: 0.6906972907083418, @ Sat Sep 23 19:12:08 2023\n",
      "Epoch: 530, Loss: 0.6900339140306653, @ Sat Sep 23 19:16:59 2023\n",
      "Epoch: 540, Loss: 0.6902548766806912, @ Sat Sep 23 19:21:50 2023\n",
      "Epoch: 550, Loss: 0.6903572425513012, @ Sat Sep 23 19:26:42 2023\n",
      "Epoch: 560, Loss: 0.6901519399164887, @ Sat Sep 23 19:31:33 2023\n",
      "Epoch: 570, Loss: 0.690836118920075, @ Sat Sep 23 19:36:25 2023\n",
      "Epoch: 580, Loss: 0.6901132978136887, @ Sat Sep 23 19:41:17 2023\n",
      "Epoch: 590, Loss: 0.6902541521260196, @ Sat Sep 23 19:46:09 2023\n",
      "Epoch: 600, Loss: 0.6903834221003305, @ Sat Sep 23 19:50:59 2023\n",
      "Epoch: 610, Loss: 0.6902364830836616, @ Sat Sep 23 19:55:50 2023\n",
      "Epoch: 620, Loss: 0.6889854799146238, @ Sat Sep 23 20:00:42 2023\n",
      "Epoch: 630, Loss: 0.6894184389077794, @ Sat Sep 23 20:05:35 2023\n",
      "Epoch: 640, Loss: 0.689835175376414, @ Sat Sep 23 20:10:25 2023\n",
      "Epoch: 650, Loss: 0.6900277186537642, @ Sat Sep 23 20:15:16 2023\n",
      "Epoch: 660, Loss: 0.6896730216262895, @ Sat Sep 23 20:20:06 2023\n",
      "Epoch: 670, Loss: 0.6909563715195717, @ Sat Sep 23 20:24:58 2023\n",
      "Epoch: 680, Loss: 0.6893402804499087, @ Sat Sep 23 20:29:49 2023\n",
      "Epoch: 690, Loss: 0.6896864155979108, @ Sat Sep 23 20:34:40 2023\n",
      "Epoch: 700, Loss: 0.689611066485305, @ Sat Sep 23 20:39:31 2023\n",
      "Epoch: 710, Loss: 0.6888322145737651, @ Sat Sep 23 20:44:21 2023\n",
      "Epoch: 720, Loss: 0.6892862894650921, @ Sat Sep 23 20:49:13 2023\n",
      "Epoch: 730, Loss: 0.6890580058097839, @ Sat Sep 23 20:54:04 2023\n",
      "Epoch: 740, Loss: 0.6887185969925902, @ Sat Sep 23 20:58:55 2023\n",
      "Epoch: 750, Loss: 0.6893302831808319, @ Sat Sep 23 21:03:46 2023\n",
      "Epoch: 760, Loss: 0.6885953620266732, @ Sat Sep 23 21:08:37 2023\n",
      "Epoch: 770, Loss: 0.6888324914076139, @ Sat Sep 23 21:13:28 2023\n",
      "Epoch: 780, Loss: 0.6877760762143927, @ Sat Sep 23 21:18:20 2023\n",
      "Epoch: 790, Loss: 0.6879600303252335, @ Sat Sep 23 21:23:10 2023\n",
      "Epoch: 800, Loss: 0.6885943606381526, @ Sat Sep 23 21:28:01 2023\n",
      "Epoch: 810, Loss: 0.6881677265972128, @ Sat Sep 23 21:32:50 2023\n",
      "Epoch: 820, Loss: 0.6879193503838366, @ Sat Sep 23 21:37:41 2023\n",
      "Epoch: 830, Loss: 0.6888763445722478, @ Sat Sep 23 21:42:32 2023\n",
      "Epoch: 840, Loss: 0.6882057173172836, @ Sat Sep 23 21:47:23 2023\n",
      "Epoch: 850, Loss: 0.6882771909084466, @ Sat Sep 23 21:52:14 2023\n",
      "Epoch: 860, Loss: 0.6868398389243104, @ Sat Sep 23 21:57:05 2023\n",
      "Epoch: 870, Loss: 0.6878015120011156, @ Sat Sep 23 22:01:56 2023\n",
      "Epoch: 880, Loss: 0.6881281785343004, @ Sat Sep 23 22:06:46 2023\n",
      "Epoch: 890, Loss: 0.6873938935187162, @ Sat Sep 23 22:11:37 2023\n",
      "Epoch: 900, Loss: 0.6883380362749709, @ Sat Sep 23 22:16:28 2023\n",
      "Epoch: 910, Loss: 0.6890113602208969, @ Sat Sep 23 22:21:20 2023\n",
      "Epoch: 920, Loss: 0.6886638300803006, @ Sat Sep 23 22:26:10 2023\n",
      "Epoch: 930, Loss: 0.6886850746391374, @ Sat Sep 23 22:31:02 2023\n",
      "Epoch: 940, Loss: 0.6877744960053193, @ Sat Sep 23 22:35:51 2023\n",
      "Epoch: 950, Loss: 0.6878385560591812, @ Sat Sep 23 22:40:44 2023\n",
      "Epoch: 960, Loss: 0.6870122679968929, @ Sat Sep 23 22:45:36 2023\n",
      "Epoch: 970, Loss: 0.6880865348574451, @ Sat Sep 23 22:50:27 2023\n",
      "Epoch: 980, Loss: 0.6873328635454787, @ Sat Sep 23 22:55:19 2023\n",
      "Epoch: 990, Loss: 0.6879567865215604, @ Sat Sep 23 23:00:09 2023\n"
     ]
    }
   ],
   "source": [
    "\n",
    "model.train()\n",
    "\n",
    "losses = []\n",
    "for epoch in range(1000):\n",
    "    total_loss = 0\n",
    "    for text, labels, _ in dlr:\n",
    "        optimizer.zero_grad()\n",
    "        predictions = model(text).squeeze(1)\n",
    "        loss = criterion(predictions, labels)\n",
    "        if np.isnan(loss.item()):\n",
    "            print(\"nan loss! Stop\")\n",
    "            break\n",
    "        loss.backward()\n",
    "        optimizer.step()\n",
    "        total_loss += loss.item()\n",
    "    losses.append(total_loss/len(dlr))\n",
    "    if epoch % 10 == 0:\n",
    "        print(f\"Epoch: {epoch}, Loss: {total_loss/len(dlr)}, @ {time.ctime()}\")\n"
   ]
  },
  {
   "cell_type": "code",
   "execution_count": 13,
   "id": "0b17298e",
   "metadata": {},
   "outputs": [
    {
     "data": {
      "text/plain": [
       "[<matplotlib.lines.Line2D at 0x2671acfb390>]"
      ]
     },
     "execution_count": 13,
     "metadata": {},
     "output_type": "execute_result"
    },
    {
     "data": {
      "image/png": "[encoded data removed]",
      "text/plain": [
       "<Figure size 640x480 with 1 Axes>"
      ]
     },
     "metadata": {},
     "output_type": "display_data"
    }
   ],
   "source": [
    "plt.plot(losses)"
   ]
  },
  {
   "cell_type": "code",
   "execution_count": null,
   "id": "636fdf7b",
   "metadata": {},
   "outputs": [],
   "source": []
  },
  {
   "cell_type": "code",
   "execution_count": null,
   "id": "feb40391",
   "metadata": {},
   "outputs": [],
   "source": []
  },
  {
   "cell_type": "code",
   "execution_count": null,
   "id": "9c89c876",
   "metadata": {},
   "outputs": [],
   "source": []
  },
  {
   "cell_type": "code",
   "execution_count": null,
   "id": "19c36f26",
   "metadata": {},
   "outputs": [],
   "source": []
  },
  {
   "cell_type": "code",
   "execution_count": 14,
   "id": "8caf4036",
   "metadata": {},
   "outputs": [
    {
     "data": {
      "text/plain": [
       "RNN(\n",
       "  (embedding): Embedding(121067, 20)\n",
       "  (rnn): RNN(20, 40)\n",
       "  (fc): Linear(in_features=40, out_features=1, bias=True)\n",
       ")"
      ]
     },
     "execution_count": 14,
     "metadata": {},
     "output_type": "execute_result"
    }
   ],
   "source": [
    "model.eval()"
   ]
  },
  {
   "cell_type": "code",
   "execution_count": 16,
   "id": "a5461209",
   "metadata": {},
   "outputs": [],
   "source": [
    "def getAcc(pred, labels):\n",
    "    label_pred = (torch.sigmoid(pred) > 0.5).float()\n",
    "    acc = (label_pred == labels).float().mean()\n",
    "    return acc.detach().cpu()"
   ]
  },
  {
   "cell_type": "code",
   "execution_count": 17,
   "id": "5f98a999",
   "metadata": {},
   "outputs": [],
   "source": [
    "accs = []\n",
    "for text, labels, _ in dlr_test:\n",
    "    accs.append(getAcc(model(text), labels))"
   ]
  },
  {
   "cell_type": "code",
   "execution_count": 22,
   "id": "36f8f8a0",
   "metadata": {},
   "outputs": [],
   "source": [
    "accT = torch.tensor(accs).mean()"
   ]
  },
  {
   "cell_type": "code",
   "execution_count": 23,
   "id": "96a07621",
   "metadata": {},
   "outputs": [
    {
     "data": {
      "text/plain": [
       "tensor(0.5004)"
      ]
     },
     "execution_count": 23,
     "metadata": {},
     "output_type": "execute_result"
    }
   ],
   "source": [
    "accT"
   ]
  },
  {
   "cell_type": "code",
   "execution_count": 89,
   "id": "e16e86a5",
   "metadata": {
    "scrolled": true
   },
   "outputs": [
    {
     "data": {
      "text/plain": [
       "tensor(0.5006, device='cuda:0')"
      ]
     },
     "execution_count": 89,
     "metadata": {},
     "output_type": "execute_result"
    }
   ],
   "source": [
    "acc"
   ]
  },
  {
   "cell_type": "code",
   "execution_count": null,
   "id": "5070acba",
   "metadata": {},
   "outputs": [],
   "source": []
  }
 ],
 "metadata": {
  "kernelspec": {
   "display_name": "ai",
   "language": "python",
   "name": "ai"
  },
  "language_info": {
   "codemirror_mode": {
    "name": "ipython",
    "version": 3
   },
   "file_extension": ".py",
   "mimetype": "text/x-python",
   "name": "python",
   "nbconvert_exporter": "python",
   "pygments_lexer": "ipython3",
   "version": "3.11.4"
  }
 },
 "nbformat": 4,
 "nbformat_minor": 5
}
