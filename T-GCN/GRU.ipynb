{
 "cells": [
  {
   "cell_type": "code",
   "execution_count": 178,
   "id": "8d88d15d",
   "metadata": {},
   "outputs": [],
   "source": [
    "import os, os.path\n",
    "import sys\n",
    "import time"
   ]
  },
  {
   "cell_type": "code",
   "execution_count": 30,
   "id": "69f8ecc0",
   "metadata": {},
   "outputs": [],
   "source": [
    "import shutil"
   ]
  },
  {
   "cell_type": "code",
   "execution_count": 2,
   "id": "0271d733",
   "metadata": {},
   "outputs": [],
   "source": [
    "import numpy as np\n",
    "import pandas as pd\n",
    "import matplotlib.pyplot as plt"
   ]
  },
  {
   "cell_type": "code",
   "execution_count": 44,
   "id": "ee353fbb",
   "metadata": {},
   "outputs": [],
   "source": [
    "\n",
    "import torch\n",
    "from torch.nn import Linear\n",
    "import torch.nn as nn\n",
    "from torch_geometric.nn import GCNConv\n",
    "\n",
    "# from torch_geometric.data import Data\n",
    "# from torch_geometric.loader import DataLoader\n",
    "\n",
    "from torch.utils.data import random_split\n",
    "\n",
    "\n"
   ]
  },
  {
   "cell_type": "code",
   "execution_count": 4,
   "id": "9ee6ca32",
   "metadata": {},
   "outputs": [],
   "source": [
    "\n",
    "sys.path.append('../../ai.rdee')\n",
    "import ai_rdee"
   ]
  },
  {
   "cell_type": "code",
   "execution_count": 6,
   "id": "f487ef71",
   "metadata": {},
   "outputs": [
    {
     "data": {
      "text/plain": [
       "device(type='cuda')"
      ]
     },
     "execution_count": 6,
     "metadata": {},
     "output_type": "execute_result"
    }
   ],
   "source": [
    "device = torch.device('cuda' if torch.cuda.is_available() else 'cpu')\n",
    "device"
   ]
  },
  {
   "cell_type": "code",
   "execution_count": 69,
   "id": "7b671206",
   "metadata": {},
   "outputs": [],
   "source": [
    "class TGCN_dataset(torch.utils.data.Dataset):\n",
    "    def __init__(self):\n",
    "        for f in self.processed_file_names:\n",
    "            if not os.path.exists(f):\n",
    "                self.process()\n",
    "        self.data = torch.load(self.processed_file_names[0])\n",
    "\n",
    "    @property\n",
    "    def raw_file_names(self):\n",
    "        return ['data/sz_adj.csv', 'data/sz_speed.csv']\n",
    "\n",
    "    @property\n",
    "    def processed_file_names(self):\n",
    "        return ['data_sz_GRU.pt']\n",
    "\n",
    "    def download(self):\n",
    "        # Download to `self.raw_dir`.\n",
    "        print(\"Please download the data manually!\")\n",
    "        sys.exit(0)\n",
    "        \n",
    "    def process(self):\n",
    "        for f in self.raw_file_names:\n",
    "            if not os.path.exists(f):\n",
    "                slef.download()\n",
    "                break\n",
    "        print(\"Processing ... ...\")\n",
    "        # Read data into huge `Data` list.\n",
    "        fn_adj, fn_spd = self.raw_file_names\n",
    "        df_spd = pd.read_csv(fn_spd)\n",
    "        S = df_spd.values  # nTimes x nNodes\n",
    "        \n",
    "        data = np.zeros((S.shape[0]-14, 15, S.shape[1]))\n",
    "        for i in range(data.shape[0]):\n",
    "            data[i,:,:] = S[i:i+15, :]\n",
    "        \n",
    "        torch.save(torch.Tensor(data), self.processed_file_names[0])\n",
    "        print(\"Process done.\")\n",
    "        \n",
    "    def clean(self):\n",
    "        os.remove('data_sz_GRU.pt')\n",
    "        \n",
    "    def __len__(self):\n",
    "        return self.data.shape[0]\n",
    "    \n",
    "    def __getitem__(self, idx: int):\n",
    "        return self.data[idx, :, :]"
   ]
  },
  {
   "cell_type": "code",
   "execution_count": 72,
   "id": "73b46dac",
   "metadata": {},
   "outputs": [],
   "source": [
    "ds.clean()"
   ]
  },
  {
   "cell_type": "code",
   "execution_count": 73,
   "id": "f0da1c21",
   "metadata": {},
   "outputs": [
    {
     "name": "stdout",
     "output_type": "stream",
     "text": [
      "Processing ... ...\n",
      "Process done.\n"
     ]
    }
   ],
   "source": [
    "ds = TGCN_dataset()"
   ]
  },
  {
   "cell_type": "code",
   "execution_count": 177,
   "id": "18028c78",
   "metadata": {},
   "outputs": [],
   "source": [
    "class GRU(nn.Module):\n",
    "    def __init__(self, input_dim, GRU_dim):\n",
    "        super().__init__()\n",
    "        self.GRU_dim = GRU_dim\n",
    "        self.GRULayer = nn.GRU(input_dim, GRU_dim, batch_first=True)\n",
    "        self.Regressor = nn.Linear(GRU_dim, 3 * input_dim)\n",
    "        \n",
    "    def forward(self, inputs):\n",
    "        batch_size, seq_len, num_nodes = inputs.shape\n",
    "        h0 = torch.zeros(batch_size, num_nodes * self.GRU_dim).type_as(\n",
    "            inputs\n",
    "        )\n",
    "#         print(inputs.shape)\n",
    "        out, h_gru = self.GRULayer(inputs)  # h_gru : (1, batchsize, hidden_dim)\n",
    "#         print(h_gru.shape)\n",
    "        x = self.Regressor(h_gru.squeeze(0))\n",
    "        return x"
   ]
  },
  {
   "cell_type": "code",
   "execution_count": 75,
   "id": "0b27c819",
   "metadata": {},
   "outputs": [],
   "source": [
    "ratio_valid = 0.3"
   ]
  },
  {
   "cell_type": "code",
   "execution_count": 199,
   "id": "9a8412f5",
   "metadata": {},
   "outputs": [],
   "source": [
    "size_valid = int(ratio_valid * len(ds))\n",
    "size_train = len(ds) - size_valid\n",
    "ds_learn, ds_valid = random_split(ds, [size_train, size_valid])"
   ]
  },
  {
   "cell_type": "code",
   "execution_count": 200,
   "id": "e4a17aa4",
   "metadata": {},
   "outputs": [],
   "source": [
    "def collate_fn(batch):\n",
    "#     global b1\n",
    "#     b1 = batch\n",
    "    # batch: (batchSize, seq, nFeatures)\n",
    "    batchTS = torch.stack(batch)\n",
    "    return batchTS[:, :12, :], batchTS[:, 12:, :].view(batchTS.shape[0], -1)"
   ]
  },
  {
   "cell_type": "code",
   "execution_count": 201,
   "id": "93427b94",
   "metadata": {},
   "outputs": [],
   "source": [
    "dlr_train = torch.utils.data.DataLoader(ds_learn, shuffle=True, batch_size=64, collate_fn=collate_fn)"
   ]
  },
  {
   "cell_type": "code",
   "execution_count": 202,
   "id": "1f4e6553",
   "metadata": {},
   "outputs": [],
   "source": [
    "dlr_valid = torch.utils.data.DataLoader(ds_valid, shuffle=True, batch_size=size_valid, collate_fn=collate_fn)"
   ]
  },
  {
   "cell_type": "code",
   "execution_count": 143,
   "id": "abb27e77",
   "metadata": {},
   "outputs": [],
   "source": [
    "a, b = next(iter(dlr_train))"
   ]
  },
  {
   "cell_type": "code",
   "execution_count": 131,
   "id": "96003432",
   "metadata": {},
   "outputs": [
    {
     "data": {
      "text/plain": [
       "torch.Size([64, 12, 156])"
      ]
     },
     "execution_count": 131,
     "metadata": {},
     "output_type": "execute_result"
    }
   ],
   "source": [
    "a.shape"
   ]
  },
  {
   "cell_type": "code",
   "execution_count": 132,
   "id": "99bfb85b",
   "metadata": {
    "scrolled": true
   },
   "outputs": [
    {
     "data": {
      "text/plain": [
       "torch.Size([64, 468])"
      ]
     },
     "execution_count": 132,
     "metadata": {},
     "output_type": "execute_result"
    }
   ],
   "source": [
    "b.shape"
   ]
  },
  {
   "cell_type": "code",
   "execution_count": null,
   "id": "eae19a4f",
   "metadata": {},
   "outputs": [],
   "source": []
  },
  {
   "cell_type": "code",
   "execution_count": null,
   "id": "ca28cc87",
   "metadata": {},
   "outputs": [],
   "source": []
  },
  {
   "cell_type": "code",
   "execution_count": 184,
   "id": "5fdb37cf",
   "metadata": {},
   "outputs": [],
   "source": [
    "net = GRU(156, 256)"
   ]
  },
  {
   "cell_type": "code",
   "execution_count": 185,
   "id": "65b0adda",
   "metadata": {},
   "outputs": [
    {
     "data": {
      "text/plain": [
       "GRU(\n",
       "  (GRULayer): GRU(156, 256, batch_first=True)\n",
       "  (Regressor): Linear(in_features=256, out_features=468, bias=True)\n",
       ")"
      ]
     },
     "execution_count": 185,
     "metadata": {},
     "output_type": "execute_result"
    }
   ],
   "source": [
    "net.to(device)"
   ]
  },
  {
   "cell_type": "code",
   "execution_count": 186,
   "id": "6325d806",
   "metadata": {},
   "outputs": [],
   "source": [
    "optim = torch.optim.Adam(net.parameters(), lr=1e-3)\n",
    "criterion = nn.MSELoss()"
   ]
  },
  {
   "cell_type": "code",
   "execution_count": 187,
   "id": "843de824",
   "metadata": {},
   "outputs": [
    {
     "data": {
      "text/plain": [
       "GRU(\n",
       "  (GRULayer): GRU(156, 256, batch_first=True)\n",
       "  (Regressor): Linear(in_features=256, out_features=468, bias=True)\n",
       ")"
      ]
     },
     "execution_count": 187,
     "metadata": {},
     "output_type": "execute_result"
    }
   ],
   "source": [
    "net.train()"
   ]
  },
  {
   "cell_type": "code",
   "execution_count": 188,
   "id": "6d5e5455",
   "metadata": {},
   "outputs": [
    {
     "name": "stdout",
     "output_type": "stream",
     "text": [
      "epoch=0, loss=241.93960478811553  |  @Sun Sep 24 20:22:20 2023\n",
      "epoch=10, loss=46.381024447354406  |  @Sun Sep 24 20:22:23 2023\n",
      "epoch=20, loss=34.57499873999393  |  @Sun Sep 24 20:22:26 2023\n",
      "epoch=30, loss=31.43452228199352  |  @Sun Sep 24 20:22:29 2023\n",
      "epoch=40, loss=30.323876467618074  |  @Sun Sep 24 20:22:32 2023\n",
      "epoch=50, loss=29.52326468265418  |  @Sun Sep 24 20:22:35 2023\n",
      "epoch=60, loss=29.080830429539535  |  @Sun Sep 24 20:22:39 2023\n",
      "epoch=70, loss=28.72325897216797  |  @Sun Sep 24 20:22:42 2023\n",
      "epoch=80, loss=28.358384970462684  |  @Sun Sep 24 20:22:45 2023\n",
      "epoch=90, loss=28.044156276818477  |  @Sun Sep 24 20:22:48 2023\n",
      "epoch=100, loss=27.891550988862008  |  @Sun Sep 24 20:22:51 2023\n",
      "epoch=110, loss=27.66254390369762  |  @Sun Sep 24 20:22:54 2023\n",
      "epoch=120, loss=27.36736858252323  |  @Sun Sep 24 20:22:57 2023\n",
      "epoch=130, loss=27.18926493326823  |  @Sun Sep 24 20:23:00 2023\n",
      "epoch=140, loss=27.030378341674805  |  @Sun Sep 24 20:23:03 2023\n",
      "epoch=150, loss=26.931156331842597  |  @Sun Sep 24 20:23:07 2023\n",
      "epoch=160, loss=26.800010854547676  |  @Sun Sep 24 20:23:10 2023\n",
      "epoch=170, loss=26.70907685250947  |  @Sun Sep 24 20:23:13 2023\n",
      "epoch=180, loss=26.619436610828746  |  @Sun Sep 24 20:23:16 2023\n",
      "epoch=190, loss=26.46746421582771  |  @Sun Sep 24 20:23:19 2023\n",
      "epoch=200, loss=26.420765501080137  |  @Sun Sep 24 20:23:22 2023\n",
      "epoch=210, loss=26.352067138209488  |  @Sun Sep 24 20:23:25 2023\n",
      "epoch=220, loss=26.336366826837715  |  @Sun Sep 24 20:23:28 2023\n",
      "epoch=230, loss=26.188537424260918  |  @Sun Sep 24 20:23:31 2023\n",
      "epoch=240, loss=26.078352610270183  |  @Sun Sep 24 20:23:34 2023\n",
      "epoch=250, loss=26.070091478752367  |  @Sun Sep 24 20:23:38 2023\n",
      "epoch=260, loss=26.09799708742084  |  @Sun Sep 24 20:23:41 2023\n",
      "epoch=270, loss=25.984763983524207  |  @Sun Sep 24 20:23:44 2023\n",
      "epoch=280, loss=26.01269109321363  |  @Sun Sep 24 20:23:47 2023\n",
      "epoch=290, loss=26.00806461681019  |  @Sun Sep 24 20:23:50 2023\n",
      "epoch=300, loss=25.921955050844133  |  @Sun Sep 24 20:23:53 2023\n",
      "epoch=310, loss=25.92568281925086  |  @Sun Sep 24 20:23:56 2023\n",
      "epoch=320, loss=25.83545719493519  |  @Sun Sep 24 20:23:59 2023\n",
      "epoch=330, loss=25.812543348832563  |  @Sun Sep 24 20:24:02 2023\n",
      "epoch=340, loss=25.80545119083289  |  @Sun Sep 24 20:24:05 2023\n",
      "epoch=350, loss=25.734779646902375  |  @Sun Sep 24 20:24:09 2023\n",
      "epoch=360, loss=25.747143080740265  |  @Sun Sep 24 20:24:12 2023\n",
      "epoch=370, loss=25.661322911580402  |  @Sun Sep 24 20:24:15 2023\n",
      "epoch=380, loss=25.758678551876184  |  @Sun Sep 24 20:24:18 2023\n",
      "epoch=390, loss=25.747678698915422  |  @Sun Sep 24 20:24:21 2023\n",
      "epoch=400, loss=25.800012704097863  |  @Sun Sep 24 20:24:24 2023\n",
      "epoch=410, loss=25.650993462764855  |  @Sun Sep 24 20:24:27 2023\n",
      "epoch=420, loss=25.59318496241714  |  @Sun Sep 24 20:24:31 2023\n",
      "epoch=430, loss=25.577822945334695  |  @Sun Sep 24 20:24:34 2023\n",
      "epoch=440, loss=25.558741020433832  |  @Sun Sep 24 20:24:37 2023\n",
      "epoch=450, loss=25.563806649410363  |  @Sun Sep 24 20:24:40 2023\n",
      "epoch=460, loss=25.455929033684008  |  @Sun Sep 24 20:24:43 2023\n",
      "epoch=470, loss=25.670789776426375  |  @Sun Sep 24 20:24:46 2023\n",
      "epoch=480, loss=25.59451542478619  |  @Sun Sep 24 20:24:49 2023\n",
      "epoch=490, loss=25.543661695538145  |  @Sun Sep 24 20:24:53 2023\n",
      "epoch=500, loss=25.607632954915363  |  @Sun Sep 24 20:24:56 2023\n",
      "epoch=510, loss=25.5516120448257  |  @Sun Sep 24 20:24:59 2023\n",
      "epoch=520, loss=25.44990210099654  |  @Sun Sep 24 20:25:02 2023\n",
      "epoch=530, loss=25.48655180497603  |  @Sun Sep 24 20:25:05 2023\n",
      "epoch=540, loss=25.409304358742453  |  @Sun Sep 24 20:25:09 2023\n",
      "epoch=550, loss=25.52530427412553  |  @Sun Sep 24 20:25:12 2023\n",
      "epoch=560, loss=25.35556244127678  |  @Sun Sep 24 20:25:15 2023\n",
      "epoch=570, loss=25.524317134510387  |  @Sun Sep 24 20:25:18 2023\n",
      "epoch=580, loss=25.330267703894414  |  @Sun Sep 24 20:25:21 2023\n",
      "epoch=590, loss=25.422151218761098  |  @Sun Sep 24 20:25:24 2023\n",
      "epoch=600, loss=25.341209931807086  |  @Sun Sep 24 20:25:27 2023\n",
      "epoch=610, loss=25.31391091780229  |  @Sun Sep 24 20:25:31 2023\n",
      "epoch=620, loss=25.362793373339105  |  @Sun Sep 24 20:25:34 2023\n",
      "epoch=630, loss=25.317008105191317  |  @Sun Sep 24 20:25:37 2023\n",
      "epoch=640, loss=25.23394047130238  |  @Sun Sep 24 20:25:40 2023\n",
      "epoch=650, loss=25.24429072755756  |  @Sun Sep 24 20:25:43 2023\n",
      "epoch=660, loss=25.35090989777536  |  @Sun Sep 24 20:25:46 2023\n",
      "epoch=670, loss=25.4403488852761  |  @Sun Sep 24 20:25:50 2023\n",
      "epoch=680, loss=25.266274481108695  |  @Sun Sep 24 20:25:53 2023\n",
      "epoch=690, loss=25.31308873494466  |  @Sun Sep 24 20:25:56 2023\n",
      "epoch=700, loss=25.401585087631688  |  @Sun Sep 24 20:25:59 2023\n",
      "epoch=710, loss=25.355080460057113  |  @Sun Sep 24 20:26:02 2023\n",
      "epoch=720, loss=25.189701195919152  |  @Sun Sep 24 20:26:05 2023\n",
      "epoch=730, loss=25.30414679556182  |  @Sun Sep 24 20:26:08 2023\n",
      "epoch=740, loss=25.386762676817  |  @Sun Sep 24 20:26:12 2023\n",
      "epoch=750, loss=25.284017331672437  |  @Sun Sep 24 20:26:15 2023\n",
      "epoch=760, loss=25.35826399832061  |  @Sun Sep 24 20:26:18 2023\n",
      "epoch=770, loss=25.318769108165394  |  @Sun Sep 24 20:26:21 2023\n",
      "epoch=780, loss=25.19993458372174  |  @Sun Sep 24 20:26:24 2023\n",
      "epoch=790, loss=25.186473499644887  |  @Sun Sep 24 20:26:27 2023\n",
      "epoch=800, loss=25.31962914900346  |  @Sun Sep 24 20:26:31 2023\n",
      "epoch=810, loss=25.26322382146662  |  @Sun Sep 24 20:26:34 2023\n",
      "epoch=820, loss=25.31108925559304  |  @Sun Sep 24 20:26:37 2023\n",
      "epoch=830, loss=25.179315104629055  |  @Sun Sep 24 20:26:40 2023\n",
      "epoch=840, loss=25.17913275054007  |  @Sun Sep 24 20:26:43 2023\n",
      "epoch=850, loss=25.114106727368902  |  @Sun Sep 24 20:26:46 2023\n",
      "epoch=860, loss=25.257983178803414  |  @Sun Sep 24 20:26:49 2023\n",
      "epoch=870, loss=25.159567977442887  |  @Sun Sep 24 20:26:52 2023\n",
      "epoch=880, loss=25.128756667628434  |  @Sun Sep 24 20:26:56 2023\n",
      "epoch=890, loss=25.19806081598455  |  @Sun Sep 24 20:26:59 2023\n",
      "epoch=900, loss=25.15111166058165  |  @Sun Sep 24 20:27:02 2023\n",
      "epoch=910, loss=25.203793265602805  |  @Sun Sep 24 20:27:05 2023\n",
      "epoch=920, loss=25.195733099272758  |  @Sun Sep 24 20:27:08 2023\n",
      "epoch=930, loss=25.08243242899577  |  @Sun Sep 24 20:27:11 2023\n",
      "epoch=940, loss=25.140950694228664  |  @Sun Sep 24 20:27:15 2023\n",
      "epoch=950, loss=25.09225250012947  |  @Sun Sep 24 20:27:18 2023\n",
      "epoch=960, loss=25.216284087209992  |  @Sun Sep 24 20:27:21 2023\n",
      "epoch=970, loss=25.168502056237422  |  @Sun Sep 24 20:27:24 2023\n",
      "epoch=980, loss=25.092904524369672  |  @Sun Sep 24 20:27:27 2023\n",
      "epoch=990, loss=25.104192675966203  |  @Sun Sep 24 20:27:30 2023\n"
     ]
    }
   ],
   "source": [
    "losses = []\n",
    "lossesE = []\n",
    "for epoch in range(1000):\n",
    "    lossesE = []\n",
    "    for x, y in dlr_train:\n",
    "        optim.zero_grad()\n",
    "\n",
    "        y_hat = net(x.to(device))\n",
    "        loss = criterion(y_hat, y.to(device))\n",
    "        if np.isnan(loss.item()):\n",
    "            print(\"nan loss! Stop\")\n",
    "            break\n",
    "        loss.backward()\n",
    "        optim.step()\n",
    "        lossesE.append(loss.item())\n",
    "    losses.append(np.array(lossesE).mean())\n",
    "    if epoch % 10 == 0:\n",
    "        print(f\"epoch={epoch}, loss={losses[-1]}  |  @{time.ctime()}\")\n",
    "        \n"
   ]
  },
  {
   "cell_type": "code",
   "execution_count": null,
   "id": "01c6df09",
   "metadata": {},
   "outputs": [],
   "source": []
  },
  {
   "cell_type": "code",
   "execution_count": 205,
   "id": "0adbd09d",
   "metadata": {},
   "outputs": [],
   "source": [
    "xV, yV = next(iter(dlr_valid))"
   ]
  },
  {
   "cell_type": "code",
   "execution_count": 209,
   "id": "7817b923",
   "metadata": {},
   "outputs": [
    {
     "data": {
      "text/plain": [
       "888.6"
      ]
     },
     "execution_count": 209,
     "metadata": {},
     "output_type": "execute_result"
    }
   ],
   "source": [
    "2962*0.3"
   ]
  },
  {
   "cell_type": "code",
   "execution_count": 206,
   "id": "902cc2de",
   "metadata": {},
   "outputs": [
    {
     "data": {
      "text/plain": [
       "torch.Size([888, 12, 156])"
      ]
     },
     "execution_count": 206,
     "metadata": {},
     "output_type": "execute_result"
    }
   ],
   "source": [
    "xV.shape"
   ]
  },
  {
   "cell_type": "code",
   "execution_count": 228,
   "id": "a24424c1",
   "metadata": {},
   "outputs": [],
   "source": [
    "rgp = ai_rdee.Regression.RegressionPerformance()"
   ]
  },
  {
   "cell_type": "code",
   "execution_count": 211,
   "id": "00f270e1",
   "metadata": {},
   "outputs": [
    {
     "data": {
      "text/plain": [
       "GRU(\n",
       "  (GRULayer): GRU(156, 256, batch_first=True)\n",
       "  (Regressor): Linear(in_features=256, out_features=468, bias=True)\n",
       ")"
      ]
     },
     "execution_count": 211,
     "metadata": {},
     "output_type": "execute_result"
    }
   ],
   "source": [
    "net.eval()"
   ]
  },
  {
   "cell_type": "code",
   "execution_count": 212,
   "id": "ee47f62c",
   "metadata": {},
   "outputs": [],
   "source": [
    "yV_hat = net(xV.to(device))"
   ]
  },
  {
   "cell_type": "code",
   "execution_count": 225,
   "id": "cfb88c22",
   "metadata": {},
   "outputs": [
    {
     "data": {
      "text/plain": [
       "torch.Size([888, 468])"
      ]
     },
     "execution_count": 225,
     "metadata": {},
     "output_type": "execute_result"
    }
   ],
   "source": [
    "yV_hat.shape"
   ]
  },
  {
   "cell_type": "code",
   "execution_count": 226,
   "id": "d12d0d90",
   "metadata": {},
   "outputs": [
    {
     "data": {
      "text/plain": [
       "torch.Size([888, 468])"
      ]
     },
     "execution_count": 226,
     "metadata": {},
     "output_type": "execute_result"
    }
   ],
   "source": [
    "yV.shape"
   ]
  },
  {
   "cell_type": "code",
   "execution_count": 229,
   "id": "fa40910f",
   "metadata": {},
   "outputs": [],
   "source": [
    "rgp.valid(yV_hat.detach().cpu().view(-1), yV.reshape(-1))"
   ]
  },
  {
   "cell_type": "code",
   "execution_count": 230,
   "id": "201fe0c6",
   "metadata": {},
   "outputs": [
    {
     "name": "stdout",
     "output_type": "stream",
     "text": [
      "target : tg1\n",
      "size   = 415584.000\n",
      "r      =      0.918\n",
      "r2     =      0.842\n",
      "rmse   =      5.078\n",
      "nRMSE  =      0.397\n",
      "MSE    =     25.789\n"
     ]
    }
   ],
   "source": [
    "rgp.valid.show()"
   ]
  },
  {
   "cell_type": "code",
   "execution_count": 237,
   "id": "d3645b8a",
   "metadata": {},
   "outputs": [
    {
     "data": {
      "text/plain": [
       "(25.0, 27.0)"
      ]
     },
     "execution_count": 237,
     "metadata": {},
     "output_type": "execute_result"
    },
    {
     "data": {
      "image/png": "[encoded data removed]",
      "text/plain": [
       "<Figure size 640x480 with 1 Axes>"
      ]
     },
     "metadata": {},
     "output_type": "display_data"
    }
   ],
   "source": [
    "plt.plot(losses)\n",
    "plt.ylim(25, 27)"
   ]
  },
  {
   "cell_type": "code",
   "execution_count": null,
   "id": "58b6cbb2",
   "metadata": {},
   "outputs": [],
   "source": []
  }
 ],
 "metadata": {
  "kernelspec": {
   "display_name": "ai",
   "language": "python",
   "name": "ai"
  },
  "language_info": {
   "codemirror_mode": {
    "name": "ipython",
    "version": 3
   },
   "file_extension": ".py",
   "mimetype": "text/x-python",
   "name": "python",
   "nbconvert_exporter": "python",
   "pygments_lexer": "ipython3",
   "version": "3.11.4"
  }
 },
 "nbformat": 4,
 "nbformat_minor": 5
}
