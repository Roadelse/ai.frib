{
 "cells": [
  {
   "cell_type": "code",
   "execution_count": 1,
   "id": "8d88d15d",
   "metadata": {},
   "outputs": [],
   "source": [
    "import os, os.path\n",
    "import sys\n",
    "import time\n",
    "\n",
    "import shutil"
   ]
  },
  {
   "cell_type": "code",
   "execution_count": 2,
   "id": "0271d733",
   "metadata": {},
   "outputs": [],
   "source": [
    "import numpy as np\n",
    "import pandas as pd\n",
    "import matplotlib.pyplot as plt"
   ]
  },
  {
   "cell_type": "code",
   "execution_count": 3,
   "id": "ee353fbb",
   "metadata": {},
   "outputs": [],
   "source": [
    "\n",
    "import torch\n",
    "from torch.nn import Linear\n",
    "import torch.nn as nn\n",
    "from torch_geometric.nn import GCNConv\n",
    "\n",
    "# from torch_geometric.data import Data\n",
    "# from torch_geometric.loader import DataLoader\n",
    "\n",
    "from torch.utils.data import random_split\n",
    "\n",
    "\n"
   ]
  },
  {
   "cell_type": "code",
   "execution_count": 4,
   "id": "9ee6ca32",
   "metadata": {},
   "outputs": [],
   "source": [
    "\n",
    "sys.path.append('../../ai.rdee')\n",
    "import air"
   ]
  },
  {
   "cell_type": "code",
   "execution_count": 5,
   "id": "f487ef71",
   "metadata": {},
   "outputs": [
    {
     "data": {
      "text/plain": [
       "device(type='cuda')"
      ]
     },
     "execution_count": 5,
     "metadata": {},
     "output_type": "execute_result"
    }
   ],
   "source": [
    "device = torch.device('cuda' if torch.cuda.is_available() else 'cpu')\n",
    "device"
   ]
  },
  {
   "cell_type": "code",
   "execution_count": 6,
   "id": "7b671206",
   "metadata": {},
   "outputs": [],
   "source": [
    "class TGCN_dataset(torch.utils.data.Dataset):\n",
    "    def __init__(self):\n",
    "        for f in self.processed_file_names:\n",
    "            if not os.path.exists(f):\n",
    "                self.process()\n",
    "        self.data = torch.load(self.processed_file_names[0])\n",
    "\n",
    "    @property\n",
    "    def raw_file_names(self):\n",
    "        return ['data/sz_adj.csv', 'data/sz_speed.csv']\n",
    "\n",
    "    @property\n",
    "    def processed_file_names(self):\n",
    "        return ['data_sz_GRU.pt']\n",
    "\n",
    "    def download(self):\n",
    "        # Download to `self.raw_dir`.\n",
    "        print(\"Please download the data manually!\")\n",
    "        sys.exit(0)\n",
    "        \n",
    "    def process(self):\n",
    "        for f in self.raw_file_names:\n",
    "            if not os.path.exists(f):\n",
    "                slef.download()\n",
    "                break\n",
    "        print(\"Processing ... ...\")\n",
    "        # Read data into huge `Data` list.\n",
    "        fn_adj, fn_spd = self.raw_file_names\n",
    "        df_spd = pd.read_csv(fn_spd)\n",
    "        S = df_spd.values  # nTimes x nNodes\n",
    "        \n",
    "        data = np.zeros((S.shape[0]-14, 15, S.shape[1]))\n",
    "        for i in range(data.shape[0]):\n",
    "            data[i,:,:] = S[i:i+15, :]\n",
    "        \n",
    "        torch.save(torch.Tensor(data), self.processed_file_names[0])\n",
    "        print(\"Process done.\")\n",
    "        \n",
    "    def clean(self):\n",
    "        os.remove('data_sz_GRU.pt')\n",
    "        \n",
    "    def __len__(self):\n",
    "        return self.data.shape[0]\n",
    "    \n",
    "    def __getitem__(self, idx: int):\n",
    "        return self.data[idx, :, :]"
   ]
  },
  {
   "cell_type": "code",
   "execution_count": 7,
   "id": "f0da1c21",
   "metadata": {},
   "outputs": [],
   "source": [
    "ds = TGCN_dataset()"
   ]
  },
  {
   "cell_type": "code",
   "execution_count": 8,
   "id": "0b27c819",
   "metadata": {},
   "outputs": [],
   "source": [
    "ratio_valid = 0.2"
   ]
  },
  {
   "cell_type": "code",
   "execution_count": 9,
   "id": "9a8412f5",
   "metadata": {},
   "outputs": [],
   "source": [
    "size_valid = int(ratio_valid * len(ds))\n",
    "size_train = len(ds) - size_valid\n",
    "ds_learn, ds_valid = random_split(ds, [size_train, size_valid])"
   ]
  },
  {
   "cell_type": "code",
   "execution_count": 10,
   "id": "e4a17aa4",
   "metadata": {},
   "outputs": [],
   "source": [
    "def collate_fn(batch):\n",
    "#     global b1\n",
    "#     b1 = batch\n",
    "    # batch: (batchSize, seq, nFeatures)\n",
    "    batchTS = torch.stack(batch)\n",
    "    return batchTS[:, :12, :].permute(0,2,1).contiguous(), batchTS[:, 12:, :].permute(0,2,1).contiguous()\n",
    "#     return batchTS[:, :12, :], batchTS[:, 12:, :].permute(0, 2, 1).contiguous()\n",
    "#     return batchTS[:, :12, :].permute(0,2,1).contiguous(), batchTS[:, 12:, :].permute(0,2,1).contiguous()# .view(batchTS.shape[0], -1)"
   ]
  },
  {
   "cell_type": "code",
   "execution_count": 11,
   "id": "93427b94",
   "metadata": {},
   "outputs": [],
   "source": [
    "dlr_train = torch.utils.data.DataLoader(ds_learn, shuffle=True, batch_size=64, collate_fn=collate_fn)"
   ]
  },
  {
   "cell_type": "code",
   "execution_count": 12,
   "id": "1f4e6553",
   "metadata": {},
   "outputs": [],
   "source": [
    "dlr_valid = torch.utils.data.DataLoader(ds_valid, shuffle=True, batch_size=size_valid, collate_fn=collate_fn)"
   ]
  },
  {
   "cell_type": "code",
   "execution_count": 13,
   "id": "abb27e77",
   "metadata": {},
   "outputs": [
    {
     "name": "stdout",
     "output_type": "stream",
     "text": [
      "torch.Size([64, 156, 12])\n",
      "torch.Size([64, 156, 3])\n"
     ]
    }
   ],
   "source": [
    "a, b = next(iter(dlr_train))\n",
    "print(a.shape)\n",
    "print(b.shape)"
   ]
  },
  {
   "cell_type": "code",
   "execution_count": 14,
   "id": "303c03ea",
   "metadata": {},
   "outputs": [],
   "source": [
    "class GRU(nn.Module):\n",
    "    def __init__(self, nNodes, input_dim, GRU_dim, output_dim):\n",
    "        super().__init__()\n",
    "        self.GRULayer = nn.GRU(input_dim, GRU_dim, batch_first=True)\n",
    "        self.Regressor = nn.Linear(GRU_dim, output_dim)\n",
    "        \n",
    "    def forward(self, inputs):\n",
    "        batch_size, num_nodes, seq_len = inputs.shape\n",
    "#         h0 = torch.zeros(batch_size, num_nodes * self.GRU_dim).type_as(\n",
    "#             inputs\n",
    "#         )\n",
    "#         print(inputs.shape)\n",
    "        out, h_gru = self.GRULayer(inputs.view(batch_size * num_nodes, seq_len, 1))  # h_gru : (1, batchsize, hidden_dim)\n",
    "#         print(h_gru.shape)\n",
    "        x = self.Regressor(h_gru.squeeze(0))\n",
    "        return x.view(batch_size, num_nodes, -1)  # x(batch_size * num_nodes, output_dim)"
   ]
  },
  {
   "cell_type": "code",
   "execution_count": 15,
   "id": "eae19a4f",
   "metadata": {},
   "outputs": [],
   "source": [
    "net = GRU(156, 1, 100, 3)"
   ]
  },
  {
   "cell_type": "code",
   "execution_count": 16,
   "id": "3a584c0a",
   "metadata": {},
   "outputs": [
    {
     "data": {
      "text/plain": [
       "GRU(\n",
       "  (GRULayer): GRU(1, 100, batch_first=True)\n",
       "  (Regressor): Linear(in_features=100, out_features=3, bias=True)\n",
       ")"
      ]
     },
     "execution_count": 16,
     "metadata": {},
     "output_type": "execute_result"
    }
   ],
   "source": [
    "net.to(device)"
   ]
  },
  {
   "cell_type": "code",
   "execution_count": 17,
   "id": "9dd24fbb",
   "metadata": {},
   "outputs": [],
   "source": [
    "optim = torch.optim.Adam(net.parameters(), lr=1e-3, weight_decay=1.5e-3)\n",
    "criterion = nn.MSELoss()\n",
    "\n",
    "esp = air.utils.EarlyStopping(30)\n",
    "\n"
   ]
  },
  {
   "cell_type": "code",
   "execution_count": 18,
   "id": "c1a7d1c8",
   "metadata": {},
   "outputs": [],
   "source": [
    "xV, yV = next(iter(dlr_valid))"
   ]
  },
  {
   "cell_type": "code",
   "execution_count": 19,
   "id": "6a9e516c",
   "metadata": {},
   "outputs": [
    {
     "name": "stdout",
     "output_type": "stream",
     "text": [
      "epoch=0, lossT=259.935, lossV=219.447, minV=inf  |  @Sun Oct 29 15:37:13 2023\n",
      "epoch=10, lossT=53.477, lossV=55.680, minV=58.878  |  @Sun Oct 29 15:37:28 2023\n",
      "epoch=20, lossT=38.602, lossV=40.913, minV=41.790  |  @Sun Oct 29 15:37:44 2023\n"
     ]
    }
   ],
   "source": [
    "lossesT = []\n",
    "lossesE = []\n",
    "lossesV = []\n",
    "\n",
    "for epoch in range(30):\n",
    "    lossesE = []\n",
    "    net.train()\n",
    "    for x, y in dlr_train:\n",
    "        optim.zero_grad()\n",
    "\n",
    "        y_hat = net(x.to(device))\n",
    "        loss = criterion(y_hat.view(-1), y.view(-1).to(device))\n",
    "        if np.isnan(loss.item()):\n",
    "            print(\"nan loss! Stop\")\n",
    "            break\n",
    "        loss.backward()\n",
    "        optim.step()\n",
    "        lossesE.append(loss.item())\n",
    "    lossesT.append(np.array(lossesE).mean())\n",
    "    \n",
    "    net.eval()\n",
    "    \n",
    "    with torch.no_grad():\n",
    "        yV_hat = net(xV.to(device))\n",
    "        lossesV.append(criterion(yV_hat.view(-1), yV.view(-1).to(device)).item())\n",
    "    if epoch % 10 == 0:\n",
    "        print(f\"epoch={epoch}, lossT={lossesT[-1]:.3f}, lossV={lossesV[-1]:.3f}, minV={esp.val_loss_min:.3f}  |  @{time.ctime()}\")\n",
    "    esp(lossesV[-1], net)\n",
    "    if esp.early_stop:\n",
    "        print(f\"Early stopping at {epoch}\")\n",
    "        break\n",
    "\n",
    "    "
   ]
  },
  {
   "cell_type": "code",
   "execution_count": null,
   "id": "7296da28",
   "metadata": {},
   "outputs": [],
   "source": []
  },
  {
   "cell_type": "code",
   "execution_count": null,
   "id": "deaf27c0",
   "metadata": {},
   "outputs": [],
   "source": []
  },
  {
   "cell_type": "code",
   "execution_count": null,
   "id": "4aa0b537",
   "metadata": {},
   "outputs": [],
   "source": []
  },
  {
   "cell_type": "code",
   "execution_count": null,
   "id": "9e5c5677",
   "metadata": {},
   "outputs": [],
   "source": []
  },
  {
   "cell_type": "code",
   "execution_count": null,
   "id": "d551421b",
   "metadata": {},
   "outputs": [],
   "source": []
  }
 ],
 "metadata": {
  "kernelspec": {
   "display_name": "ai",
   "language": "python",
   "name": "ai"
  },
  "language_info": {
   "codemirror_mode": {
    "name": "ipython",
    "version": 3
   },
   "file_extension": ".py",
   "mimetype": "text/x-python",
   "name": "python",
   "nbconvert_exporter": "python",
   "pygments_lexer": "ipython3",
   "version": "3.11.4"
  }
 },
 "nbformat": 4,
 "nbformat_minor": 5
}
