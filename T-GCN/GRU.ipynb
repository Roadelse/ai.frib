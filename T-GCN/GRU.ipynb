{
 "cells": [
  {
   "cell_type": "code",
   "execution_count": 1,
   "id": "8d88d15d",
   "metadata": {},
   "outputs": [],
   "source": [
    "import os, os.path\n",
    "import sys\n",
    "import time\n",
    "\n",
    "import shutil"
   ]
  },
  {
   "cell_type": "code",
   "execution_count": 2,
   "id": "0271d733",
   "metadata": {},
   "outputs": [],
   "source": [
    "import numpy as np\n",
    "import pandas as pd\n",
    "import matplotlib.pyplot as plt"
   ]
  },
  {
   "cell_type": "code",
   "execution_count": 3,
   "id": "ee353fbb",
   "metadata": {},
   "outputs": [],
   "source": [
    "\n",
    "import torch\n",
    "from torch.nn import Linear\n",
    "import torch.nn as nn\n",
    "from torch_geometric.nn import GCNConv\n",
    "\n",
    "# from torch_geometric.data import Data\n",
    "# from torch_geometric.loader import DataLoader\n",
    "\n",
    "from torch.utils.data import random_split\n",
    "\n",
    "\n"
   ]
  },
  {
   "cell_type": "code",
   "execution_count": 4,
   "id": "9ee6ca32",
   "metadata": {},
   "outputs": [],
   "source": [
    "\n",
    "sys.path.append('../../ai.rdee')\n",
    "import ai_rdee"
   ]
  },
  {
   "cell_type": "code",
   "execution_count": 5,
   "id": "f487ef71",
   "metadata": {},
   "outputs": [
    {
     "data": {
      "text/plain": [
       "device(type='cuda')"
      ]
     },
     "execution_count": 5,
     "metadata": {},
     "output_type": "execute_result"
    }
   ],
   "source": [
    "device = torch.device('cuda' if torch.cuda.is_available() else 'cpu')\n",
    "device"
   ]
  },
  {
   "cell_type": "code",
   "execution_count": 6,
   "id": "7b671206",
   "metadata": {},
   "outputs": [],
   "source": [
    "class TGCN_dataset(torch.utils.data.Dataset):\n",
    "    def __init__(self):\n",
    "        for f in self.processed_file_names:\n",
    "            if not os.path.exists(f):\n",
    "                self.process()\n",
    "        self.data = torch.load(self.processed_file_names[0])\n",
    "\n",
    "    @property\n",
    "    def raw_file_names(self):\n",
    "        return ['data/sz_adj.csv', 'data/sz_speed.csv']\n",
    "\n",
    "    @property\n",
    "    def processed_file_names(self):\n",
    "        return ['data_sz_GRU.pt']\n",
    "\n",
    "    def download(self):\n",
    "        # Download to `self.raw_dir`.\n",
    "        print(\"Please download the data manually!\")\n",
    "        sys.exit(0)\n",
    "        \n",
    "    def process(self):\n",
    "        for f in self.raw_file_names:\n",
    "            if not os.path.exists(f):\n",
    "                slef.download()\n",
    "                break\n",
    "        print(\"Processing ... ...\")\n",
    "        # Read data into huge `Data` list.\n",
    "        fn_adj, fn_spd = self.raw_file_names\n",
    "        df_spd = pd.read_csv(fn_spd)\n",
    "        S = df_spd.values  # nTimes x nNodes\n",
    "        \n",
    "        data = np.zeros((S.shape[0]-14, 15, S.shape[1]))\n",
    "        for i in range(data.shape[0]):\n",
    "            data[i,:,:] = S[i:i+15, :]\n",
    "        \n",
    "        torch.save(torch.Tensor(data), self.processed_file_names[0])\n",
    "        print(\"Process done.\")\n",
    "        \n",
    "    def clean(self):\n",
    "        os.remove('data_sz_GRU.pt')\n",
    "        \n",
    "    def __len__(self):\n",
    "        return self.data.shape[0]\n",
    "    \n",
    "    def __getitem__(self, idx: int):\n",
    "        return self.data[idx, :, :]"
   ]
  },
  {
   "cell_type": "code",
   "execution_count": 7,
   "id": "f0da1c21",
   "metadata": {},
   "outputs": [],
   "source": [
    "ds = TGCN_dataset()"
   ]
  },
  {
   "cell_type": "code",
   "execution_count": 8,
   "id": "0b27c819",
   "metadata": {},
   "outputs": [],
   "source": [
    "ratio_valid = 0.2"
   ]
  },
  {
   "cell_type": "code",
   "execution_count": 9,
   "id": "9a8412f5",
   "metadata": {},
   "outputs": [],
   "source": [
    "size_valid = int(ratio_valid * len(ds))\n",
    "size_train = len(ds) - size_valid\n",
    "ds_learn, ds_valid = random_split(ds, [size_train, size_valid])"
   ]
  },
  {
   "cell_type": "code",
   "execution_count": 10,
   "id": "e4a17aa4",
   "metadata": {},
   "outputs": [],
   "source": [
    "def collate_fn(batch):\n",
    "#     global b1\n",
    "#     b1 = batch\n",
    "    # batch: (batchSize, seq, nFeatures)\n",
    "    batchTS = torch.stack(batch)\n",
    "    return batchTS[:, :12, :], batchTS[:, 12:, :].permute(0, 2, 1).contiguous()\n",
    "#     return batchTS[:, :12, :].permute(0,2,1).contiguous(), batchTS[:, 12:, :].permute(0,2,1).contiguous()# .view(batchTS.shape[0], -1)"
   ]
  },
  {
   "cell_type": "code",
   "execution_count": 11,
   "id": "93427b94",
   "metadata": {},
   "outputs": [],
   "source": [
    "dlr_train = torch.utils.data.DataLoader(ds_learn, shuffle=True, batch_size=64, collate_fn=collate_fn)"
   ]
  },
  {
   "cell_type": "code",
   "execution_count": 12,
   "id": "1f4e6553",
   "metadata": {},
   "outputs": [],
   "source": [
    "dlr_valid = torch.utils.data.DataLoader(ds_valid, shuffle=True, batch_size=size_valid, collate_fn=collate_fn)"
   ]
  },
  {
   "cell_type": "code",
   "execution_count": 13,
   "id": "abb27e77",
   "metadata": {},
   "outputs": [
    {
     "name": "stdout",
     "output_type": "stream",
     "text": [
      "torch.Size([64, 12, 156])\n",
      "torch.Size([64, 156, 3])\n"
     ]
    }
   ],
   "source": [
    "a, b = next(iter(dlr_train))\n",
    "print(a.shape)\n",
    "print(b.shape)"
   ]
  },
  {
   "cell_type": "code",
   "execution_count": 16,
   "id": "eae19a4f",
   "metadata": {},
   "outputs": [],
   "source": [
    "net = GRU(156, 100)"
   ]
  },
  {
   "cell_type": "code",
   "execution_count": 17,
   "id": "7a84ecab",
   "metadata": {},
   "outputs": [
    {
     "data": {
      "text/plain": [
       "torch.Size([64, 156, 3])"
      ]
     },
     "execution_count": 17,
     "metadata": {},
     "output_type": "execute_result"
    }
   ],
   "source": [
    "net(a).shape"
   ]
  },
  {
   "cell_type": "code",
   "execution_count": 18,
   "id": "f11e4b3c",
   "metadata": {},
   "outputs": [
    {
     "data": {
      "text/plain": [
       "torch.Size([64, 156, 3])"
      ]
     },
     "execution_count": 18,
     "metadata": {},
     "output_type": "execute_result"
    }
   ],
   "source": [
    "b.shape"
   ]
  },
  {
   "cell_type": "code",
   "execution_count": 19,
   "id": "3a584c0a",
   "metadata": {},
   "outputs": [
    {
     "data": {
      "text/plain": [
       "GRU(\n",
       "  (gru_cell): GRUCell(\n",
       "    (linear1): GRULinear()\n",
       "    (linear2): GRULinear()\n",
       "  )\n",
       "  (L1): Linear(in_features=100, out_features=3, bias=True)\n",
       ")"
      ]
     },
     "execution_count": 19,
     "metadata": {},
     "output_type": "execute_result"
    }
   ],
   "source": [
    "net.to(device)"
   ]
  },
  {
   "cell_type": "code",
   "execution_count": 20,
   "id": "9dd24fbb",
   "metadata": {},
   "outputs": [],
   "source": [
    "optim = torch.optim.Adam(net.parameters(), lr=1e-3, weight_decay=1.5e-3)\n",
    "criterion = nn.MSELoss()\n",
    "\n",
    "esp = ai_rdee.AiTools.EarlyStopping(60)\n",
    "\n"
   ]
  },
  {
   "cell_type": "code",
   "execution_count": 14,
   "id": "c1a7d1c8",
   "metadata": {},
   "outputs": [],
   "source": [
    "xV, yV = next(iter(dlr_valid))"
   ]
  },
  {
   "cell_type": "code",
   "execution_count": 18,
   "id": "25332823",
   "metadata": {},
   "outputs": [
    {
     "data": {
      "text/plain": [
       "tensor(11.9676)"
      ]
     },
     "execution_count": 18,
     "metadata": {},
     "output_type": "execute_result"
    }
   ],
   "source": [
    "yV.mean()"
   ]
  },
  {
   "cell_type": "code",
   "execution_count": 22,
   "id": "6a9e516c",
   "metadata": {},
   "outputs": [
    {
     "name": "stdout",
     "output_type": "stream",
     "text": [
      "epoch=0, lossT=25.913, lossV=26.406, minV=25.764  |  @Mon Oct  9 16:49:43 2023\n",
      "epoch=10, lossT=25.938, lossV=25.883, minV=25.761  |  @Mon Oct  9 16:49:51 2023\n",
      "epoch=20, lossT=25.360, lossV=25.748, minV=25.741  |  @Mon Oct  9 16:49:59 2023\n",
      "epoch=30, lossT=25.359, lossV=25.830, minV=25.741  |  @Mon Oct  9 16:50:07 2023\n",
      "epoch=40, lossT=25.630, lossV=25.792, minV=25.741  |  @Mon Oct  9 16:50:14 2023\n",
      "epoch=50, lossT=25.380, lossV=25.921, minV=25.730  |  @Mon Oct  9 16:50:22 2023\n",
      "epoch=60, lossT=25.404, lossV=25.824, minV=25.730  |  @Mon Oct  9 16:50:30 2023\n",
      "epoch=70, lossT=25.170, lossV=25.734, minV=25.730  |  @Mon Oct  9 16:50:37 2023\n",
      "epoch=80, lossT=25.525, lossV=25.791, minV=25.730  |  @Mon Oct  9 16:50:45 2023\n",
      "epoch=90, lossT=25.987, lossV=26.131, minV=25.718  |  @Mon Oct  9 16:50:53 2023\n",
      "epoch=100, lossT=25.098, lossV=25.715, minV=25.718  |  @Mon Oct  9 16:51:00 2023\n",
      "epoch=110, lossT=26.209, lossV=25.753, minV=25.715  |  @Mon Oct  9 16:51:08 2023\n",
      "epoch=120, lossT=24.944, lossV=25.720, minV=25.709  |  @Mon Oct  9 16:51:16 2023\n",
      "epoch=130, lossT=25.538, lossV=25.761, minV=25.709  |  @Mon Oct  9 16:51:23 2023\n",
      "epoch=140, lossT=25.337, lossV=25.719, minV=25.709  |  @Mon Oct  9 16:51:31 2023\n",
      "epoch=150, lossT=24.963, lossV=25.855, minV=25.697  |  @Mon Oct  9 16:51:39 2023\n",
      "epoch=160, lossT=25.461, lossV=26.127, minV=25.697  |  @Mon Oct  9 16:51:46 2023\n",
      "epoch=170, lossT=25.366, lossV=25.801, minV=25.681  |  @Mon Oct  9 16:51:54 2023\n",
      "epoch=180, lossT=24.794, lossV=25.743, minV=25.681  |  @Mon Oct  9 16:52:02 2023\n",
      "epoch=190, lossT=25.183, lossV=25.772, minV=25.667  |  @Mon Oct  9 16:52:09 2023\n",
      "epoch=200, lossT=25.014, lossV=25.813, minV=25.667  |  @Mon Oct  9 16:52:17 2023\n",
      "epoch=210, lossT=24.893, lossV=25.690, minV=25.667  |  @Mon Oct  9 16:52:24 2023\n",
      "epoch=220, lossT=24.847, lossV=25.659, minV=25.667  |  @Mon Oct  9 16:52:32 2023\n",
      "epoch=230, lossT=24.720, lossV=25.756, minV=25.659  |  @Mon Oct  9 16:52:40 2023\n",
      "epoch=240, lossT=25.221, lossV=25.694, minV=25.659  |  @Mon Oct  9 16:52:47 2023\n",
      "epoch=250, lossT=25.894, lossV=25.792, minV=25.659  |  @Mon Oct  9 16:52:55 2023\n",
      "epoch=260, lossT=24.859, lossV=25.699, minV=25.631  |  @Mon Oct  9 16:53:03 2023\n",
      "epoch=270, lossT=24.626, lossV=25.811, minV=25.631  |  @Mon Oct  9 16:53:11 2023\n",
      "epoch=280, lossT=24.557, lossV=25.613, minV=25.631  |  @Mon Oct  9 16:53:18 2023\n",
      "epoch=290, lossT=25.108, lossV=25.771, minV=25.613  |  @Mon Oct  9 16:53:26 2023\n",
      "epoch=300, lossT=25.113, lossV=25.741, minV=25.613  |  @Mon Oct  9 16:53:33 2023\n",
      "epoch=310, lossT=25.400, lossV=25.767, minV=25.609  |  @Mon Oct  9 16:53:41 2023\n",
      "epoch=320, lossT=24.907, lossV=25.673, minV=25.609  |  @Mon Oct  9 16:53:49 2023\n",
      "epoch=330, lossT=24.838, lossV=25.680, minV=25.609  |  @Mon Oct  9 16:53:56 2023\n",
      "epoch=340, lossT=24.564, lossV=25.594, minV=25.609  |  @Mon Oct  9 16:54:04 2023\n",
      "epoch=350, lossT=24.890, lossV=26.050, minV=25.594  |  @Mon Oct  9 16:54:11 2023\n",
      "epoch=360, lossT=24.652, lossV=25.728, minV=25.594  |  @Mon Oct  9 16:54:19 2023\n",
      "epoch=370, lossT=25.600, lossV=26.075, minV=25.594  |  @Mon Oct  9 16:54:27 2023\n",
      "epoch=380, lossT=24.301, lossV=25.666, minV=25.594  |  @Mon Oct  9 16:54:34 2023\n",
      "epoch=390, lossT=24.981, lossV=25.633, minV=25.594  |  @Mon Oct  9 16:54:42 2023\n",
      "epoch=400, lossT=24.853, lossV=25.730, minV=25.573  |  @Mon Oct  9 16:54:50 2023\n",
      "epoch=410, lossT=24.862, lossV=25.691, minV=25.573  |  @Mon Oct  9 16:54:57 2023\n",
      "epoch=420, lossT=24.360, lossV=25.635, minV=25.573  |  @Mon Oct  9 16:55:05 2023\n",
      "epoch=430, lossT=24.363, lossV=25.696, minV=25.573  |  @Mon Oct  9 16:55:12 2023\n",
      "epoch=440, lossT=24.687, lossV=25.831, minV=25.573  |  @Mon Oct  9 16:55:20 2023\n",
      "epoch=450, lossT=24.963, lossV=25.840, minV=25.573  |  @Mon Oct  9 16:55:28 2023\n",
      "Early stopping at 455\n"
     ]
    }
   ],
   "source": [
    "lossesT = []\n",
    "lossesE = []\n",
    "lossesV = []\n",
    "\n",
    "for epoch in range(3000):\n",
    "    lossesE = []\n",
    "    net.train()\n",
    "    for x, y in dlr_train:\n",
    "        optim.zero_grad()\n",
    "\n",
    "        y_hat = net(x.to(device))\n",
    "        loss = criterion(y_hat.view(-1), y.view(-1).to(device))\n",
    "        if np.isnan(loss.item()):\n",
    "            print(\"nan loss! Stop\")\n",
    "            break\n",
    "        loss.backward()\n",
    "        optim.step()\n",
    "        lossesE.append(loss.item())\n",
    "    lossesT.append(np.array(lossesE).mean())\n",
    "    \n",
    "    net.eval()\n",
    "    \n",
    "    with torch.no_grad():\n",
    "        yV_hat = net(xV.to(device))\n",
    "        lossesV.append(criterion(yV_hat.view(-1), yV.view(-1).to(device)).item())\n",
    "    if epoch % 10 == 0:\n",
    "        print(f\"epoch={epoch}, lossT={lossesT[-1]:.3f}, lossV={lossesV[-1]:.3f}, minV={esp.val_loss_min:.3f}  |  @{time.ctime()}\")\n",
    "    esp(lossesV[-1], net)\n",
    "    if esp.early_stop:\n",
    "        print(f\"Early stopping at {epoch}\")\n",
    "        break\n",
    "\n",
    "    "
   ]
  },
  {
   "cell_type": "code",
   "execution_count": 23,
   "id": "96eaf461",
   "metadata": {},
   "outputs": [
    {
     "name": "stdout",
     "output_type": "stream",
     "text": [
      "target : tg1\n",
      "size   = 277056.000\n",
      "r      =      0.915\n",
      "r2     =      0.837\n",
      "rmse   =      5.065\n",
      "nRMSE  =      0.404\n",
      "MSE    =     25.654\n"
     ]
    }
   ],
   "source": [
    "rgp = ai_rdee.Regression.RegressionPerformance()\n",
    "rgp.valid(yV_hat.detach().cpu().view(-1), yV.reshape(-1))\n",
    "rgp.valid.show()"
   ]
  },
  {
   "cell_type": "code",
   "execution_count": 24,
   "id": "85061fe1",
   "metadata": {},
   "outputs": [
    {
     "name": "stderr",
     "output_type": "stream",
     "text": [
      "D:\\XAPP\\miniconda3\\envs\\ai\\Lib\\site-packages\\torchaudio\\backend\\utils.py:74: UserWarning: No audio backend is available.\n",
      "  warnings.warn(\"No audio backend is available.\")\n"
     ]
    }
   ],
   "source": [
    "import torchmetrics"
   ]
  },
  {
   "cell_type": "code",
   "execution_count": 25,
   "id": "6650c500",
   "metadata": {},
   "outputs": [
    {
     "data": {
      "text/plain": [
       "tensor(25.6538)"
      ]
     },
     "execution_count": 25,
     "metadata": {},
     "output_type": "execute_result"
    }
   ],
   "source": [
    "torchmetrics.functional.mean_squared_error(yV_hat.detach().cpu().view(-1), yV.reshape(-1))"
   ]
  },
  {
   "cell_type": "code",
   "execution_count": null,
   "id": "8bdc3a49",
   "metadata": {},
   "outputs": [],
   "source": []
  },
  {
   "cell_type": "code",
   "execution_count": null,
   "id": "ca28cc87",
   "metadata": {},
   "outputs": [],
   "source": []
  },
  {
   "cell_type": "code",
   "execution_count": 45,
   "id": "18028c78",
   "metadata": {},
   "outputs": [],
   "source": [
    "class myGRU(nn.Module):\n",
    "    def __init__(self, input_dim, GRU_dim, output_dim):\n",
    "        super().__init__()\n",
    "        self.GRU_dim = GRU_dim\n",
    "        self.GRULayer = nn.GRU(input_dim, GRU_dim, batch_first=True)\n",
    "        self.Regressor = nn.Linear(GRU_dim, output_dim)\n",
    "        \n",
    "    def forward(self, inputs):\n",
    "        batch_size, num_nodes, seq_len = inputs.shape\n",
    "#         h0 = torch.zeros(batch_size, num_nodes * self.GRU_dim).type_as(\n",
    "#             inputs\n",
    "#         )\n",
    "#         print(inputs.shape)\n",
    "        out, h_gru = self.GRULayer(inputs.view(batch_size * num_nodes, seq_len, 1))  # h_gru : (1, batchsize, hidden_dim)\n",
    "#         print(h_gru.shape)\n",
    "        x = self.Regressor(h_gru.squeeze(0))\n",
    "        return x"
   ]
  },
  {
   "cell_type": "code",
   "execution_count": null,
   "id": "316d3e9d",
   "metadata": {},
   "outputs": [],
   "source": [
    "net = GRU()\n",
    "\n",
    "net.to(device)\n",
    "\n",
    "optim = torch.optim.Adam(net.parameters(), lr=1e-3, weight_decay=1.5e-3)\n",
    "criterion = nn.MSELoss()\n",
    "\n",
    "esp = ai_rdee.AiTools.EarlyStopping(60)\n",
    "\n",
    "xV, yV = next(iter(dlr_valid))"
   ]
  },
  {
   "cell_type": "code",
   "execution_count": 20,
   "id": "6d5e5455",
   "metadata": {},
   "outputs": [
    {
     "name": "stdout",
     "output_type": "stream",
     "text": [
      "epoch=0, lossT=184.479, lossV=97.798, minV=inf  |  @Mon Oct  9 16:07:06 2023\n",
      "epoch=1, lossT=84.172, lossV=60.202, minV=97.798  |  @Mon Oct  9 16:07:07 2023\n",
      "epoch=2, lossT=59.408, lossV=47.137, minV=60.202  |  @Mon Oct  9 16:07:08 2023\n",
      "epoch=3, lossT=48.835, lossV=40.663, minV=47.137  |  @Mon Oct  9 16:07:09 2023\n",
      "epoch=4, lossT=43.205, lossV=37.166, minV=40.663  |  @Mon Oct  9 16:07:10 2023\n",
      "epoch=5, lossT=39.902, lossV=34.652, minV=37.166  |  @Mon Oct  9 16:07:10 2023\n",
      "epoch=6, lossT=37.226, lossV=32.933, minV=34.652  |  @Mon Oct  9 16:07:11 2023\n",
      "epoch=7, lossT=35.757, lossV=31.846, minV=32.933  |  @Mon Oct  9 16:07:12 2023\n",
      "epoch=8, lossT=34.244, lossV=30.909, minV=31.846  |  @Mon Oct  9 16:07:13 2023\n",
      "epoch=9, lossT=33.464, lossV=30.360, minV=30.909  |  @Mon Oct  9 16:07:14 2023\n",
      "epoch=10, lossT=32.819, lossV=29.817, minV=30.360  |  @Mon Oct  9 16:07:15 2023\n",
      "epoch=11, lossT=32.101, lossV=29.645, minV=29.817  |  @Mon Oct  9 16:07:16 2023\n",
      "epoch=12, lossT=31.888, lossV=29.287, minV=29.645  |  @Mon Oct  9 16:07:17 2023\n",
      "epoch=13, lossT=31.249, lossV=28.894, minV=29.287  |  @Mon Oct  9 16:07:17 2023\n",
      "epoch=14, lossT=31.251, lossV=28.737, minV=28.894  |  @Mon Oct  9 16:07:18 2023\n",
      "epoch=15, lossT=30.786, lossV=28.546, minV=28.737  |  @Mon Oct  9 16:07:19 2023\n",
      "epoch=16, lossT=30.731, lossV=28.446, minV=28.546  |  @Mon Oct  9 16:07:20 2023\n",
      "epoch=17, lossT=30.487, lossV=28.375, minV=28.446  |  @Mon Oct  9 16:07:21 2023\n",
      "epoch=18, lossT=30.428, lossV=28.374, minV=28.375  |  @Mon Oct  9 16:07:22 2023\n",
      "epoch=19, lossT=30.499, lossV=28.337, minV=28.374  |  @Mon Oct  9 16:07:23 2023\n",
      "epoch=20, lossT=30.367, lossV=28.249, minV=28.337  |  @Mon Oct  9 16:07:24 2023\n",
      "epoch=21, lossT=30.218, lossV=28.198, minV=28.249  |  @Mon Oct  9 16:07:25 2023\n",
      "epoch=22, lossT=30.199, lossV=28.160, minV=28.198  |  @Mon Oct  9 16:07:25 2023\n",
      "epoch=23, lossT=30.286, lossV=28.143, minV=28.160  |  @Mon Oct  9 16:07:26 2023\n",
      "epoch=24, lossT=30.144, lossV=28.235, minV=28.143  |  @Mon Oct  9 16:07:27 2023\n",
      "epoch=25, lossT=30.140, lossV=28.200, minV=28.143  |  @Mon Oct  9 16:07:28 2023\n",
      "epoch=26, lossT=30.102, lossV=28.070, minV=28.143  |  @Mon Oct  9 16:07:29 2023\n",
      "epoch=27, lossT=30.104, lossV=28.185, minV=28.070  |  @Mon Oct  9 16:07:30 2023\n",
      "epoch=28, lossT=30.153, lossV=28.150, minV=28.070  |  @Mon Oct  9 16:07:31 2023\n",
      "epoch=29, lossT=30.020, lossV=28.043, minV=28.070  |  @Mon Oct  9 16:07:32 2023\n",
      "epoch=30, lossT=30.057, lossV=28.134, minV=28.043  |  @Mon Oct  9 16:07:32 2023\n",
      "epoch=31, lossT=30.117, lossV=28.090, minV=28.043  |  @Mon Oct  9 16:07:33 2023\n",
      "epoch=32, lossT=30.015, lossV=28.041, minV=28.043  |  @Mon Oct  9 16:07:34 2023\n",
      "epoch=33, lossT=29.992, lossV=28.012, minV=28.041  |  @Mon Oct  9 16:07:35 2023\n",
      "epoch=34, lossT=30.060, lossV=28.046, minV=28.012  |  @Mon Oct  9 16:07:36 2023\n",
      "epoch=35, lossT=30.013, lossV=28.140, minV=28.012  |  @Mon Oct  9 16:07:37 2023\n",
      "epoch=36, lossT=29.963, lossV=28.013, minV=28.012  |  @Mon Oct  9 16:07:38 2023\n",
      "epoch=37, lossT=30.099, lossV=28.018, minV=28.012  |  @Mon Oct  9 16:07:39 2023\n",
      "epoch=38, lossT=30.110, lossV=27.994, minV=28.012  |  @Mon Oct  9 16:07:39 2023\n",
      "epoch=39, lossT=30.056, lossV=28.154, minV=27.994  |  @Mon Oct  9 16:07:40 2023\n",
      "epoch=40, lossT=29.977, lossV=27.998, minV=27.994  |  @Mon Oct  9 16:07:41 2023\n",
      "epoch=41, lossT=30.022, lossV=28.007, minV=27.994  |  @Mon Oct  9 16:07:42 2023\n",
      "epoch=42, lossT=30.038, lossV=28.123, minV=27.994  |  @Mon Oct  9 16:07:43 2023\n",
      "epoch=43, lossT=30.167, lossV=28.062, minV=27.994  |  @Mon Oct  9 16:07:44 2023\n",
      "epoch=44, lossT=29.897, lossV=28.096, minV=27.994  |  @Mon Oct  9 16:07:45 2023\n",
      "epoch=45, lossT=29.917, lossV=27.997, minV=27.994  |  @Mon Oct  9 16:07:45 2023\n",
      "epoch=46, lossT=30.048, lossV=28.037, minV=27.994  |  @Mon Oct  9 16:07:46 2023\n",
      "epoch=47, lossT=29.982, lossV=28.031, minV=27.994  |  @Mon Oct  9 16:07:47 2023\n",
      "epoch=48, lossT=29.908, lossV=27.974, minV=27.994  |  @Mon Oct  9 16:07:48 2023\n",
      "epoch=49, lossT=29.941, lossV=27.978, minV=27.974  |  @Mon Oct  9 16:07:49 2023\n",
      "epoch=50, lossT=29.942, lossV=27.981, minV=27.974  |  @Mon Oct  9 16:07:50 2023\n",
      "epoch=51, lossT=29.850, lossV=28.065, minV=27.974  |  @Mon Oct  9 16:07:51 2023\n",
      "epoch=52, lossT=29.951, lossV=28.013, minV=27.974  |  @Mon Oct  9 16:07:52 2023\n",
      "epoch=53, lossT=29.956, lossV=27.941, minV=27.974  |  @Mon Oct  9 16:07:52 2023\n",
      "epoch=54, lossT=29.862, lossV=27.950, minV=27.941  |  @Mon Oct  9 16:07:53 2023\n",
      "epoch=55, lossT=29.811, lossV=28.043, minV=27.941  |  @Mon Oct  9 16:07:54 2023\n",
      "epoch=56, lossT=29.986, lossV=27.944, minV=27.941  |  @Mon Oct  9 16:07:55 2023\n",
      "epoch=57, lossT=29.972, lossV=28.005, minV=27.941  |  @Mon Oct  9 16:07:56 2023\n",
      "epoch=58, lossT=29.838, lossV=28.186, minV=27.941  |  @Mon Oct  9 16:07:57 2023\n",
      "epoch=59, lossT=29.861, lossV=28.085, minV=27.941  |  @Mon Oct  9 16:07:58 2023\n",
      "epoch=60, lossT=29.850, lossV=28.083, minV=27.941  |  @Mon Oct  9 16:07:59 2023\n",
      "epoch=61, lossT=30.058, lossV=28.229, minV=27.941  |  @Mon Oct  9 16:07:59 2023\n",
      "epoch=62, lossT=29.907, lossV=28.000, minV=27.941  |  @Mon Oct  9 16:08:00 2023\n",
      "epoch=63, lossT=29.922, lossV=27.992, minV=27.941  |  @Mon Oct  9 16:08:01 2023\n",
      "epoch=64, lossT=29.929, lossV=27.942, minV=27.941  |  @Mon Oct  9 16:08:02 2023\n",
      "epoch=65, lossT=29.797, lossV=27.990, minV=27.941  |  @Mon Oct  9 16:08:03 2023\n",
      "epoch=66, lossT=29.833, lossV=27.942, minV=27.941  |  @Mon Oct  9 16:08:04 2023\n",
      "epoch=67, lossT=29.915, lossV=27.955, minV=27.941  |  @Mon Oct  9 16:08:05 2023\n",
      "epoch=68, lossT=29.833, lossV=27.957, minV=27.941  |  @Mon Oct  9 16:08:05 2023\n",
      "epoch=69, lossT=30.024, lossV=27.942, minV=27.941  |  @Mon Oct  9 16:08:06 2023\n",
      "epoch=70, lossT=29.918, lossV=27.949, minV=27.941  |  @Mon Oct  9 16:08:07 2023\n",
      "epoch=71, lossT=30.026, lossV=27.923, minV=27.941  |  @Mon Oct  9 16:08:08 2023\n",
      "epoch=72, lossT=29.839, lossV=27.926, minV=27.923  |  @Mon Oct  9 16:08:09 2023\n",
      "epoch=73, lossT=29.764, lossV=27.936, minV=27.923  |  @Mon Oct  9 16:08:10 2023\n",
      "epoch=74, lossT=29.960, lossV=27.949, minV=27.923  |  @Mon Oct  9 16:08:11 2023\n",
      "epoch=75, lossT=30.043, lossV=28.025, minV=27.923  |  @Mon Oct  9 16:08:12 2023\n",
      "epoch=76, lossT=29.789, lossV=27.913, minV=27.923  |  @Mon Oct  9 16:08:12 2023\n",
      "epoch=77, lossT=29.871, lossV=28.001, minV=27.913  |  @Mon Oct  9 16:08:13 2023\n",
      "epoch=78, lossT=29.755, lossV=27.984, minV=27.913  |  @Mon Oct  9 16:08:14 2023\n",
      "epoch=79, lossT=29.870, lossV=27.912, minV=27.913  |  @Mon Oct  9 16:08:15 2023\n",
      "epoch=80, lossT=29.933, lossV=27.913, minV=27.912  |  @Mon Oct  9 16:08:16 2023\n",
      "epoch=81, lossT=29.866, lossV=27.990, minV=27.912  |  @Mon Oct  9 16:08:17 2023\n",
      "epoch=82, lossT=29.921, lossV=27.918, minV=27.912  |  @Mon Oct  9 16:08:18 2023\n",
      "epoch=83, lossT=30.046, lossV=28.064, minV=27.912  |  @Mon Oct  9 16:08:18 2023\n",
      "epoch=84, lossT=29.920, lossV=27.923, minV=27.912  |  @Mon Oct  9 16:08:19 2023\n",
      "epoch=85, lossT=29.756, lossV=27.909, minV=27.912  |  @Mon Oct  9 16:08:20 2023\n",
      "epoch=86, lossT=29.717, lossV=28.103, minV=27.909  |  @Mon Oct  9 16:08:21 2023\n",
      "epoch=87, lossT=29.933, lossV=27.962, minV=27.909  |  @Mon Oct  9 16:08:22 2023\n",
      "epoch=88, lossT=29.729, lossV=27.886, minV=27.909  |  @Mon Oct  9 16:08:23 2023\n",
      "epoch=89, lossT=29.750, lossV=27.967, minV=27.886  |  @Mon Oct  9 16:08:24 2023\n",
      "epoch=90, lossT=29.758, lossV=27.905, minV=27.886  |  @Mon Oct  9 16:08:25 2023\n",
      "epoch=91, lossT=29.731, lossV=27.966, minV=27.886  |  @Mon Oct  9 16:08:25 2023\n",
      "epoch=92, lossT=29.817, lossV=28.041, minV=27.886  |  @Mon Oct  9 16:08:26 2023\n",
      "epoch=93, lossT=29.828, lossV=27.959, minV=27.886  |  @Mon Oct  9 16:08:27 2023\n",
      "epoch=94, lossT=29.719, lossV=27.910, minV=27.886  |  @Mon Oct  9 16:08:28 2023\n",
      "epoch=95, lossT=30.047, lossV=27.896, minV=27.886  |  @Mon Oct  9 16:08:29 2023\n",
      "epoch=96, lossT=29.868, lossV=27.937, minV=27.886  |  @Mon Oct  9 16:08:30 2023\n",
      "epoch=97, lossT=29.777, lossV=27.915, minV=27.886  |  @Mon Oct  9 16:08:31 2023\n",
      "epoch=98, lossT=29.845, lossV=27.899, minV=27.886  |  @Mon Oct  9 16:08:32 2023\n",
      "epoch=99, lossT=29.976, lossV=28.003, minV=27.886  |  @Mon Oct  9 16:08:32 2023\n",
      "epoch=100, lossT=29.933, lossV=27.961, minV=27.886  |  @Mon Oct  9 16:08:33 2023\n",
      "epoch=101, lossT=29.745, lossV=27.975, minV=27.886  |  @Mon Oct  9 16:08:34 2023\n",
      "epoch=102, lossT=29.749, lossV=27.956, minV=27.886  |  @Mon Oct  9 16:08:35 2023\n"
     ]
    },
    {
     "name": "stdout",
     "output_type": "stream",
     "text": [
      "epoch=103, lossT=29.742, lossV=27.928, minV=27.886  |  @Mon Oct  9 16:08:36 2023\n",
      "epoch=104, lossT=29.694, lossV=27.934, minV=27.886  |  @Mon Oct  9 16:08:37 2023\n",
      "epoch=105, lossT=29.795, lossV=27.941, minV=27.886  |  @Mon Oct  9 16:08:38 2023\n",
      "epoch=106, lossT=29.716, lossV=27.875, minV=27.886  |  @Mon Oct  9 16:08:39 2023\n",
      "epoch=107, lossT=29.890, lossV=27.891, minV=27.875  |  @Mon Oct  9 16:08:40 2023\n",
      "epoch=108, lossT=29.812, lossV=27.878, minV=27.875  |  @Mon Oct  9 16:08:40 2023\n",
      "epoch=109, lossT=29.886, lossV=27.920, minV=27.875  |  @Mon Oct  9 16:08:41 2023\n",
      "epoch=110, lossT=29.754, lossV=27.919, minV=27.875  |  @Mon Oct  9 16:08:42 2023\n",
      "epoch=111, lossT=29.669, lossV=27.884, minV=27.875  |  @Mon Oct  9 16:08:43 2023\n",
      "epoch=112, lossT=29.800, lossV=27.942, minV=27.875  |  @Mon Oct  9 16:08:44 2023\n",
      "epoch=113, lossT=29.821, lossV=27.926, minV=27.875  |  @Mon Oct  9 16:08:45 2023\n",
      "epoch=114, lossT=29.774, lossV=27.949, minV=27.875  |  @Mon Oct  9 16:08:46 2023\n",
      "epoch=115, lossT=29.773, lossV=27.918, minV=27.875  |  @Mon Oct  9 16:08:47 2023\n",
      "epoch=116, lossT=29.888, lossV=27.911, minV=27.875  |  @Mon Oct  9 16:08:47 2023\n",
      "epoch=117, lossT=29.714, lossV=27.870, minV=27.875  |  @Mon Oct  9 16:08:48 2023\n",
      "epoch=118, lossT=29.681, lossV=27.932, minV=27.870  |  @Mon Oct  9 16:08:49 2023\n",
      "epoch=119, lossT=29.678, lossV=27.959, minV=27.870  |  @Mon Oct  9 16:08:50 2023\n",
      "epoch=120, lossT=29.843, lossV=27.983, minV=27.870  |  @Mon Oct  9 16:08:51 2023\n",
      "epoch=121, lossT=29.657, lossV=27.940, minV=27.870  |  @Mon Oct  9 16:08:52 2023\n",
      "epoch=122, lossT=29.710, lossV=27.970, minV=27.870  |  @Mon Oct  9 16:08:53 2023\n",
      "epoch=123, lossT=29.773, lossV=27.864, minV=27.870  |  @Mon Oct  9 16:08:54 2023\n",
      "epoch=124, lossT=29.664, lossV=27.985, minV=27.864  |  @Mon Oct  9 16:08:54 2023\n",
      "epoch=125, lossT=29.676, lossV=27.986, minV=27.864  |  @Mon Oct  9 16:08:55 2023\n",
      "epoch=126, lossT=29.717, lossV=28.005, minV=27.864  |  @Mon Oct  9 16:08:56 2023\n",
      "epoch=127, lossT=29.691, lossV=27.940, minV=27.864  |  @Mon Oct  9 16:08:57 2023\n",
      "epoch=128, lossT=29.659, lossV=27.936, minV=27.864  |  @Mon Oct  9 16:08:58 2023\n",
      "epoch=129, lossT=29.652, lossV=27.881, minV=27.864  |  @Mon Oct  9 16:08:59 2023\n",
      "epoch=130, lossT=29.801, lossV=27.879, minV=27.864  |  @Mon Oct  9 16:09:00 2023\n",
      "epoch=131, lossT=29.649, lossV=27.872, minV=27.864  |  @Mon Oct  9 16:09:00 2023\n",
      "epoch=132, lossT=29.953, lossV=27.915, minV=27.864  |  @Mon Oct  9 16:09:01 2023\n",
      "epoch=133, lossT=30.025, lossV=27.914, minV=27.864  |  @Mon Oct  9 16:09:02 2023\n",
      "epoch=134, lossT=29.788, lossV=27.944, minV=27.864  |  @Mon Oct  9 16:09:03 2023\n",
      "epoch=135, lossT=29.676, lossV=27.862, minV=27.864  |  @Mon Oct  9 16:09:04 2023\n",
      "epoch=136, lossT=29.623, lossV=27.946, minV=27.862  |  @Mon Oct  9 16:09:05 2023\n",
      "epoch=137, lossT=29.648, lossV=27.889, minV=27.862  |  @Mon Oct  9 16:09:06 2023\n",
      "epoch=138, lossT=29.825, lossV=28.038, minV=27.862  |  @Mon Oct  9 16:09:07 2023\n",
      "epoch=139, lossT=29.801, lossV=27.877, minV=27.862  |  @Mon Oct  9 16:09:07 2023\n",
      "epoch=140, lossT=29.790, lossV=27.849, minV=27.862  |  @Mon Oct  9 16:09:08 2023\n",
      "epoch=141, lossT=29.614, lossV=27.833, minV=27.849  |  @Mon Oct  9 16:09:09 2023\n",
      "epoch=142, lossT=29.699, lossV=27.905, minV=27.833  |  @Mon Oct  9 16:09:10 2023\n",
      "epoch=143, lossT=29.627, lossV=27.844, minV=27.833  |  @Mon Oct  9 16:09:11 2023\n",
      "epoch=144, lossT=29.736, lossV=27.998, minV=27.833  |  @Mon Oct  9 16:09:12 2023\n",
      "epoch=145, lossT=29.616, lossV=27.865, minV=27.833  |  @Mon Oct  9 16:09:13 2023\n",
      "epoch=146, lossT=29.657, lossV=27.991, minV=27.833  |  @Mon Oct  9 16:09:14 2023\n",
      "epoch=147, lossT=29.620, lossV=27.935, minV=27.833  |  @Mon Oct  9 16:09:15 2023\n",
      "epoch=148, lossT=29.618, lossV=27.994, minV=27.833  |  @Mon Oct  9 16:09:16 2023\n",
      "epoch=149, lossT=29.628, lossV=27.840, minV=27.833  |  @Mon Oct  9 16:09:17 2023\n",
      "epoch=150, lossT=29.838, lossV=28.014, minV=27.833  |  @Mon Oct  9 16:09:18 2023\n",
      "epoch=151, lossT=29.805, lossV=27.894, minV=27.833  |  @Mon Oct  9 16:09:19 2023\n",
      "epoch=152, lossT=29.800, lossV=27.920, minV=27.833  |  @Mon Oct  9 16:09:19 2023\n",
      "epoch=153, lossT=29.611, lossV=27.871, minV=27.833  |  @Mon Oct  9 16:09:20 2023\n",
      "epoch=154, lossT=29.592, lossV=27.892, minV=27.833  |  @Mon Oct  9 16:09:21 2023\n",
      "epoch=155, lossT=29.688, lossV=27.907, minV=27.833  |  @Mon Oct  9 16:09:22 2023\n",
      "epoch=156, lossT=29.636, lossV=27.882, minV=27.833  |  @Mon Oct  9 16:09:23 2023\n",
      "epoch=157, lossT=29.744, lossV=27.838, minV=27.833  |  @Mon Oct  9 16:09:24 2023\n",
      "epoch=158, lossT=29.564, lossV=27.875, minV=27.833  |  @Mon Oct  9 16:09:25 2023\n",
      "epoch=159, lossT=29.786, lossV=28.302, minV=27.833  |  @Mon Oct  9 16:09:26 2023\n",
      "epoch=160, lossT=29.631, lossV=27.933, minV=27.833  |  @Mon Oct  9 16:09:27 2023\n",
      "epoch=161, lossT=29.681, lossV=27.895, minV=27.833  |  @Mon Oct  9 16:09:28 2023\n",
      "epoch=162, lossT=29.554, lossV=27.898, minV=27.833  |  @Mon Oct  9 16:09:29 2023\n",
      "epoch=163, lossT=29.585, lossV=27.902, minV=27.833  |  @Mon Oct  9 16:09:30 2023\n",
      "epoch=164, lossT=29.871, lossV=27.958, minV=27.833  |  @Mon Oct  9 16:09:31 2023\n",
      "epoch=165, lossT=29.686, lossV=27.861, minV=27.833  |  @Mon Oct  9 16:09:31 2023\n",
      "epoch=166, lossT=29.687, lossV=27.876, minV=27.833  |  @Mon Oct  9 16:09:32 2023\n",
      "epoch=167, lossT=29.581, lossV=27.839, minV=27.833  |  @Mon Oct  9 16:09:33 2023\n",
      "epoch=168, lossT=29.727, lossV=27.889, minV=27.833  |  @Mon Oct  9 16:09:34 2023\n",
      "epoch=169, lossT=29.586, lossV=27.890, minV=27.833  |  @Mon Oct  9 16:09:35 2023\n",
      "epoch=170, lossT=29.551, lossV=27.850, minV=27.833  |  @Mon Oct  9 16:09:36 2023\n",
      "epoch=171, lossT=29.533, lossV=27.904, minV=27.833  |  @Mon Oct  9 16:09:37 2023\n",
      "epoch=172, lossT=29.522, lossV=27.855, minV=27.833  |  @Mon Oct  9 16:09:38 2023\n",
      "epoch=173, lossT=29.549, lossV=27.930, minV=27.833  |  @Mon Oct  9 16:09:39 2023\n",
      "epoch=174, lossT=29.612, lossV=27.886, minV=27.833  |  @Mon Oct  9 16:09:40 2023\n",
      "epoch=175, lossT=29.517, lossV=27.852, minV=27.833  |  @Mon Oct  9 16:09:40 2023\n",
      "epoch=176, lossT=29.824, lossV=27.885, minV=27.833  |  @Mon Oct  9 16:09:41 2023\n",
      "epoch=177, lossT=29.643, lossV=27.882, minV=27.833  |  @Mon Oct  9 16:09:42 2023\n",
      "epoch=178, lossT=29.669, lossV=27.826, minV=27.833  |  @Mon Oct  9 16:09:43 2023\n",
      "epoch=179, lossT=29.755, lossV=27.983, minV=27.826  |  @Mon Oct  9 16:09:44 2023\n",
      "epoch=180, lossT=29.549, lossV=28.105, minV=27.826  |  @Mon Oct  9 16:09:45 2023\n",
      "epoch=181, lossT=29.779, lossV=27.895, minV=27.826  |  @Mon Oct  9 16:09:46 2023\n",
      "epoch=182, lossT=29.785, lossV=27.883, minV=27.826  |  @Mon Oct  9 16:09:47 2023\n",
      "epoch=183, lossT=29.510, lossV=27.825, minV=27.826  |  @Mon Oct  9 16:09:48 2023\n",
      "epoch=184, lossT=29.536, lossV=27.832, minV=27.825  |  @Mon Oct  9 16:09:49 2023\n",
      "epoch=185, lossT=29.525, lossV=27.876, minV=27.825  |  @Mon Oct  9 16:09:49 2023\n",
      "epoch=186, lossT=29.529, lossV=28.018, minV=27.825  |  @Mon Oct  9 16:09:50 2023\n",
      "epoch=187, lossT=29.534, lossV=27.858, minV=27.825  |  @Mon Oct  9 16:09:51 2023\n",
      "epoch=188, lossT=29.452, lossV=27.948, minV=27.825  |  @Mon Oct  9 16:09:52 2023\n",
      "epoch=189, lossT=29.593, lossV=27.943, minV=27.825  |  @Mon Oct  9 16:09:53 2023\n",
      "epoch=190, lossT=29.617, lossV=27.910, minV=27.825  |  @Mon Oct  9 16:09:54 2023\n",
      "epoch=191, lossT=29.607, lossV=27.870, minV=27.825  |  @Mon Oct  9 16:09:55 2023\n",
      "epoch=192, lossT=29.478, lossV=27.917, minV=27.825  |  @Mon Oct  9 16:09:55 2023\n",
      "epoch=193, lossT=29.456, lossV=27.846, minV=27.825  |  @Mon Oct  9 16:09:56 2023\n",
      "epoch=194, lossT=29.490, lossV=27.830, minV=27.825  |  @Mon Oct  9 16:09:57 2023\n",
      "epoch=195, lossT=29.608, lossV=27.885, minV=27.825  |  @Mon Oct  9 16:09:58 2023\n",
      "epoch=196, lossT=29.607, lossV=27.897, minV=27.825  |  @Mon Oct  9 16:09:59 2023\n",
      "epoch=197, lossT=29.636, lossV=27.889, minV=27.825  |  @Mon Oct  9 16:10:00 2023\n",
      "epoch=198, lossT=29.572, lossV=27.939, minV=27.825  |  @Mon Oct  9 16:10:01 2023\n",
      "epoch=199, lossT=29.463, lossV=27.819, minV=27.825  |  @Mon Oct  9 16:10:02 2023\n",
      "epoch=200, lossT=29.441, lossV=27.887, minV=27.819  |  @Mon Oct  9 16:10:03 2023\n",
      "epoch=201, lossT=29.623, lossV=27.999, minV=27.819  |  @Mon Oct  9 16:10:03 2023\n",
      "epoch=202, lossT=29.439, lossV=27.856, minV=27.819  |  @Mon Oct  9 16:10:04 2023\n",
      "epoch=203, lossT=29.562, lossV=27.876, minV=27.819  |  @Mon Oct  9 16:10:05 2023\n",
      "epoch=204, lossT=29.729, lossV=27.842, minV=27.819  |  @Mon Oct  9 16:10:06 2023\n"
     ]
    },
    {
     "name": "stdout",
     "output_type": "stream",
     "text": [
      "epoch=205, lossT=29.554, lossV=27.896, minV=27.819  |  @Mon Oct  9 16:10:07 2023\n",
      "epoch=206, lossT=29.576, lossV=27.957, minV=27.819  |  @Mon Oct  9 16:10:08 2023\n",
      "epoch=207, lossT=29.498, lossV=27.872, minV=27.819  |  @Mon Oct  9 16:10:09 2023\n",
      "epoch=208, lossT=29.392, lossV=27.862, minV=27.819  |  @Mon Oct  9 16:10:09 2023\n",
      "epoch=209, lossT=29.416, lossV=27.833, minV=27.819  |  @Mon Oct  9 16:10:10 2023\n",
      "epoch=210, lossT=29.586, lossV=27.866, minV=27.819  |  @Mon Oct  9 16:10:11 2023\n",
      "epoch=211, lossT=29.399, lossV=27.905, minV=27.819  |  @Mon Oct  9 16:10:12 2023\n",
      "epoch=212, lossT=29.465, lossV=27.832, minV=27.819  |  @Mon Oct  9 16:10:13 2023\n",
      "epoch=213, lossT=29.390, lossV=27.864, minV=27.819  |  @Mon Oct  9 16:10:14 2023\n",
      "epoch=214, lossT=29.404, lossV=27.840, minV=27.819  |  @Mon Oct  9 16:10:15 2023\n",
      "epoch=215, lossT=29.353, lossV=27.852, minV=27.819  |  @Mon Oct  9 16:10:16 2023\n",
      "epoch=216, lossT=29.480, lossV=27.861, minV=27.819  |  @Mon Oct  9 16:10:16 2023\n",
      "epoch=217, lossT=29.378, lossV=27.877, minV=27.819  |  @Mon Oct  9 16:10:17 2023\n",
      "epoch=218, lossT=29.552, lossV=27.866, minV=27.819  |  @Mon Oct  9 16:10:18 2023\n",
      "epoch=219, lossT=29.339, lossV=27.857, minV=27.819  |  @Mon Oct  9 16:10:19 2023\n",
      "epoch=220, lossT=29.483, lossV=28.087, minV=27.819  |  @Mon Oct  9 16:10:20 2023\n",
      "epoch=221, lossT=29.456, lossV=27.897, minV=27.819  |  @Mon Oct  9 16:10:21 2023\n",
      "epoch=222, lossT=29.326, lossV=27.823, minV=27.819  |  @Mon Oct  9 16:10:22 2023\n",
      "epoch=223, lossT=29.301, lossV=27.841, minV=27.819  |  @Mon Oct  9 16:10:23 2023\n",
      "epoch=224, lossT=29.440, lossV=27.877, minV=27.819  |  @Mon Oct  9 16:10:23 2023\n",
      "epoch=225, lossT=29.439, lossV=27.915, minV=27.819  |  @Mon Oct  9 16:10:24 2023\n",
      "epoch=226, lossT=29.303, lossV=27.956, minV=27.819  |  @Mon Oct  9 16:10:25 2023\n",
      "epoch=227, lossT=29.418, lossV=27.830, minV=27.819  |  @Mon Oct  9 16:10:26 2023\n",
      "epoch=228, lossT=29.323, lossV=27.860, minV=27.819  |  @Mon Oct  9 16:10:27 2023\n",
      "epoch=229, lossT=29.423, lossV=27.857, minV=27.819  |  @Mon Oct  9 16:10:28 2023\n",
      "epoch=230, lossT=29.279, lossV=27.896, minV=27.819  |  @Mon Oct  9 16:10:29 2023\n",
      "epoch=231, lossT=29.257, lossV=27.878, minV=27.819  |  @Mon Oct  9 16:10:30 2023\n",
      "epoch=232, lossT=29.300, lossV=27.854, minV=27.819  |  @Mon Oct  9 16:10:30 2023\n",
      "epoch=233, lossT=29.312, lossV=27.873, minV=27.819  |  @Mon Oct  9 16:10:31 2023\n",
      "epoch=234, lossT=29.238, lossV=27.904, minV=27.819  |  @Mon Oct  9 16:10:32 2023\n",
      "epoch=235, lossT=29.278, lossV=27.844, minV=27.819  |  @Mon Oct  9 16:10:33 2023\n",
      "epoch=236, lossT=29.413, lossV=27.975, minV=27.819  |  @Mon Oct  9 16:10:34 2023\n",
      "epoch=237, lossT=29.282, lossV=27.904, minV=27.819  |  @Mon Oct  9 16:10:35 2023\n",
      "epoch=238, lossT=29.205, lossV=27.961, minV=27.819  |  @Mon Oct  9 16:10:36 2023\n",
      "epoch=239, lossT=29.384, lossV=27.881, minV=27.819  |  @Mon Oct  9 16:10:36 2023\n",
      "epoch=240, lossT=29.594, lossV=28.142, minV=27.819  |  @Mon Oct  9 16:10:37 2023\n",
      "epoch=241, lossT=29.276, lossV=27.848, minV=27.819  |  @Mon Oct  9 16:10:38 2023\n",
      "epoch=242, lossT=29.371, lossV=27.883, minV=27.819  |  @Mon Oct  9 16:10:39 2023\n",
      "epoch=243, lossT=29.319, lossV=27.835, minV=27.819  |  @Mon Oct  9 16:10:40 2023\n",
      "epoch=244, lossT=29.355, lossV=27.886, minV=27.819  |  @Mon Oct  9 16:10:41 2023\n",
      "epoch=245, lossT=29.224, lossV=27.918, minV=27.819  |  @Mon Oct  9 16:10:42 2023\n",
      "epoch=246, lossT=29.312, lossV=27.878, minV=27.819  |  @Mon Oct  9 16:10:43 2023\n",
      "epoch=247, lossT=29.279, lossV=27.836, minV=27.819  |  @Mon Oct  9 16:10:43 2023\n",
      "epoch=248, lossT=29.185, lossV=27.915, minV=27.819  |  @Mon Oct  9 16:10:44 2023\n",
      "epoch=249, lossT=29.169, lossV=27.900, minV=27.819  |  @Mon Oct  9 16:10:45 2023\n",
      "epoch=250, lossT=29.164, lossV=27.943, minV=27.819  |  @Mon Oct  9 16:10:46 2023\n",
      "epoch=251, lossT=29.263, lossV=27.895, minV=27.819  |  @Mon Oct  9 16:10:47 2023\n",
      "epoch=252, lossT=29.183, lossV=27.917, minV=27.819  |  @Mon Oct  9 16:10:48 2023\n",
      "epoch=253, lossT=29.147, lossV=27.916, minV=27.819  |  @Mon Oct  9 16:10:49 2023\n",
      "epoch=254, lossT=29.194, lossV=27.848, minV=27.819  |  @Mon Oct  9 16:10:50 2023\n",
      "epoch=255, lossT=29.220, lossV=27.826, minV=27.819  |  @Mon Oct  9 16:10:50 2023\n",
      "epoch=256, lossT=29.352, lossV=27.867, minV=27.819  |  @Mon Oct  9 16:10:51 2023\n",
      "epoch=257, lossT=29.210, lossV=27.842, minV=27.819  |  @Mon Oct  9 16:10:52 2023\n",
      "epoch=258, lossT=29.333, lossV=28.004, minV=27.819  |  @Mon Oct  9 16:10:53 2023\n",
      "epoch=259, lossT=29.150, lossV=27.858, minV=27.819  |  @Mon Oct  9 16:10:54 2023\n",
      "Early stopping at 259\n"
     ]
    }
   ],
   "source": [
    "lossesT = []\n",
    "lossesE = []\n",
    "lossesV = []\n",
    "\n",
    "for epoch in range(3000):\n",
    "    lossesE = []\n",
    "    net.train()\n",
    "    for x, y in dlr_train:\n",
    "        optim.zero_grad()\n",
    "\n",
    "        y_hat = net(x.to(device))\n",
    "        loss = criterion(y_hat.view(-1), y.view(-1).to(device))\n",
    "        if np.isnan(loss.item()):\n",
    "            print(\"nan loss! Stop\")\n",
    "            break\n",
    "        loss.backward()\n",
    "        optim.step()\n",
    "        lossesE.append(loss.item())\n",
    "    lossesT.append(np.array(lossesE).mean())\n",
    "    \n",
    "    net.eval()\n",
    "    \n",
    "    with torch.no_grad():\n",
    "        yV_hat = net(xV.to(device))\n",
    "        lossesV.append(criterion(yV_hat.view(-1), yV.view(-1).to(device)).item())\n",
    "    if epoch % 1 == 0:\n",
    "        print(f\"epoch={epoch}, lossT={lossesT[-1]:.3f}, lossV={lossesV[-1]:.3f}, minV={esp.val_loss_min:.3f}  |  @{time.ctime()}\")\n",
    "    esp(lossesV[-1], net)\n",
    "    if esp.early_stop:\n",
    "        print(f\"Early stopping at {epoch}\")\n",
    "        break\n"
   ]
  },
  {
   "cell_type": "code",
   "execution_count": 21,
   "id": "01c6df09",
   "metadata": {
    "scrolled": true
   },
   "outputs": [
    {
     "data": {
      "image/png": "[encoded data removed]",
      "text/plain": [
       "<Figure size 640x480 with 1 Axes>"
      ]
     },
     "metadata": {},
     "output_type": "display_data"
    }
   ],
   "source": [
    "plt.plot(lossesT)\n",
    "plt.plot(lossesV)\n",
    "plt.yscale('log')"
   ]
  },
  {
   "cell_type": "code",
   "execution_count": 24,
   "id": "fa40910f",
   "metadata": {},
   "outputs": [],
   "source": [
    "rgp.valid(yV_hat.detach().cpu().view(-1), yV.reshape(-1))\n",
    "\n",
    "rgp.valid.show()"
   ]
  },
  {
   "cell_type": "code",
   "execution_count": null,
   "id": "18deec3a",
   "metadata": {},
   "outputs": [],
   "source": []
  },
  {
   "cell_type": "code",
   "execution_count": null,
   "id": "ee716b02",
   "metadata": {},
   "outputs": [],
   "source": []
  },
  {
   "cell_type": "code",
   "execution_count": null,
   "id": "223bed2b",
   "metadata": {},
   "outputs": [],
   "source": []
  },
  {
   "cell_type": "code",
   "execution_count": null,
   "id": "ea373dba",
   "metadata": {},
   "outputs": [],
   "source": []
  },
  {
   "cell_type": "code",
   "execution_count": null,
   "id": "94ca44c3",
   "metadata": {},
   "outputs": [],
   "source": []
  },
  {
   "cell_type": "code",
   "execution_count": null,
   "id": "c8c3a6d8",
   "metadata": {},
   "outputs": [],
   "source": []
  },
  {
   "cell_type": "code",
   "execution_count": null,
   "id": "70ae1ea2",
   "metadata": {},
   "outputs": [],
   "source": []
  },
  {
   "cell_type": "code",
   "execution_count": null,
   "id": "d551421b",
   "metadata": {},
   "outputs": [],
   "source": []
  }
 ],
 "metadata": {
  "kernelspec": {
   "display_name": "ai",
   "language": "python",
   "name": "ai"
  },
  "language_info": {
   "codemirror_mode": {
    "name": "ipython",
    "version": 3
   },
   "file_extension": ".py",
   "mimetype": "text/x-python",
   "name": "python",
   "nbconvert_exporter": "python",
   "pygments_lexer": "ipython3",
   "version": "3.11.4"
  }
 },
 "nbformat": 4,
 "nbformat_minor": 5
}
