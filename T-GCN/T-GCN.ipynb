{
 "cells": [
  {
   "cell_type": "markdown",
   "id": "7ea58020",
   "metadata": {},
   "source": [
    "## T-GCN\n",
    "\n",
    "### Algorithm\n",
    "\n",
    "+ 先理一下, 看看论文和代码\n",
    "+ 唔, 他这个就等于做完GraphConv之后扔到GRU里去算一个hidden state, 或者说output\n",
    "+ 那这个hidden的shape是? ok自己指定的\n",
    "+ 所以我要使用PyG做的话, 应该就是套着来, 写个loop, 里面是conv得到的结果扔到GRU\n",
    "+ 但是有个问题, GRU默认自己处理多个seq的, 我这种不是等于单步的去处理吗?\n",
    "+ 不对, 每个seq的conv本身又不依赖hidden state, 所以我就是每个seq都做conv之后, 再把seq作为seq扔到gru里去应该就可以\n",
    "+ 就是得处理shape的问题, 这个麻烦..\n",
    "***\n",
    "+ 仔细看了他的代码, 额, 他是在原本GCN里的`AXW+b`这个式子里, 强行给X加了个h, 变成`A[X+h]W +b`, 然后去先更新一次Conv, 再去做GRU, 手动loop实现seq里h的迭代\n",
    "+ 额, 和我想的还不太一样那.....\n",
    "***\n",
    "+ 我懂了, 他其实是把GRU里hidden state的更新也考虑了连接节点的影响, 就是不是`xW+b`, 而还是`AxW+b`, 额, 话说有必要吗, 如果我这样呢? `((AxW+b)+h)*W2+b2`, 就是我hidden_state不做A左乘, 而是直接拿去做计算? 感觉可以试试, 就当增进理解了..."
   ]
  },
  {
   "cell_type": "code",
   "execution_count": null,
   "id": "2c5b5e2b",
   "metadata": {},
   "outputs": [],
   "source": []
  },
  {
   "cell_type": "code",
   "execution_count": null,
   "id": "b2aa55f1",
   "metadata": {},
   "outputs": [],
   "source": []
  },
  {
   "cell_type": "code",
   "execution_count": 1,
   "id": "78163dac",
   "metadata": {},
   "outputs": [],
   "source": [
    "import os, os.path\n",
    "import sys\n",
    "import time"
   ]
  },
  {
   "cell_type": "code",
   "execution_count": 2,
   "id": "a8b248bc",
   "metadata": {},
   "outputs": [],
   "source": [
    "import numpy as np\n",
    "import pandas as pd\n",
    "\n",
    "import torch\n",
    "import torch_geometric as PyG\n",
    "# from torch.nn import Linear\n",
    "# import torch.nn as nn\n",
    "# from torch_geometric.nn import GCNConv\n",
    "\n",
    "from torch_geometric.data import Data\n",
    "# from torch_geometric.loader import DataLoader\n",
    "\n",
    "\n",
    "import matplotlib.pyplot as plt\n",
    "\n",
    "import sys\n",
    "\n",
    "sys.path.append('../../ai.rdee')\n",
    "\n",
    "import ai_rdee"
   ]
  },
  {
   "cell_type": "code",
   "execution_count": 10,
   "id": "ed231a7c",
   "metadata": {},
   "outputs": [],
   "source": [
    "nNodes = 156\n",
    "isep = 12\n",
    "osep = 3\n",
    "\n",
    "bs = 32"
   ]
  },
  {
   "cell_type": "code",
   "execution_count": 4,
   "id": "1f6ed210",
   "metadata": {
    "scrolled": true
   },
   "outputs": [
    {
     "data": {
      "text/plain": [
       "device(type='cuda')"
      ]
     },
     "execution_count": 4,
     "metadata": {},
     "output_type": "execute_result"
    }
   ],
   "source": [
    "device = torch.device('cuda' if torch.cuda.is_available() else 'cpu')\n",
    "device"
   ]
  },
  {
   "cell_type": "code",
   "execution_count": 5,
   "id": "39cc7b68",
   "metadata": {},
   "outputs": [
    {
     "data": {
      "text/plain": [
       "0"
      ]
     },
     "execution_count": 5,
     "metadata": {},
     "output_type": "execute_result"
    }
   ],
   "source": [
    "torch.cuda.memory_allocated()"
   ]
  },
  {
   "cell_type": "code",
   "execution_count": 6,
   "id": "ffa23191",
   "metadata": {},
   "outputs": [],
   "source": [
    "# import torch\n",
    "from torch_geometric.data import InMemoryDataset\n",
    "\n",
    "\n",
    "class TGCN_dataset(InMemoryDataset):\n",
    "    def __init__(self, root, transform=None, pre_transform=None, pre_filter=None):\n",
    "        super().__init__(root, transform, pre_transform, pre_filter)\n",
    "        self.data, self.slices = torch.load(self.processed_paths[0])\n",
    "        self.eis = torch.load(self.processed_paths[1])\n",
    "\n",
    "    @property\n",
    "    def raw_file_names(self):\n",
    "        return ['data/sz_adj.csv', 'data/sz_speed.csv']\n",
    "\n",
    "    @property\n",
    "    def processed_file_names(self):\n",
    "        return ['data_sz.pt', 'eis.pt']\n",
    "\n",
    "    def download(self):\n",
    "        # Download to `self.raw_dir`.\n",
    "        pass\n",
    "        \n",
    "    def process(self):\n",
    "        # Read data into huge `Data` list.\n",
    "        fn_adj, fn_spd = self.raw_file_names\n",
    "        df_spd = pd.read_csv(fn_spd)\n",
    "        S = df_spd.values.T\n",
    "        df_adj = pd.read_csv(fn_adj, index_col=None, header = None)\n",
    "\n",
    "        A = df_adj.values\n",
    "        A.shape\n",
    "\n",
    "        eis = torch.tensor(np.argwhere(A == 1).T)\n",
    "        S = torch.Tensor(S)\n",
    "        data_list = []\n",
    "        for i in range(S.shape[1]-14):\n",
    "            data = Data(x=S[:,i:i+12], y=S[:,i+12:i+15], edge_index=eis)\n",
    "            data_list.append(data)\n",
    "        \n",
    "        \n",
    "        if self.pre_filter is not None:\n",
    "            data_list = [data for data in data_list if self.pre_filter(data)]\n",
    "\n",
    "        if self.pre_transform is not None:\n",
    "            data_list = [self.pre_transform(data) for data in data_list]\n",
    "\n",
    "        data, slices = self.collate(data_list)\n",
    "        torch.save((data, slices), self.processed_paths[0])\n",
    "        torch.save(eis, self.processed_paths[1])"
   ]
  },
  {
   "cell_type": "code",
   "execution_count": 11,
   "id": "506b20a4",
   "metadata": {},
   "outputs": [],
   "source": [
    "dsG = TGCN_dataset('./data')"
   ]
  },
  {
   "cell_type": "code",
   "execution_count": 13,
   "id": "2348aee6",
   "metadata": {},
   "outputs": [],
   "source": [
    "ratio_valid = 0.2\n",
    "size_valid = int(ratio_valid * len(dsG))\n",
    "size_learn = len(dsG) - size_valid"
   ]
  },
  {
   "cell_type": "code",
   "execution_count": 14,
   "id": "47284b62",
   "metadata": {},
   "outputs": [],
   "source": [
    "dsG_train, dsG_valid = torch.utils.data.random_split(dsG, [size_learn, size_valid])"
   ]
  },
  {
   "cell_type": "code",
   "execution_count": 15,
   "id": "d5d13f6b",
   "metadata": {},
   "outputs": [],
   "source": [
    "dlr_train = PyG.loader.DataLoader(dsG_train, batch_size=bs, shuffle=True, drop_last=True)"
   ]
  },
  {
   "cell_type": "code",
   "execution_count": 16,
   "id": "1d08ef31",
   "metadata": {},
   "outputs": [],
   "source": [
    "dlr_valid = PyG.loader.DataLoader(dsG_valid, batch_size=len(dsG_valid))"
   ]
  },
  {
   "cell_type": "code",
   "execution_count": 17,
   "id": "6563a836",
   "metadata": {},
   "outputs": [],
   "source": [
    "dlr_train_noBatch = PyG.loader.DataLoader(dsG_train, batch_size=len(dsG_train))"
   ]
  },
  {
   "cell_type": "code",
   "execution_count": 18,
   "id": "5edb85db",
   "metadata": {},
   "outputs": [
    {
     "data": {
      "text/plain": [
       "0"
      ]
     },
     "execution_count": 18,
     "metadata": {},
     "output_type": "execute_result"
    }
   ],
   "source": [
    "torch.cuda.memory_allocated()"
   ]
  },
  {
   "cell_type": "markdown",
   "id": "cf82ad3e",
   "metadata": {},
   "source": [
    "## Below blcok is used to check the data operation correctness"
   ]
  },
  {
   "cell_type": "code",
   "execution_count": 76,
   "id": "4e1aba0e",
   "metadata": {},
   "outputs": [
    {
     "data": {
      "text/plain": [
       "tensor(0.)"
      ]
     },
     "execution_count": 76,
     "metadata": {},
     "output_type": "execute_result"
    }
   ],
   "source": [
    "dlr = PyG.loader.DataLoader(dsG, batch_size=64, shuffle=False)\n",
    "\n",
    "k = next(iter(dlr))\n",
    "x = k.x\n",
    "\n",
    "# x.shape\n",
    "# x.view(64, -1, 12).shape\n",
    "\n",
    "x2 = x.view(64, -1, 12).permute(2,0,1)\n",
    "# x2.shape\n",
    "# x2[:,0,:]\n",
    "\n",
    "df = pd.read_csv('data/sz_speed.csv')\n",
    "# df.iloc[:12, :].values\n",
    "(x2[:,0,:] - torch.Tensor(df.iloc[:12, :].values)).max()"
   ]
  },
  {
   "cell_type": "code",
   "execution_count": null,
   "id": "3570b8bb",
   "metadata": {},
   "outputs": [],
   "source": []
  },
  {
   "cell_type": "code",
   "execution_count": null,
   "id": "31f80d69",
   "metadata": {},
   "outputs": [],
   "source": []
  },
  {
   "cell_type": "code",
   "execution_count": null,
   "id": "fabfa603",
   "metadata": {},
   "outputs": [],
   "source": []
  },
  {
   "cell_type": "code",
   "execution_count": null,
   "id": "457cd8de",
   "metadata": {},
   "outputs": [],
   "source": []
  },
  {
   "cell_type": "markdown",
   "id": "0bf34006",
   "metadata": {},
   "source": [
    "+ **GCN operator:**\n",
    "\n",
    "$\\mathbf{X}^{\\prime} = \\mathbf{\\hat{D}}^{-1/2} \\mathbf{\\hat{A}}\n",
    "\\mathbf{\\hat{D}}^{-1/2} \\mathbf{X} \\mathbf{\\Theta},$\n",
    "\n",
    "+ **GRU operator:**\n",
    "\n",
    "$r= \\sigma ( W_ {ir} x + b_ {ir} + W_ {hr} h+ b_ {hr} )$\n",
    "\n",
    "$z= \\sigma  (  W_ {iz}  x+  b_ {iz}  +  W_ {hz}  h+  b_ {hz}  )$\n",
    "\n",
    "$n=  \\tanh  (  W_ {in}  x+  b_ {in}  +r*(  W_ {hn}  h+  b_ {hn}  ))$\n",
    "\n",
    "$h'=(1-z)*n+z*h$\n",
    "\n",
    "\n",
    "\n"
   ]
  },
  {
   "cell_type": "markdown",
   "id": "a2dbc777",
   "metadata": {},
   "source": [
    "+ 一种思路(T-GCN, GCN1GRU), 把GCN嵌入到GRU里去, 即在$W_ir, W_hr$等weight前都乘上一个$\\hat{A}_{DD}$\n",
    "+ 另一种思路(GCN2GRU), 把GCN传给GRU, 即GRU公式里的x是GCN得到的$X^{'}$\n",
    "+ 都试试吧"
   ]
  },
  {
   "cell_type": "code",
   "execution_count": null,
   "id": "9248d9b8",
   "metadata": {},
   "outputs": [],
   "source": []
  },
  {
   "cell_type": "markdown",
   "id": "666d9cdc",
   "metadata": {},
   "source": [
    "## GCN1GRU\n",
    "\n",
    "+ ok, 还是得自己写一个, fine, 就是把GCN融入到GRU里面去, 但其实核心还是GRU\n",
    "+ 额, 这么看的话, 倒不如较GCN-GRU, T-GCN唔起的有点间接了哈哈\n",
    "+ 那就是说, 我自己写一个GRUCell呗, 然后就是在具体的计算中去融入GCN的操作来更新node间的关系?\n",
    "+ 好嘛, 换句话说, 就是在GRU中, 想了个法子用全连接+部分自连接来更新, 而不是单纯的全连接, 有道理\n",
    "+ 那么问题来了, 我有什么法子把GRU给融入GCN而不仅仅是传输吗?\n",
    "   * 比如说, 我用一个GRU去训练每一个node? 好像不行, 那就我针对每个node都搞一个GRU去训练? 咦这个思路回头试试, 先试这个然后看下一个论文, 过程中试试实际数据\n"
   ]
  },
  {
   "cell_type": "code",
   "execution_count": 19,
   "id": "e1ef6831",
   "metadata": {},
   "outputs": [],
   "source": [
    "eis = dsG.eis"
   ]
  },
  {
   "cell_type": "code",
   "execution_count": 20,
   "id": "0f806e91",
   "metadata": {
    "scrolled": true
   },
   "outputs": [
    {
     "data": {
      "text/plain": [
       "torch.Size([2, 532])"
      ]
     },
     "execution_count": 20,
     "metadata": {},
     "output_type": "execute_result"
    }
   ],
   "source": [
    "eis.shape"
   ]
  },
  {
   "cell_type": "code",
   "execution_count": 21,
   "id": "d7fe77ed",
   "metadata": {},
   "outputs": [],
   "source": [
    "class GCN1GRU(torch.nn.Module):\n",
    "    def __init__(self, nNodes, input_dim, hidden_dim, output_dim, eis):\n",
    "        super().__init__()\n",
    "        self.GCNConv1 = PyG.nn.GCNConv(hidden_dim+1, hidden_dim)\n",
    "        self.GCNConv2 = PyG.nn.GCNConv(hidden_dim+1, hidden_dim)\n",
    "        self.GCNConv3 = PyG.nn.GCNConv(hidden_dim+1, hidden_dim)\n",
    "#         self.input_dim = input_dim\n",
    "        self.hidden_dim = hidden_dim\n",
    "        self.nNodes = nNodes\n",
    "        self.regressor = torch.nn.Linear(hidden_dim, output_dim)\n",
    "        self.register_buffer('eis', eis)\n",
    "    \n",
    "    def cell(self, inputs, hidden_state):\n",
    "        # inputs: (batch_size, nNodes, nFeatures)\n",
    "        # hidden_states: (batch_size, nNodes, nHidden)\n",
    "        bs, nNodes, nFeatures = inputs.shape\n",
    "        \n",
    "        ih_concat = torch.cat((inputs, hidden_state), dim=2)  # ih_concat: (batch_size, nNodes, nFeatures + nHidden)\n",
    "#         print(ih_concat.shape)\n",
    "#         ih_bs2f = ih_concat.permute(1, 2, 0).view(nNodes, -1)  # ih_bs2f: (nNodes, (nFeatures+nHidden) * batch_size)\n",
    "        r = torch.sigmoid(self.GCNConv1(ih_concat, self.eis))  # r : (batch_size, nNodes, nHidden)\n",
    "        z = torch.sigmoid(self.GCNConv2(ih_concat, self.eis))  # z : (batch_size, nNodes, nHidden)\n",
    "        n_ih_concat = torch.cat((inputs, r * hidden_state), dim=2)\n",
    "        n = torch.tanh(self.GCNConv3(n_ih_concat, self.eis))  # n: (batch_size, nNodes, nHidden)\n",
    "        hp = (1-z) * n + z * hidden_state\n",
    "        return hp  # hp: (batch_size, nNodes, nHidden)\n",
    "    \n",
    "    def forward(self, inputs):\n",
    "        # inputs: (batch_size, seq, nNodes, nFeatures)\n",
    "        \n",
    "        bs, nNodes, nSeq, nFeatures = inputs.shape\n",
    "        \n",
    "        hidden_state = torch.zeros(bs, nNodes, self.hidden_dim).type_as(inputs)\n",
    "        for i in range(nSeq):\n",
    "            hidden_state = self.cell(inputs[:, :, i, :], hidden_state)\n",
    "        \n",
    "        output = self.regressor(hidden_state)  # output: (batch_size, nNodes, output_dim)\n",
    "        \n",
    "        return output\n",
    "        \n",
    "        "
   ]
  },
  {
   "cell_type": "code",
   "execution_count": 22,
   "id": "b70223c5",
   "metadata": {},
   "outputs": [],
   "source": [
    "net = GCN1GRU(nNodes, isep, 64, osep, eis)"
   ]
  },
  {
   "cell_type": "markdown",
   "id": "2f240d18",
   "metadata": {},
   "source": [
    "+ The next block is used to check net.forward(...)"
   ]
  },
  {
   "cell_type": "code",
   "execution_count": 92,
   "id": "906d445f",
   "metadata": {},
   "outputs": [],
   "source": [
    "\n",
    "# dat0 = next(iter(dlr_train))\n",
    "\n",
    "# dat0.x.shape\n",
    "\n",
    "# y = net(dat0.x.view(dlr_train.batch_size, nNodes, isep, 1))"
   ]
  },
  {
   "cell_type": "code",
   "execution_count": 23,
   "id": "b13c2573",
   "metadata": {
    "scrolled": false
   },
   "outputs": [
    {
     "data": {
      "text/plain": [
       "GCN1GRU(\n",
       "  (GCNConv1): GCNConv(65, 64)\n",
       "  (GCNConv2): GCNConv(65, 64)\n",
       "  (GCNConv3): GCNConv(65, 64)\n",
       "  (regressor): Linear(in_features=64, out_features=3, bias=True)\n",
       ")"
      ]
     },
     "execution_count": 23,
     "metadata": {},
     "output_type": "execute_result"
    }
   ],
   "source": [
    "net.to(device)"
   ]
  },
  {
   "cell_type": "code",
   "execution_count": 24,
   "id": "66d3bc40",
   "metadata": {},
   "outputs": [],
   "source": [
    "criterion = torch.nn.MSELoss()\n",
    "optim = torch.optim.Adam(net.parameters(), lr=0.001, weight_decay=1.5e-3)\n",
    "esp = ai_rdee.AiTools.EarlyStopping(100)"
   ]
  },
  {
   "cell_type": "code",
   "execution_count": 25,
   "id": "8f3c53be",
   "metadata": {},
   "outputs": [],
   "source": [
    "dataV = next(iter(dlr_valid))\n",
    "yV = dataV.y.to(device)"
   ]
  },
  {
   "cell_type": "code",
   "execution_count": 26,
   "id": "73868c13",
   "metadata": {},
   "outputs": [
    {
     "name": "stdout",
     "output_type": "stream",
     "text": [
      "epoch=0, lossT=255.024, lossV=214.536, minV=inf  |  @Sun Oct  8 14:57:41 2023\n",
      "epoch=20, lossT=44.128, lossV=46.259, minV=47.147  |  @Sun Oct  8 14:58:46 2023\n",
      "epoch=40, lossT=35.181, lossV=37.349, minV=37.427  |  @Sun Oct  8 14:59:50 2023\n",
      "epoch=60, lossT=33.381, lossV=35.596, minV=35.474  |  @Sun Oct  8 15:00:54 2023\n",
      "epoch=80, lossT=32.673, lossV=34.958, minV=34.867  |  @Sun Oct  8 15:01:59 2023\n",
      "epoch=100, lossT=32.234, lossV=34.328, minV=34.382  |  @Sun Oct  8 15:03:03 2023\n",
      "epoch=120, lossT=31.963, lossV=34.290, minV=34.099  |  @Sun Oct  8 15:04:07 2023\n",
      "epoch=140, lossT=31.753, lossV=33.817, minV=33.838  |  @Sun Oct  8 15:05:12 2023\n",
      "epoch=160, lossT=31.433, lossV=33.706, minV=33.664  |  @Sun Oct  8 15:06:19 2023\n",
      "epoch=180, lossT=31.337, lossV=33.594, minV=33.540  |  @Sun Oct  8 15:07:24 2023\n",
      "epoch=200, lossT=31.176, lossV=33.492, minV=33.418  |  @Sun Oct  8 15:08:29 2023\n",
      "epoch=220, lossT=31.052, lossV=33.378, minV=33.349  |  @Sun Oct  8 15:09:35 2023\n",
      "epoch=240, lossT=30.976, lossV=33.360, minV=33.250  |  @Sun Oct  8 15:10:41 2023\n",
      "epoch=260, lossT=30.829, lossV=33.219, minV=33.178  |  @Sun Oct  8 15:11:45 2023\n",
      "epoch=280, lossT=30.785, lossV=33.145, minV=33.146  |  @Sun Oct  8 15:12:50 2023\n",
      "epoch=300, lossT=30.711, lossV=33.119, minV=33.062  |  @Sun Oct  8 15:13:54 2023\n",
      "epoch=320, lossT=30.616, lossV=33.157, minV=33.029  |  @Sun Oct  8 15:14:59 2023\n",
      "epoch=340, lossT=30.551, lossV=33.065, minV=32.970  |  @Sun Oct  8 15:16:03 2023\n",
      "epoch=360, lossT=30.503, lossV=33.015, minV=32.925  |  @Sun Oct  8 15:17:07 2023\n",
      "epoch=380, lossT=30.467, lossV=33.011, minV=32.890  |  @Sun Oct  8 15:18:12 2023\n",
      "epoch=400, lossT=30.374, lossV=32.882, minV=32.843  |  @Sun Oct  8 15:19:16 2023\n",
      "epoch=420, lossT=30.360, lossV=32.995, minV=32.792  |  @Sun Oct  8 15:20:20 2023\n",
      "epoch=440, lossT=30.282, lossV=32.794, minV=32.792  |  @Sun Oct  8 15:21:24 2023\n",
      "epoch=460, lossT=30.274, lossV=32.745, minV=32.719  |  @Sun Oct  8 15:22:30 2023\n",
      "epoch=480, lossT=30.172, lossV=32.770, minV=32.719  |  @Sun Oct  8 15:23:34 2023\n",
      "epoch=500, lossT=30.202, lossV=32.723, minV=32.685  |  @Sun Oct  8 15:24:39 2023\n",
      "epoch=520, lossT=30.112, lossV=32.867, minV=32.685  |  @Sun Oct  8 15:25:43 2023\n",
      "epoch=540, lossT=30.072, lossV=32.643, minV=32.624  |  @Sun Oct  8 15:26:48 2023\n",
      "epoch=560, lossT=30.060, lossV=32.714, minV=32.624  |  @Sun Oct  8 15:27:53 2023\n",
      "epoch=580, lossT=30.086, lossV=32.699, minV=32.586  |  @Sun Oct  8 15:28:57 2023\n",
      "epoch=600, lossT=29.974, lossV=32.746, minV=32.550  |  @Sun Oct  8 15:30:02 2023\n",
      "epoch=620, lossT=29.962, lossV=32.594, minV=32.550  |  @Sun Oct  8 15:31:06 2023\n",
      "epoch=640, lossT=29.919, lossV=32.624, minV=32.550  |  @Sun Oct  8 15:32:11 2023\n",
      "epoch=660, lossT=29.889, lossV=32.737, minV=32.550  |  @Sun Oct  8 15:33:17 2023\n",
      "epoch=680, lossT=29.893, lossV=32.623, minV=32.548  |  @Sun Oct  8 15:34:21 2023\n",
      "epoch=700, lossT=29.911, lossV=32.609, minV=32.512  |  @Sun Oct  8 15:35:26 2023\n",
      "epoch=720, lossT=29.886, lossV=32.716, minV=32.512  |  @Sun Oct  8 15:36:30 2023\n",
      "epoch=740, lossT=29.835, lossV=32.696, minV=32.499  |  @Sun Oct  8 15:37:34 2023\n",
      "epoch=760, lossT=29.767, lossV=32.485, minV=32.493  |  @Sun Oct  8 15:38:38 2023\n",
      "epoch=780, lossT=29.788, lossV=32.534, minV=32.485  |  @Sun Oct  8 15:39:43 2023\n",
      "epoch=800, lossT=29.700, lossV=32.544, minV=32.485  |  @Sun Oct  8 15:40:48 2023\n",
      "epoch=820, lossT=29.704, lossV=32.481, minV=32.462  |  @Sun Oct  8 15:41:53 2023\n",
      "epoch=840, lossT=29.642, lossV=32.554, minV=32.462  |  @Sun Oct  8 15:42:57 2023\n",
      "epoch=860, lossT=29.654, lossV=32.480, minV=32.462  |  @Sun Oct  8 15:44:01 2023\n",
      "epoch=880, lossT=29.607, lossV=32.527, minV=32.424  |  @Sun Oct  8 15:45:05 2023\n",
      "epoch=900, lossT=29.649, lossV=32.561, minV=32.424  |  @Sun Oct  8 15:46:09 2023\n",
      "epoch=920, lossT=29.686, lossV=32.504, minV=32.424  |  @Sun Oct  8 15:47:14 2023\n",
      "epoch=940, lossT=29.562, lossV=32.445, minV=32.424  |  @Sun Oct  8 15:48:18 2023\n",
      "epoch=960, lossT=29.573, lossV=32.434, minV=32.419  |  @Sun Oct  8 15:49:23 2023\n",
      "epoch=980, lossT=29.515, lossV=32.507, minV=32.398  |  @Sun Oct  8 15:50:27 2023\n",
      "epoch=1000, lossT=29.515, lossV=32.447, minV=32.393  |  @Sun Oct  8 15:51:31 2023\n",
      "epoch=1020, lossT=29.549, lossV=32.655, minV=32.393  |  @Sun Oct  8 15:52:35 2023\n",
      "epoch=1040, lossT=29.472, lossV=32.460, minV=32.393  |  @Sun Oct  8 15:53:40 2023\n",
      "epoch=1060, lossT=29.463, lossV=32.473, minV=32.393  |  @Sun Oct  8 15:54:45 2023\n",
      "epoch=1080, lossT=29.430, lossV=32.496, minV=32.393  |  @Sun Oct  8 15:55:49 2023\n",
      "Early stopping at 1097\n"
     ]
    }
   ],
   "source": [
    "lossesT = []\n",
    "lossesE = []\n",
    "lossesV = []\n",
    "for epoch in range(3000):\n",
    "    lossesE = []\n",
    "    net.train()\n",
    "#     print('before training: ', torch.cuda.memory_allocated())\n",
    "    \n",
    "    for data in dlr_train:\n",
    "        optim.zero_grad()\n",
    "\n",
    "        y_hat = net(data.x.view(dlr_train.batch_size, nNodes, isep, 1).to(device))\n",
    "        loss = criterion(y_hat.view(-1), data.y.view(-1).to(device))\n",
    "        if np.isnan(loss.item()):\n",
    "            print(\"nan loss! Stop\")\n",
    "            break\n",
    "        loss.backward()\n",
    "        optim.step()\n",
    "        lossesE.append(loss.item())\n",
    "#         break\n",
    "#     print('after training: ', torch.cuda.memory_allocated())\n",
    "    \n",
    "    lossesT.append(np.array(lossesE).mean())\n",
    "    \n",
    "    net.eval()\n",
    "\n",
    "#     print('before validating: ', torch.cuda.memory_allocated())\n",
    "    \n",
    "    yV_hat = net(dataV.x.view(len(dsG_valid), nNodes, isep, 1).to(device))\n",
    "#     print('after validating: ', torch.cuda.memory_allocated())\n",
    "    \n",
    "    lossesV.append(criterion(yV_hat.view(-1), yV.view(-1)).item())\n",
    "#     print('after criterion: ', torch.cuda.memory_allocated())\n",
    "    \n",
    "    if epoch % 20 == 0:\n",
    "        print(f\"epoch={epoch}, lossT={lossesT[-1]:.3f}, lossV={lossesV[-1]:.3f}, minV={esp.val_loss_min:.3f}  |  @{time.ctime()}\")\n",
    "\n",
    "#         print(torch.cuda.memory_allocated())\n",
    "    esp(lossesV[-1], net)\n",
    "    if esp.early_stop:\n",
    "        print(f\"Early stopping at {epoch}\")\n",
    "        break\n",
    "#     break"
   ]
  },
  {
   "cell_type": "code",
   "execution_count": 101,
   "id": "09f53a9c",
   "metadata": {},
   "outputs": [],
   "source": [
    "rgp = ai_rdee.Regression.RegressionPerformance()"
   ]
  },
  {
   "cell_type": "code",
   "execution_count": 102,
   "id": "17bf65c7",
   "metadata": {},
   "outputs": [],
   "source": [
    "rgp.valid(yV_hat.view(-1).detach().cpu(), yV.view(-1).detach().cpu())"
   ]
  },
  {
   "cell_type": "code",
   "execution_count": 103,
   "id": "fb0de6aa",
   "metadata": {},
   "outputs": [
    {
     "name": "stdout",
     "output_type": "stream",
     "text": [
      "target : tg1\n",
      "size   = 277056.000\n",
      "r      =      0.899\n",
      "r2     =      0.808\n",
      "rmse   =      5.611\n",
      "nRMSE  =      0.438\n",
      "MSE    =     31.484\n"
     ]
    }
   ],
   "source": [
    "rgp.valid.show()"
   ]
  },
  {
   "cell_type": "code",
   "execution_count": null,
   "id": "f10927f4",
   "metadata": {},
   "outputs": [],
   "source": []
  },
  {
   "cell_type": "markdown",
   "id": "c62c0f3f",
   "metadata": {},
   "source": [
    "## GCN2GRU\n",
    "\n",
    "+ 我靠, 不对啊, 有个问题, 我GCN完了之后, sequence就没了啊, 因为我变成了额, 一个hidden dim的feature, 他不再是那什么了?\n",
    "+ 但是换个思路, 如果把12个也当成图, 我只要hidden dim是12的倍数, 然后拆出来得到seq就好?比如36, 那我理解为每个seq变成3个attr, 再和nnodes相乘, 变成seq, nnodes*nfeatures这样? 似乎也说得过去...试试\n",
    "   * 有点怪, 因为GCNConv的时候, 比如12到36, 他是全连接的, 不是严格的比如, 每个去对应3个...额, 但是可以试试, 效果好不好另说"
   ]
  },
  {
   "cell_type": "code",
   "execution_count": 12,
   "id": "70b564ec",
   "metadata": {},
   "outputs": [],
   "source": [
    "class GCN2GRU(torch.nn.Module):  # \n",
    "    def __init__(self, nNodes, input_dim, hidden_dim_GCN, hidden_dim_GRU, output_dim):\n",
    "        super().__init__()\n",
    "#         torch.manual_seed(925)\n",
    "        self.conv1 = PyG.nn.GCNConv(input_dim, hidden_dim_GCN) # 只需定义好输入特征和输出特征即可\n",
    "        self.gru = torch.nn.GRU(hidden_dim_GCN//input_dim*nNodes, nNodes*hidden_dim_GRU)\n",
    "        self.regressor = torch.nn.Linear(nNodes*hidden_dim_GRU, nNodes*output_dim)\n",
    "\n",
    "    def forward(self, x, edge_index):\n",
    "        # x : (batch_size, nnodes, nFeatrues), edge_index: (2, nEdges)\n",
    "#         print(x.shape)\n",
    "        h = self.conv1(x, edge_index) # ->h: (batch_size, nNodes, n_hiddenG)\n",
    "        h = h.tanh()\n",
    "#         print(h.shape)\n",
    "        bs, nn, nh = h.shape\n",
    "        h = h.view(bs, nn * nh//12, 12).permute(2, 0, 1)\n",
    "        out, h = self.gru(h)  # ->h: (1, batch_size, nNodes * hidden_dim_GRU)\n",
    "        \n",
    "        # 分类层\n",
    "        out = self.regressor(h)\n",
    "\n",
    "        return out"
   ]
  },
  {
   "cell_type": "code",
   "execution_count": 23,
   "id": "c3a39b95",
   "metadata": {},
   "outputs": [],
   "source": [
    "net = GCN2GRU(156, 12, 12, 20, 3)"
   ]
  },
  {
   "cell_type": "code",
   "execution_count": 24,
   "id": "37ccb86b",
   "metadata": {
    "scrolled": true
   },
   "outputs": [
    {
     "data": {
      "text/plain": [
       "544496128"
      ]
     },
     "execution_count": 24,
     "metadata": {},
     "output_type": "execute_result"
    }
   ],
   "source": [
    "torch.cuda.memory_allocated()"
   ]
  },
  {
   "cell_type": "code",
   "execution_count": 25,
   "id": "372f4ba6",
   "metadata": {
    "scrolled": true
   },
   "outputs": [
    {
     "data": {
      "text/plain": [
       "GCN2GRU(\n",
       "  (conv1): GCNConv(12, 24)\n",
       "  (gru): GRU(312, 3120)\n",
       "  (regressor): Linear(in_features=3120, out_features=468, bias=True)\n",
       ")"
      ]
     },
     "execution_count": 25,
     "metadata": {},
     "output_type": "execute_result"
    }
   ],
   "source": [
    "net.to(device)"
   ]
  },
  {
   "cell_type": "code",
   "execution_count": 26,
   "id": "0031c1cc",
   "metadata": {},
   "outputs": [
    {
     "data": {
      "text/plain": [
       "679718912"
      ]
     },
     "execution_count": 26,
     "metadata": {},
     "output_type": "execute_result"
    }
   ],
   "source": [
    "torch.cuda.memory_allocated()"
   ]
  },
  {
   "cell_type": "code",
   "execution_count": 27,
   "id": "02a4d1c4",
   "metadata": {},
   "outputs": [],
   "source": [
    "# model.double()\n",
    "\n",
    "criterion = torch.nn.MSELoss()\n",
    "optim = torch.optim.Adam(net.parameters())\n",
    "# esp = ai_rdee.AiTools.EarlyStopping(200)\n"
   ]
  },
  {
   "cell_type": "code",
   "execution_count": 28,
   "id": "bda9ca22",
   "metadata": {},
   "outputs": [],
   "source": [
    "eis = dsG.eis"
   ]
  },
  {
   "cell_type": "code",
   "execution_count": 29,
   "id": "1dc056ec",
   "metadata": {},
   "outputs": [],
   "source": [
    "# dat0 = next(iter(dlr_train))\n",
    "\n",
    "# y = net(dat0.x.view(64, -1, 12), eis)\n",
    "\n",
    "# y.shape\n",
    "\n",
    "# dat0.y.shape"
   ]
  },
  {
   "cell_type": "code",
   "execution_count": 30,
   "id": "f43c28d1",
   "metadata": {},
   "outputs": [],
   "source": [
    "esp = ai_rdee.AiTools.EarlyStopping(60)"
   ]
  },
  {
   "cell_type": "code",
   "execution_count": 31,
   "id": "745343d8",
   "metadata": {},
   "outputs": [],
   "source": [
    "dataV = next(iter(dlr_valid))\n",
    "yV = dataV.y.to(device)"
   ]
  },
  {
   "cell_type": "code",
   "execution_count": 32,
   "id": "e8ba184d",
   "metadata": {},
   "outputs": [
    {
     "name": "stdout",
     "output_type": "stream",
     "text": [
      "epoch=0, lossT=122.853, lossV=54.862, minV=inf  |  @Sat Oct  7 17:08:09 2023\n",
      "epoch=10, lossT=33.167, lossV=32.918, minV=32.842  |  @Sat Oct  7 17:08:25 2023\n",
      "epoch=20, lossT=30.974, lossV=30.852, minV=30.895  |  @Sat Oct  7 17:08:36 2023\n",
      "epoch=30, lossT=28.941, lossV=29.168, minV=28.999  |  @Sat Oct  7 17:08:52 2023\n",
      "epoch=40, lossT=27.399, lossV=27.837, minV=27.972  |  @Sat Oct  7 17:09:05 2023\n",
      "epoch=50, lossT=26.589, lossV=27.715, minV=27.533  |  @Sat Oct  7 17:09:18 2023\n",
      "epoch=60, lossT=25.642, lossV=27.291, minV=27.296  |  @Sat Oct  7 17:09:31 2023\n",
      "epoch=70, lossT=24.629, lossV=27.196, minV=27.218  |  @Sat Oct  7 17:09:44 2023\n",
      "epoch=80, lossT=23.436, lossV=27.367, minV=27.196  |  @Sat Oct  7 17:09:54 2023\n",
      "epoch=90, lossT=21.924, lossV=27.568, minV=27.196  |  @Sat Oct  7 17:10:03 2023\n",
      "epoch=100, lossT=20.102, lossV=27.992, minV=27.196  |  @Sat Oct  7 17:10:12 2023\n",
      "epoch=110, lossT=17.830, lossV=28.719, minV=27.196  |  @Sat Oct  7 17:10:21 2023\n",
      "epoch=120, lossT=15.170, lossV=29.553, minV=27.196  |  @Sat Oct  7 17:10:31 2023\n",
      "epoch=130, lossT=12.536, lossV=30.750, minV=27.196  |  @Sat Oct  7 17:10:41 2023\n",
      "Early stopping at 130\n"
     ]
    }
   ],
   "source": [
    "lossesT = []\n",
    "lossesE = []\n",
    "lossesV = []\n",
    "for epoch in range(3000):\n",
    "    lossesE = []\n",
    "    net.train()\n",
    "#     print('before training: ', torch.cuda.memory_allocated())\n",
    "    \n",
    "    for data in dlr_train:\n",
    "        optim.zero_grad()\n",
    "\n",
    "        y_hat = net(data.x.view(dlr_train.batch_size, -1, 12).to(device), eis.to(device))\n",
    "        loss = criterion(y_hat.view(-1), data.y.view(-1).to(device))\n",
    "        if np.isnan(loss.item()):\n",
    "            print(\"nan loss! Stop\")\n",
    "            break\n",
    "        loss.backward()\n",
    "        optim.step()\n",
    "        lossesE.append(loss.item())\n",
    "#         break\n",
    "#     print('after training: ', torch.cuda.memory_allocated())\n",
    "    \n",
    "    lossesT.append(np.array(lossesE).mean())\n",
    "    \n",
    "    net.eval()\n",
    "\n",
    "#     print('before validating: ', torch.cuda.memory_allocated())\n",
    "    \n",
    "    yV_hat = net(dataV.x.view(len(dsG_valid), -1, 12).to(device), eis.to(device))\n",
    "#     print('after validating: ', torch.cuda.memory_allocated())\n",
    "    \n",
    "    lossesV.append(criterion(yV_hat.view(-1), yV.view(-1)).item())\n",
    "#     print('after criterion: ', torch.cuda.memory_allocated())\n",
    "    \n",
    "    if epoch % 10 == 0:\n",
    "        print(f\"epoch={epoch}, lossT={lossesT[-1]:.3f}, lossV={lossesV[-1]:.3f}, minV={esp.val_loss_min:.3f}  |  @{time.ctime()}\")\n",
    "\n",
    "#         print(torch.cuda.memory_allocated())\n",
    "    esp(lossesV[-1], net)\n",
    "    if esp.early_stop:\n",
    "        print(f\"Early stopping at {epoch}\")\n",
    "        break\n",
    "#     break"
   ]
  },
  {
   "cell_type": "code",
   "execution_count": 33,
   "id": "43a104c4",
   "metadata": {},
   "outputs": [
    {
     "data": {
      "image/png": "[encoded data removed]",
      "text/plain": [
       "<Figure size 640x480 with 1 Axes>"
      ]
     },
     "metadata": {},
     "output_type": "display_data"
    }
   ],
   "source": [
    "plt.plot(lossesT)\n",
    "plt.plot(lossesV)\n",
    "plt.yscale('log')"
   ]
  },
  {
   "cell_type": "code",
   "execution_count": 28,
   "id": "c03c2983",
   "metadata": {},
   "outputs": [
    {
     "data": {
      "text/plain": [
       "41.70465087890625"
      ]
     },
     "execution_count": 28,
     "metadata": {},
     "output_type": "execute_result"
    }
   ],
   "source": [
    "(5805547520 - 5455703552) / 8 / 1024 / 1024"
   ]
  },
  {
   "cell_type": "code",
   "execution_count": null,
   "id": "3be13a59",
   "metadata": {},
   "outputs": [],
   "source": [
    "def count_parameters(model):\n",
    "    return sum(p.numel() for p in model.parameters() if p.requires_grad)\n",
    "\n",
    "num_params = count_parameters(model)\n",
    "print(f\"The model has {num_params} trainable parameters\")"
   ]
  },
  {
   "cell_type": "code",
   "execution_count": null,
   "id": "5513c5df",
   "metadata": {},
   "outputs": [],
   "source": []
  },
  {
   "cell_type": "code",
   "execution_count": null,
   "id": "7fad0ac3",
   "metadata": {},
   "outputs": [],
   "source": []
  },
  {
   "cell_type": "code",
   "execution_count": null,
   "id": "f39953f1",
   "metadata": {},
   "outputs": [],
   "source": []
  },
  {
   "cell_type": "code",
   "execution_count": null,
   "id": "c732637e",
   "metadata": {},
   "outputs": [],
   "source": []
  },
  {
   "cell_type": "code",
   "execution_count": 43,
   "id": "efefe9f7",
   "metadata": {},
   "outputs": [
    {
     "data": {
      "text/plain": [
       "GCN2GRU(\n",
       "  (conv1): GCNConv(12, 36)\n",
       "  (gru): GRU(468, 9984)\n",
       "  (regressor): Linear(in_features=9984, out_features=468, bias=True)\n",
       ")"
      ]
     },
     "execution_count": 43,
     "metadata": {},
     "output_type": "execute_result"
    }
   ],
   "source": [
    "net.eval()"
   ]
  },
  {
   "cell_type": "code",
   "execution_count": 48,
   "id": "ceb48d25",
   "metadata": {},
   "outputs": [],
   "source": [
    "dataTest = next(iter(dlr_test))\n",
    "yT = dataTest.y.to(device)\n",
    "yT_hat = net(dataTest.x.view(len(dsG_test), -1, 12).to(device), eis.to(device))"
   ]
  },
  {
   "cell_type": "code",
   "execution_count": 49,
   "id": "216b0c0f",
   "metadata": {},
   "outputs": [],
   "source": [
    "rgp = ai_rdee.Regression.RegressionPerformance()"
   ]
  },
  {
   "cell_type": "code",
   "execution_count": 50,
   "id": "eb64d8f3",
   "metadata": {},
   "outputs": [
    {
     "data": {
      "text/plain": [
       "torch.Size([92352, 3])"
      ]
     },
     "execution_count": 50,
     "metadata": {},
     "output_type": "execute_result"
    }
   ],
   "source": [
    "yT.shape"
   ]
  },
  {
   "cell_type": "code",
   "execution_count": 51,
   "id": "810d615d",
   "metadata": {},
   "outputs": [
    {
     "data": {
      "text/plain": [
       "torch.Size([1, 592, 468])"
      ]
     },
     "execution_count": 51,
     "metadata": {},
     "output_type": "execute_result"
    }
   ],
   "source": [
    "yT_hat.shape"
   ]
  },
  {
   "cell_type": "code",
   "execution_count": 52,
   "id": "406dfa10",
   "metadata": {},
   "outputs": [],
   "source": [
    "rgp.test(yT_hat.detach().cpu().view(-1), yT.detach().cpu().view(-1))"
   ]
  },
  {
   "cell_type": "code",
   "execution_count": 54,
   "id": "b7a118cd",
   "metadata": {},
   "outputs": [
    {
     "name": "stdout",
     "output_type": "stream",
     "text": [
      "target : tg1\n",
      "size   = 277056.000\n",
      "r      =      0.866\n",
      "r2     =      0.741\n",
      "rmse   =      6.471\n",
      "nRMSE  =      0.509\n",
      "MSE    =     41.875\n"
     ]
    }
   ],
   "source": [
    "rgp.test.show()"
   ]
  },
  {
   "cell_type": "code",
   "execution_count": 57,
   "id": "5a692ab5",
   "metadata": {},
   "outputs": [],
   "source": [
    "dataTrain = next(iter(dlr_train_noBatch))\n",
    "yT = dataTrain.y.to(device)\n",
    "yT_hat = net(dataTrain.x.view(len(dsG_train), -1, 12).to(device), eis.to(device))"
   ]
  },
  {
   "cell_type": "code",
   "execution_count": 58,
   "id": "92f16e52",
   "metadata": {},
   "outputs": [],
   "source": [
    "rgp.train(yT_hat.detach().cpu().view(-1), yT.detach().cpu().view(-1))"
   ]
  },
  {
   "cell_type": "code",
   "execution_count": 59,
   "id": "4ad8763f",
   "metadata": {},
   "outputs": [
    {
     "name": "stdout",
     "output_type": "stream",
     "text": [
      "target : tg1\n",
      "size   = 1109160.000\n",
      "r      =      1.000\n",
      "r2     =      0.999\n",
      "rmse   =      0.371\n",
      "nRMSE  =      0.029\n",
      "MSE    =      0.138\n"
     ]
    }
   ],
   "source": [
    "rgp.train.show()"
   ]
  },
  {
   "cell_type": "code",
   "execution_count": null,
   "id": "489dfcc7",
   "metadata": {},
   "outputs": [],
   "source": []
  }
 ],
 "metadata": {
  "kernelspec": {
   "display_name": "ai",
   "language": "python",
   "name": "ai"
  },
  "language_info": {
   "codemirror_mode": {
    "name": "ipython",
    "version": 3
   },
   "file_extension": ".py",
   "mimetype": "text/x-python",
   "name": "python",
   "nbconvert_exporter": "python",
   "pygments_lexer": "ipython3",
   "version": "3.11.4"
  }
 },
 "nbformat": 4,
 "nbformat_minor": 5
}
