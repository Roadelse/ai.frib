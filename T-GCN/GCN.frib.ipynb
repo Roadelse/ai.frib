{
 "cells": [
  {
   "cell_type": "markdown",
   "id": "2307f48c",
   "metadata": {},
   "source": [
    "# T-GCN\n",
    "\n",
    "+ from : https://ieeexplore.ieee.org/document/8809901\n",
    "+ Github: https://github.com/lehaifeng/T-GCN\n",
    "+ clone2: `(G) D::~external/T-GCN` \n",
    "+ dataset: Los & SZ traffic spped, in `clone2` & `./data`"
   ]
  },
  {
   "cell_type": "markdown",
   "id": "bdba1881",
   "metadata": {},
   "source": [
    "# My Implement\n",
    "\n",
    "+ use PyG rather than man-made GraphConv\n",
    "+ implement all of the 3 models: GCN, GRU, TGCN, as an exercise"
   ]
  },
  {
   "cell_type": "markdown",
   "id": "005abfb6",
   "metadata": {},
   "source": [
    "## GCN\n",
    "\n",
    "### Algorithm\n",
    "\n",
    "+ 先理一下思路emmm\n",
    "+ 这里就是简单的卷积, 然后就单隐藏层...\n",
    "+ 超参数的话, batch_size 64, hidden_dim 100, input_dim 12\n",
    "+ input_dim是dataloader里的seq_len, 12, 对应pre_len: 3, 我的理解就是用12个时刻的数据去预测后面3个时刻的结果\n",
    "+ 有个问题, 单GCN怎么处理这12个时刻的图数据? 当成一个node的12个properties? 好像还真是, 毕竟用seq_len作为input_dim了都...嗯..那我就这么搞!\n",
    "\n",
    "\n",
    "### issues\n",
    "\n",
    "+ 不用pytorch_lightning因为以后估计在sw上用不了...\n",
    "+ 不是, 为啥论文里说`each row represents one road`啊, 我看数据明明row是一个时间...\n",
    "+ 我得做个pyG可用的数据集, 看看之前拿到的教程里的...\n",
    "   * 靠, 原来一个Data只得到一个sample...还得用个list传进DataLoader里去, ok..\n",
    "+ 为啥他的代码里有个weight没bias的?\n",
    "   * 原来是AXW里的W, 他就是没有bias...还没到linear层\n",
    "   * 那应该在pyG的conv里包含了不用我手写吧?\n",
    "      - 哎对\n",
    "+ 有一个问题啊, 对于一个GCNConv, 按理说我应该传入一个二位数组(n_nodes, n_properties), 但是batchsize?\n",
    "   * 我看他T-GCN是手动处理这个逻辑的...就是把n_batchsize和n_properties成起来了, 可以理解成, 嗯, 一个图, 但是属性变多了\n",
    "   * 但是pyG我发现他好像可以直接传3维数组进去?\n",
    "   * 而且我check了一下, 算的和单个2维传进去算的是一样的呢, 啊?\n",
    "   * 问GPT也没用, 他说expected 2-d的呢?...\n",
    "   * 我觉得我得用pycharm去debug mode看看, md他这个源代码直接看看不明白, 用了hook啥的函数变量去调用, md根本找不到在哪\n",
    "   * 又问了GPT半天, 回答我说是对于temporal的, PyG自动回一个一个的去计算, ok, 和我想的一致\n",
    "   * 但是是这样婶儿的, 3维的传进去, 没问题, 但是如果是2维的但是拼接的话, **那就有问题!!**\n",
    "   * 他就只有第一个graph参与了计算实际上, 除非我把edge_index也给做进去\n",
    "   * ok, 然后我坐进了ai_rdee里去..嗯...有点强行哈哈, 之后再考虑修改吧"
   ]
  },
  {
   "cell_type": "markdown",
   "id": "fadc6bdf",
   "metadata": {},
   "source": [
    "***\n",
    "***\n",
    "***"
   ]
  },
  {
   "cell_type": "code",
   "execution_count": 2,
   "id": "b952ece1",
   "metadata": {},
   "outputs": [],
   "source": [
    "import numpy as np\n",
    "import pandas as pd\n",
    "\n",
    "import torch\n",
    "from torch.nn import Linear\n",
    "import torch.nn as nn\n",
    "from torch_geometric.nn import GCNConv\n",
    "\n",
    "from torch_geometric.data import Data\n",
    "from torch_geometric.loader import DataLoader\n",
    "\n",
    "\n",
    "import matplotlib.pyplot as plt\n",
    "\n",
    "import sys\n",
    "\n",
    "sys.path.append('../../ai.rdee')\n",
    "\n",
    "# import ai_rdee"
   ]
  },
  {
   "cell_type": "code",
   "execution_count": 3,
   "id": "b2afd580",
   "metadata": {},
   "outputs": [],
   "source": [
    "from torch.utils.data import random_split\n"
   ]
  },
  {
   "cell_type": "code",
   "execution_count": 4,
   "id": "0639b176",
   "metadata": {},
   "outputs": [
    {
     "data": {
      "text/plain": [
       "device(type='cuda')"
      ]
     },
     "execution_count": 4,
     "metadata": {},
     "output_type": "execute_result"
    }
   ],
   "source": [
    "device = torch.device('cuda' if torch.cuda.is_available() else 'cpu')\n",
    "device"
   ]
  },
  {
   "cell_type": "code",
   "execution_count": 8,
   "id": "cfe90c42",
   "metadata": {},
   "outputs": [],
   "source": [
    "# df_adj = pd.read_csv('data/sz_adj.csv', index_col=None, header = None)\n",
    "\n",
    "# A = df_adj.values\n",
    "# A.shape\n",
    "\n",
    "# eis = np.argwhere(A == 1).T\n",
    "\n",
    "# teis = torch.tensor(eis).to(device)"
   ]
  },
  {
   "cell_type": "code",
   "execution_count": null,
   "id": "d92a2bc1",
   "metadata": {},
   "outputs": [],
   "source": []
  },
  {
   "cell_type": "code",
   "execution_count": 5,
   "id": "edacfe67",
   "metadata": {},
   "outputs": [],
   "source": [
    "# import torch\n",
    "from torch_geometric.data import InMemoryDataset\n",
    "\n",
    "\n",
    "class TGCN_dataset(InMemoryDataset):\n",
    "    def __init__(self, root, transform=None, pre_transform=None, pre_filter=None):\n",
    "        super().__init__(root, transform, pre_transform, pre_filter)\n",
    "        self.data, self.slices = torch.load(self.processed_paths[0])\n",
    "\n",
    "    @property\n",
    "    def raw_file_names(self):\n",
    "        return ['data/sz_adj.csv', 'data/sz_speed.csv']\n",
    "\n",
    "    @property\n",
    "    def processed_file_names(self):\n",
    "        return ['data_sz.pt']\n",
    "\n",
    "    def download(self):\n",
    "        # Download to `self.raw_dir`.\n",
    "        pass\n",
    "        \n",
    "    def process(self):\n",
    "        # Read data into huge `Data` list.\n",
    "        fn_adj, fn_spd = self.raw_file_names\n",
    "        df_spd = pd.read_csv(fn_spd)\n",
    "        S = df_spd.values.T\n",
    "        df_adj = pd.read_csv(fn_adj, index_col=None, header = None)\n",
    "\n",
    "        A = df_adj.values\n",
    "        A.shape\n",
    "\n",
    "        eis = torch.tensor(np.argwhere(A == 1).T)\n",
    "        S = torch.Tensor(S)\n",
    "        data_list = []\n",
    "        for i in range(S.shape[1]-14):\n",
    "            data = Data(x=S[:,i:i+12], y=S[:,i+12:i+15], edge_index=eis)\n",
    "            data_list.append(data)\n",
    "        \n",
    "        \n",
    "        if self.pre_filter is not None:\n",
    "            data_list = [data for data in data_list if self.pre_filter(data)]\n",
    "\n",
    "        if self.pre_transform is not None:\n",
    "            data_list = [self.pre_transform(data) for data in data_list]\n",
    "\n",
    "        data, slices = self.collate(data_list)\n",
    "        torch.save((data, slices), self.processed_paths[0])"
   ]
  },
  {
   "cell_type": "code",
   "execution_count": 6,
   "id": "a421cd17",
   "metadata": {},
   "outputs": [],
   "source": [
    "szd = TGCN_dataset('./data')"
   ]
  },
  {
   "cell_type": "code",
   "execution_count": 9,
   "id": "9bb85e0d",
   "metadata": {},
   "outputs": [
    {
     "data": {
      "text/plain": [
       "defaultdict(dict,\n",
       "            {'x': tensor([     0,    156,    312,  ..., 461760, 461916, 462072]),\n",
       "             'edge_index': tensor([      0,     532,    1064,  ..., 1574720, 1575252, 1575784]),\n",
       "             'y': tensor([     0,    156,    312,  ..., 461760, 461916, 462072])})"
      ]
     },
     "execution_count": 9,
     "metadata": {},
     "output_type": "execute_result"
    }
   ],
   "source": [
    "szd.slices"
   ]
  },
  {
   "cell_type": "code",
   "execution_count": 10,
   "id": "3c89ce4d",
   "metadata": {},
   "outputs": [],
   "source": [
    "szd_learn, szd_test = random_split(szd, [0.8, 0.2])"
   ]
  },
  {
   "cell_type": "code",
   "execution_count": 36,
   "id": "dd1d3acd",
   "metadata": {},
   "outputs": [
    {
     "data": {
      "text/plain": [
       "<torch.utils.data.dataset.Subset at 0x1eac85fae90>"
      ]
     },
     "execution_count": 36,
     "metadata": {},
     "output_type": "execute_result"
    }
   ],
   "source": []
  },
  {
   "cell_type": "code",
   "execution_count": 39,
   "id": "89e4ef88",
   "metadata": {},
   "outputs": [],
   "source": [
    "dlr = DataLoader(szd[[1,2,3,4]], batch_size=2)"
   ]
  },
  {
   "cell_type": "code",
   "execution_count": 40,
   "id": "32c90e03",
   "metadata": {},
   "outputs": [
    {
     "name": "stdout",
     "output_type": "stream",
     "text": [
      "DataBatch(x=[312, 12], edge_index=[2, 1064], y=[312, 3], batch=[312], ptr=[3])\n",
      "DataBatch(x=[312, 12], edge_index=[2, 1064], y=[312, 3], batch=[312], ptr=[3])\n"
     ]
    }
   ],
   "source": [
    "for data in dlr:\n",
    "    print(data)"
   ]
  },
  {
   "cell_type": "code",
   "execution_count": 37,
   "id": "5bbd15cb",
   "metadata": {},
   "outputs": [],
   "source": [
    "a = szd[[1,2]]"
   ]
  },
  {
   "cell_type": "code",
   "execution_count": 38,
   "id": "34d30944",
   "metadata": {},
   "outputs": [
    {
     "data": {
      "text/plain": [
       "TGCN_dataset(2)"
      ]
     },
     "execution_count": 38,
     "metadata": {},
     "output_type": "execute_result"
    }
   ],
   "source": [
    "a"
   ]
  },
  {
   "cell_type": "code",
   "execution_count": 27,
   "id": "a7477696",
   "metadata": {},
   "outputs": [
    {
     "name": "stderr",
     "output_type": "stream",
     "text": [
      "D:\\XAPP\\miniconda3\\envs\\ai\\Lib\\site-packages\\torch_geometric\\data\\in_memory_dataset.py:157: UserWarning: It is not recommended to directly access the internal storage format `data` of an 'InMemoryDataset'. The data of the dataset is already cached, so any modifications to `data` will not be reflected when accessing its elements. Clearing the cache now by removing all elements in `dataset._data_list`. If you are absolutely certain what you are doing, access the internal storage via `InMemoryDataset._data` instead to suppress this warning. Alternatively, you can access stacked individual attributes of every graph via `dataset.{attr_name}`.\n",
      "  warnings.warn(msg)\n"
     ]
    },
    {
     "data": {
      "text/plain": [
       "Data(x=[462072, 12], edge_index=[2, 1575784], y=[462072, 3])"
      ]
     },
     "execution_count": 27,
     "metadata": {},
     "output_type": "execute_result"
    }
   ],
   "source": [
    "szd.data"
   ]
  },
  {
   "cell_type": "code",
   "execution_count": 29,
   "id": "e6eb108f",
   "metadata": {},
   "outputs": [
    {
     "data": {
      "text/plain": [
       "462072"
      ]
     },
     "execution_count": 29,
     "metadata": {},
     "output_type": "execute_result"
    }
   ],
   "source": [
    "2962 * 156"
   ]
  },
  {
   "cell_type": "code",
   "execution_count": 31,
   "id": "4a28ab41",
   "metadata": {},
   "outputs": [
    {
     "data": {
      "text/plain": [
       "defaultdict(dict,\n",
       "            {'x': tensor([     0,    156,    312,  ..., 461760, 461916, 462072]),\n",
       "             'edge_index': tensor([      0,     532,    1064,  ..., 1574720, 1575252, 1575784]),\n",
       "             'y': tensor([     0,    156,    312,  ..., 461760, 461916, 462072])})"
      ]
     },
     "execution_count": 31,
     "metadata": {},
     "output_type": "execute_result"
    }
   ],
   "source": [
    "szd.slices"
   ]
  },
  {
   "cell_type": "code",
   "execution_count": 35,
   "id": "f23c4927",
   "metadata": {},
   "outputs": [
    {
     "data": {
      "text/plain": [
       "torch.Size([2963])"
      ]
     },
     "execution_count": 35,
     "metadata": {},
     "output_type": "execute_result"
    }
   ],
   "source": [
    "szd.slices['edge_index'].size()"
   ]
  },
  {
   "cell_type": "code",
   "execution_count": 22,
   "id": "84099767",
   "metadata": {},
   "outputs": [
    {
     "data": {
      "text/plain": [
       "Data(x=[156, 12], edge_index=[2, 532], y=[156, 3])"
      ]
     },
     "execution_count": 22,
     "metadata": {},
     "output_type": "execute_result"
    }
   ],
   "source": [
    "szd[1]"
   ]
  },
  {
   "cell_type": "code",
   "execution_count": null,
   "id": "aefb2d6b",
   "metadata": {},
   "outputs": [],
   "source": []
  },
  {
   "cell_type": "code",
   "execution_count": null,
   "id": "d85d2b96",
   "metadata": {},
   "outputs": [],
   "source": []
  },
  {
   "cell_type": "code",
   "execution_count": 11,
   "id": "f4804499",
   "metadata": {
    "scrolled": true
   },
   "outputs": [
    {
     "data": {
      "text/plain": [
       "2962"
      ]
     },
     "execution_count": 11,
     "metadata": {},
     "output_type": "execute_result"
    }
   ],
   "source": [
    "len(szd)"
   ]
  },
  {
   "cell_type": "code",
   "execution_count": 12,
   "id": "357f3a51",
   "metadata": {},
   "outputs": [],
   "source": [
    "test_ratio = 0.2\n",
    "test_len = int(test_ratio * len(szd))"
   ]
  },
  {
   "cell_type": "code",
   "execution_count": 13,
   "id": "b973612e",
   "metadata": {},
   "outputs": [],
   "source": [
    "learn_len = len(szd) - test_len"
   ]
  },
  {
   "cell_type": "code",
   "execution_count": null,
   "id": "f4642e1c",
   "metadata": {},
   "outputs": [],
   "source": []
  },
  {
   "cell_type": "code",
   "execution_count": 14,
   "id": "31faff7d",
   "metadata": {},
   "outputs": [],
   "source": [
    "szd_learn, szd_test = random_split(szd, [learn_len, test_len])"
   ]
  },
  {
   "cell_type": "code",
   "execution_count": 15,
   "id": "441a539b",
   "metadata": {},
   "outputs": [],
   "source": [
    "# dlr_learn = DataLoader(szd_train, batch_size=64, shuffle=True)\n",
    "# dlr_test = DataLoader(szd_valid, batch_size=592)"
   ]
  },
  {
   "cell_type": "code",
   "execution_count": 16,
   "id": "8e7e930d",
   "metadata": {},
   "outputs": [],
   "source": [
    "class GCN(torch.nn.Module):\n",
    "    def __init__(self):\n",
    "        super().__init__()\n",
    "        torch.manual_seed(9981)\n",
    "        self.conv1 = GCNConv(12, 20) # 只需定义好输入特征和输出特征即可\n",
    "        self.regressor = Linear(20, 3)\n",
    "\n",
    "    def forward(self, x, edge_index):\n",
    "        # x : nBatch x nnodes x 12\n",
    "        \n",
    "        \n",
    "        h = self.conv1(x, edge_index) # 输入特征与邻接矩阵（注意格式，上面那种）\n",
    "        h = h.tanh()\n",
    "        \n",
    "        # 分类层\n",
    "        out = self.regressor(h)\n",
    "\n",
    "        return out"
   ]
  },
  {
   "cell_type": "code",
   "execution_count": 17,
   "id": "9a7da910",
   "metadata": {},
   "outputs": [],
   "source": [
    "model = GCN()\n",
    "\n",
    "model.to(device)\n",
    "\n",
    "# model.double()\n",
    "\n",
    "criterion = nn.MSELoss()\n",
    "optm = torch.optim.Adam(model.parameters())\n",
    "esp = ai_rdee.AiTools.EarlyStopping(200)\n"
   ]
  },
  {
   "cell_type": "code",
   "execution_count": 21,
   "id": "a5b749cf",
   "metadata": {},
   "outputs": [],
   "source": [
    "rgGNN = ai_rdee.Regression.GNNRegression(model, criterion, optm, esp, 2000)"
   ]
  },
  {
   "cell_type": "code",
   "execution_count": 22,
   "id": "92ba851d",
   "metadata": {
    "scrolled": true
   },
   "outputs": [
    {
     "name": "stdout",
     "output_type": "stream",
     "text": [
      "[  20/2000] train_loss: 117.35287, valid_loss: 113.85295, min_loss : 115.52928829193115, @2023/09/21 16:21:57\n",
      "[  40/2000] train_loss: 88.82689, valid_loss: 88.14357, min_loss : 88.17438793182373, @2023/09/21 16:22:02\n",
      "[  60/2000] train_loss: 76.82955, valid_loss: 76.20303, min_loss : 75.20321559906006, @2023/09/21 16:22:07\n",
      "[  80/2000] train_loss: 69.06510, valid_loss: 69.57649, min_loss : 68.83186960220337, @2023/09/21 16:22:12\n",
      "[ 100/2000] train_loss: 64.12400, valid_loss: 63.61861, min_loss : 63.60034513473511, @2023/09/21 16:22:17\n",
      "[ 120/2000] train_loss: 60.40593, valid_loss: 61.02468, min_loss : 60.524330615997314, @2023/09/21 16:22:22\n",
      "[ 140/2000] train_loss: 57.94391, valid_loss: 58.38985, min_loss : 57.66831302642822, @2023/09/21 16:22:27\n",
      "[ 160/2000] train_loss: 56.37687, valid_loss: 56.05971, min_loss : 55.868563652038574, @2023/09/21 16:22:32\n",
      "[ 180/2000] train_loss: 54.97384, valid_loss: 55.71351, min_loss : 54.66372299194336, @2023/09/21 16:22:37\n",
      "[ 200/2000] train_loss: 54.49748, valid_loss: 54.07632, min_loss : 53.63371515274048, @2023/09/21 16:22:42\n",
      "[ 220/2000] train_loss: 53.93301, valid_loss: 54.73817, min_loss : 53.04464817047119, @2023/09/21 16:22:47\n",
      "[ 240/2000] train_loss: 53.71503, valid_loss: 54.13878, min_loss : 53.04464817047119, @2023/09/21 16:22:52\n",
      "[ 260/2000] train_loss: 53.56710, valid_loss: 53.67947, min_loss : 52.96964406967163, @2023/09/21 16:22:57\n",
      "[ 280/2000] train_loss: 53.34625, valid_loss: 53.25254, min_loss : 52.52538776397705, @2023/09/21 16:23:02\n",
      "[ 300/2000] train_loss: 53.25420, valid_loss: 53.00690, min_loss : 52.52538776397705, @2023/09/21 16:23:07\n",
      "[ 320/2000] train_loss: 53.29856, valid_loss: 52.98703, min_loss : 52.45703077316284, @2023/09/21 16:23:12\n",
      "[ 340/2000] train_loss: 53.18629, valid_loss: 53.59710, min_loss : 52.45703077316284, @2023/09/21 16:23:17\n",
      "[ 360/2000] train_loss: 53.16542, valid_loss: 54.04095, min_loss : 52.45703077316284, @2023/09/21 16:23:22\n",
      "[ 380/2000] train_loss: 53.12127, valid_loss: 53.56425, min_loss : 52.45703077316284, @2023/09/21 16:23:27\n",
      "[ 400/2000] train_loss: 53.19849, valid_loss: 52.94328, min_loss : 52.45703077316284, @2023/09/21 16:23:32\n",
      "[ 420/2000] train_loss: 53.32960, valid_loss: 53.71097, min_loss : 52.45703077316284, @2023/09/21 16:23:37\n",
      "[ 440/2000] train_loss: 53.12581, valid_loss: 53.13567, min_loss : 52.45703077316284, @2023/09/21 16:23:42\n",
      "[ 460/2000] train_loss: 53.09559, valid_loss: 52.49728, min_loss : 52.45703077316284, @2023/09/21 16:23:47\n",
      "[ 480/2000] train_loss: 53.23250, valid_loss: 53.45929, min_loss : 52.45703077316284, @2023/09/21 16:23:52\n",
      "[ 500/2000] train_loss: 53.20893, valid_loss: 53.90798, min_loss : 52.45703077316284, @2023/09/21 16:23:57\n",
      "Early stopping at 516\n"
     ]
    },
    {
     "data": {
      "text/plain": [
       "<ai_rdee.Regression.RegressionPerformance at 0x26230c628d0>"
      ]
     },
     "execution_count": 22,
     "metadata": {},
     "output_type": "execute_result"
    }
   ],
   "source": [
    "rgGNN.train(szd_learn, batch_size=64, verbose_nEpoch=20)"
   ]
  },
  {
   "cell_type": "code",
   "execution_count": 23,
   "id": "64ffba07",
   "metadata": {},
   "outputs": [],
   "source": [
    "rgp = rgGNN.perf"
   ]
  },
  {
   "cell_type": "code",
   "execution_count": 25,
   "id": "de14022d",
   "metadata": {},
   "outputs": [
    {
     "name": "stdout",
     "output_type": "stream",
     "text": [
      "target : tg1\n",
      "size   = 221832.000\n",
      "r      =      0.816\n",
      "r2     =      0.666\n",
      "rmse   =      7.310\n",
      "nRMSE  =      0.578\n",
      "MSE    =     53.436\n"
     ]
    }
   ],
   "source": [
    "rgp.valid.show()"
   ]
  },
  {
   "cell_type": "code",
   "execution_count": 38,
   "id": "86023229",
   "metadata": {
    "scrolled": true
   },
   "outputs": [
    {
     "data": {
      "text/plain": [
       "Data(x=[462072, 12], edge_index=[2, 1575784], y=[462072, 3])"
      ]
     },
     "execution_count": 38,
     "metadata": {},
     "output_type": "execute_result"
    }
   ],
   "source": [
    "szd._data"
   ]
  },
  {
   "cell_type": "code",
   "execution_count": 40,
   "id": "91be5947",
   "metadata": {},
   "outputs": [],
   "source": [
    "dlr_test = DataLoader(szd_test, batch_size = len(szd_test))"
   ]
  },
  {
   "cell_type": "code",
   "execution_count": 41,
   "id": "2f132e8f",
   "metadata": {},
   "outputs": [],
   "source": [
    "dbh = next(iter(dlr_test))"
   ]
  },
  {
   "cell_type": "code",
   "execution_count": 42,
   "id": "c01f5a2b",
   "metadata": {},
   "outputs": [
    {
     "data": {
      "text/plain": [
       "DataBatch(x=[92352, 12], edge_index=[2, 314944], y=[92352, 3], batch=[92352], ptr=[593])"
      ]
     },
     "execution_count": 42,
     "metadata": {},
     "output_type": "execute_result"
    }
   ],
   "source": [
    "dbh.to(device)"
   ]
  },
  {
   "cell_type": "code",
   "execution_count": 43,
   "id": "4352e13d",
   "metadata": {},
   "outputs": [],
   "source": [
    "y_test_fit = rgGNN.predict(dbh.x, dbh.edge_index)"
   ]
  },
  {
   "cell_type": "code",
   "execution_count": 44,
   "id": "5b97c911",
   "metadata": {},
   "outputs": [],
   "source": [
    "y_test = dbh.y"
   ]
  },
  {
   "cell_type": "code",
   "execution_count": 45,
   "id": "2e879296",
   "metadata": {
    "scrolled": true
   },
   "outputs": [
    {
     "data": {
      "text/plain": [
       "tensor([[30.2115, 30.2021, 30.1633],\n",
       "        [14.4415, 14.3604, 14.3389],\n",
       "        [19.4918, 19.4273, 19.3945],\n",
       "        ...,\n",
       "        [12.8618, 12.9470, 12.9237],\n",
       "        [16.1207, 16.0147, 15.9994],\n",
       "        [18.2042, 18.1449, 18.1107]], device='cuda:0',\n",
       "       grad_fn=<AddmmBackward0>)"
      ]
     },
     "execution_count": 45,
     "metadata": {},
     "output_type": "execute_result"
    }
   ],
   "source": [
    "y_test_fit"
   ]
  },
  {
   "cell_type": "code",
   "execution_count": 52,
   "id": "c58c0adc",
   "metadata": {
    "scrolled": true
   },
   "outputs": [
    {
     "data": {
      "text/plain": [
       "torch.Size([92352, 3])"
      ]
     },
     "execution_count": 52,
     "metadata": {},
     "output_type": "execute_result"
    }
   ],
   "source": [
    "y_test_fit.shape"
   ]
  },
  {
   "cell_type": "code",
   "execution_count": 47,
   "id": "d999ceab",
   "metadata": {},
   "outputs": [],
   "source": [
    "rgp.test(y_test_fit.detach().cpu().view(-1), y_test.detach().cpu().view(-1))"
   ]
  },
  {
   "cell_type": "code",
   "execution_count": 49,
   "id": "14878c1d",
   "metadata": {},
   "outputs": [
    {
     "name": "stdout",
     "output_type": "stream",
     "text": [
      "target : tg1\n",
      "size   = 277056.000\n",
      "r      =      0.815\n",
      "r2     =      0.663\n",
      "rmse   =      7.465\n",
      "nRMSE  =      0.580\n",
      "MSE    =     55.734\n"
     ]
    }
   ],
   "source": [
    "rgp.test.show()"
   ]
  },
  {
   "cell_type": "code",
   "execution_count": 53,
   "id": "7e79ac4f",
   "metadata": {},
   "outputs": [
    {
     "data": {
      "image/png": "[encoded data removed]",
      "text/plain": [
       "<Figure size 640x480 with 1 Axes>"
      ]
     },
     "metadata": {},
     "output_type": "display_data"
    }
   ],
   "source": [
    "rgp.plot_losses()"
   ]
  },
  {
   "cell_type": "code",
   "execution_count": null,
   "id": "d12615b4",
   "metadata": {},
   "outputs": [],
   "source": []
  }
 ],
 "metadata": {
  "kernelspec": {
   "display_name": "ai",
   "language": "python",
   "name": "ai"
  },
  "language_info": {
   "codemirror_mode": {
    "name": "ipython",
    "version": 3
   },
   "file_extension": ".py",
   "mimetype": "text/x-python",
   "name": "python",
   "nbconvert_exporter": "python",
   "pygments_lexer": "ipython3",
   "version": "3.11.4"
  }
 },
 "nbformat": 4,
 "nbformat_minor": 5
}
