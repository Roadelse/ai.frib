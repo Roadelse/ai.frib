{
 "cells": [
  {
   "cell_type": "markdown",
   "id": "bfa88265",
   "metadata": {},
   "source": [
    "# Blogs & Explain\n",
    "\n",
    "## [Pytorch手撕经典网络之LeNet5](https://zhuanlan.zhihu.com/p/29716516)\n",
    "+ 知乎专栏\n",
    "+ 手动实现了数据的加载与可视化的内容, 比较的原生态\n",
    "+ 手动指定每一层的形式\n",
    "\n",
    "## [PyTorch——LeNet实现（附完整代码）](https://blog.csdn.net/beilizhang/article/details/114483822)\n",
    "\n",
    "+ CSDN, 不是很行的网站\n",
    "+ 基于torchvision获取数据\n",
    "+ 使用Sequential构建网络\n",
    "\n",
    "## [动手学深度学习-5.5 LeNet](https://tangshusen.me/Dive-into-DL-PyTorch/#/chapter05_CNN/5.5_lenet)\n",
    "\n",
    "+ 一个online书籍教程的一部分, 体验极佳\n",
    "+ 配合书籍, 使用了`d2lzh_pytorch`这个特化包\n",
    "\n",
    "## [LeNet-5 Implementation on MNIST in PyTorch](https://medium.com/@deepeshdeepakdd2/lenet-5-implementation-on-mnist-in-pytorch-c6f2ee306e37)\n",
    "+ 还包括很多数据可视化等通用性的额外功能代码, 值得初学上手细品\n",
    "\n",
    "## [我用 PyTorch 复现了 LeNet-5 神经网络（自定义数据集篇）！](https://cloud.tencent.com/developer/article/1931716)\n",
    "+ 主要是自己搞了一套数据集去用LeNet训练\n",
    "\n",
    "\n",
    "\n",
    "# Paper\n",
    "\n",
    "+ 典中典1998! [Lecun : Gradient-based learning applied to document recognition](https://www.doi.org/10.1109/5.726791)"
   ]
  },
  {
   "cell_type": "markdown",
   "id": "d916c713",
   "metadata": {},
   "source": [
    "# MineCode"
   ]
  },
  {
   "cell_type": "markdown",
   "id": "42b82f12",
   "metadata": {},
   "source": [
    "## 0. import packages"
   ]
  },
  {
   "cell_type": "code",
   "execution_count": 109,
   "id": "4c9e9e1a",
   "metadata": {},
   "outputs": [],
   "source": [
    "import sys\n",
    "import time\n",
    "import shutil\n",
    "\n",
    "import numpy as np\n",
    "\n",
    "import torch\n",
    "import torchvision\n",
    "import torchvision.transforms as transforms\n",
    "from torch import nn\n",
    "\n",
    "from torch.utils.tensorboard import SummaryWriter\n",
    "\n",
    "import progressbar\n",
    "\n",
    "import matplotlib.pyplot as plt"
   ]
  },
  {
   "cell_type": "markdown",
   "id": "7d4b9f88",
   "metadata": {},
   "source": [
    "## 1. 数据加载"
   ]
  },
  {
   "cell_type": "code",
   "execution_count": 160,
   "id": "c504f8c6",
   "metadata": {},
   "outputs": [],
   "source": [
    "mnist_train = torchvision.datasets.FashionMNIST(root='./FashionMNIST', train=True, download=True, transform=transforms.ToTensor())\n",
    "mnist_test = torchvision.datasets.FashionMNIST(root='./FashionMNIST', train=False, download=True, transform=transforms.ToTensor())\n",
    "\n",
    "\n",
    "\n",
    "if sys.platform.startswith('win'):\n",
    "    num_workers = 0\n",
    "else:\n",
    "    num_workers = 4\n",
    "\n",
    "batch_size = 256\n",
    "\n",
    "    \n",
    "train_iter = torch.utils.data.DataLoader(mnist_train, batch_size=batch_size, shuffle=True, num_workers=num_workers)\n",
    "# test_iter = torch.utils.data.DataLoader(mnist_test, batch_size=batch_size, shuffle=False, num_workers=num_workers)\n",
    "test_iter = torch.utils.data.DataLoader(mnist_test, batch_size=len(mnist_test), num_workers=num_workers)"
   ]
  },
  {
   "cell_type": "code",
   "execution_count": 40,
   "id": "0a50c7e8",
   "metadata": {},
   "outputs": [
    {
     "data": {
      "text/plain": [
       "<matplotlib.image.AxesImage at 0x2acde5cc610>"
      ]
     },
     "execution_count": 40,
     "metadata": {},
     "output_type": "execute_result"
    },
    {
     "data": {
      "image/png": "[encoded data removed]",
      "text/plain": [
       "<Figure size 640x480 with 1 Axes>"
      ]
     },
     "metadata": {},
     "output_type": "display_data"
    }
   ],
   "source": [
    "plt.imshow(mnist_train.data[0,:,:], cmap='binary')"
   ]
  },
  {
   "cell_type": "markdown",
   "id": "1c304bf5",
   "metadata": {},
   "source": [
    "## 2. 构建模型"
   ]
  },
  {
   "cell_type": "code",
   "execution_count": 3,
   "id": "bdd7b805",
   "metadata": {},
   "outputs": [],
   "source": [
    "class LeNet(nn.Module):\n",
    "    def __init__(self):\n",
    "        super(LeNet, self).__init__()\n",
    "        self.conv = nn.Sequential(\n",
    "            nn.Conv2d(1, 6, 5), # in_channels, out_channels, kernel_size\n",
    "            nn.Sigmoid(),\n",
    "            nn.MaxPool2d(2, 2), # kernel_size, stride\n",
    "            nn.Conv2d(6, 16, 5),\n",
    "            nn.Sigmoid(),\n",
    "            nn.MaxPool2d(2, 2)\n",
    "        )\n",
    "        self.fc = nn.Sequential(\n",
    "            nn.Linear(16*4*4, 120),\n",
    "            nn.Sigmoid(),\n",
    "            nn.Linear(120, 84),\n",
    "            nn.Sigmoid(),\n",
    "            nn.Linear(84, 10)\n",
    "        )\n",
    "\n",
    "    def forward(self, img):\n",
    "        feature = self.conv(img)\n",
    "        output = self.fc(feature.view(img.shape[0], -1))\n",
    "        return output"
   ]
  },
  {
   "cell_type": "markdown",
   "id": "60ca42e6",
   "metadata": {},
   "source": [
    "## 3. performance "
   ]
  },
  {
   "cell_type": "code",
   "execution_count": 106,
   "id": "bca025b6",
   "metadata": {},
   "outputs": [],
   "source": [
    "def perf(Y_pred, Y_true):\n",
    "    global TP, TN, FP, FN\n",
    "    assert len(Y_pred.shape) == 2 and len(Y_true.shape) == 1\n",
    "    assert Y_pred.shape[0] == Y_true.shape[0]\n",
    "\n",
    "    nclass = Y_pred.shape[1]\n",
    "    Y_pred_idx = Y_pred.argmax(dim=1)\n",
    "    \n",
    "    accuracy = (Y_pred_idx == Y_true).sum() / Y_true.shape[0]\n",
    "    metrics_multiclass = []\n",
    "    for ic in range(nclass):\n",
    "        if isinstance(Y_pred, np.ndarray):\n",
    "            TP = np.argwhere(np.where(Y_pred_idx == ic, 1, 0) + np.where(Y_true == ic, 1, 0) == 2).size()\n",
    "            TN = np.argwhere(np.where(Y_pred_idx != ic, 1, 0) + np.where(Y_true != ic, 1, 0) == 2).size()\n",
    "            FP = np.argwhere(np.where(Y_pred_idx == ic, 1, 0) + np.where(Y_true != ic, 1, 0) == 2).size()\n",
    "            FN = np.argwhere(np.where(Y_pred_idx != ic, 1, 0) + np.where(Y_true == ic, 1, 0) == 2).size()\n",
    "        elif isinstance(Y_pred, torch.Tensor):\n",
    "            TP = torch.argwhere(torch.where(Y_pred_idx == ic, 1, 0) + torch.where(Y_true == ic, 1, 0) == 2).numel()\n",
    "            TN = torch.argwhere(torch.where(Y_pred_idx != ic, 1, 0) + torch.where(Y_true != ic, 1, 0) == 2).numel()\n",
    "            FP = torch.argwhere(torch.where(Y_pred_idx == ic, 1, 0) + torch.where(Y_true != ic, 1, 0) == 2).numel()\n",
    "            FN = torch.argwhere(torch.where(Y_pred_idx != ic, 1, 0) + torch.where(Y_true == ic, 1, 0) == 2).numel()\n",
    "        precision = TP / (TP + FP) # correctly predicted positive in all predicted positive\n",
    "        recall = TP / (TP + FN)  # correctly predicted positive in all actual positive\n",
    "        accuracy = (TP + TN) / (TP + TN + FP + FN)\n",
    "        F1 = 2 * precision + recall / (precision + recall)\n",
    "        metrics_multiclass.append({\n",
    "            'TP' : TP,\n",
    "            'TN' : TN,\n",
    "            'FP' : FP,\n",
    "            'FN' : FN,\n",
    "            'precision' : precision,\n",
    "            'recall' : recall,\n",
    "            'accuracy' : accuracy\n",
    "        })\n",
    "    return accuracy, metrics_multiclass"
   ]
  },
  {
   "cell_type": "markdown",
   "id": "49af8396",
   "metadata": {},
   "source": [
    "## 4. 训练"
   ]
  },
  {
   "cell_type": "code",
   "execution_count": 146,
   "id": "7f0cabd8",
   "metadata": {
    "scrolled": false
   },
   "outputs": [
    {
     "data": {
      "text/plain": [
       "device(type='cuda')"
      ]
     },
     "execution_count": 146,
     "metadata": {},
     "output_type": "execute_result"
    }
   ],
   "source": [
    "device = torch.device('cuda' if torch.cuda.is_available() else 'cpu')\n",
    "device"
   ]
  },
  {
   "cell_type": "code",
   "execution_count": 181,
   "id": "73feae06",
   "metadata": {},
   "outputs": [],
   "source": [
    "net = LeNet().to(device)\n",
    "\n",
    "shutil.rmtree('runs')\n",
    "\n",
    "writer = SummaryWriter(comment='LeNet',filename_suffix=\"_LeNet\")\n",
    "\n",
    "writer.add_graph(net, mnist_train[0][0].to(device))\n",
    "\n",
    "train_losses_by_epoch = []\n",
    "train_acc_by_epoch = []\n",
    "train_losses_by_batch = []\n"
   ]
  },
  {
   "cell_type": "code",
   "execution_count": 182,
   "id": "f3f2802e",
   "metadata": {},
   "outputs": [],
   "source": [
    "def train(net, train_iter, test_iter, batch_size, optimizer, device, num_epochs):\n",
    "    global y_hat, y\n",
    "#     net = net.to(device)\n",
    "    print(\"training on \", device)\n",
    "    loss = torch.nn.CrossEntropyLoss()\n",
    "    for epoch in range(num_epochs):\n",
    "        train_l_sum, train_acc_sum, n, batch_count, start = 0.0, 0.0, 0, 0, time.time()\n",
    "        train_losses_by_batch = []\n",
    "        for X, y in train_iter:\n",
    "            X = X.to(device)\n",
    "            y = y.to(device)\n",
    "            y_hat = net(X)\n",
    "            \n",
    "            l = loss(y_hat, y)\n",
    "            \n",
    "            train_losses_by_batch.append(l.item())\n",
    "            \n",
    "            \n",
    "            optimizer.zero_grad()\n",
    "            l.backward()\n",
    "            optimizer.step()\n",
    "            n += y.shape[0]\n",
    "            batch_count += 1\n",
    "        \n",
    "        train_losses_by_epoch.append(np.array(train_losses_by_batch).mean())\n",
    "        \n",
    "        x_test, y_test = next(iter(test_iter))\n",
    "        y_hat_test = net(x_test.to(device))\n",
    "        acc = (y_hat_test.argmax(dim=1) == y_test.to(device)).sum() / y_test.numel()\n",
    "        train_acc_by_epoch.append(acc)\n",
    "        \n",
    "        writer.add_scalar('Loss/train', train_losses_by_epoch[-1], epoch)\n",
    "        writer.add_scalar('Acc/train', train_acc_by_epoch[-1], epoch)\n",
    "        if epoch % 5 == 0:\n",
    "            print(\"epoch {}/{}, loss in train is {:.3f}, @{}\".format(epoch, num_epochs, l.item(), time.strftime(\"%H:%M:%S\")))\n",
    "        "
   ]
  },
  {
   "cell_type": "code",
   "execution_count": 183,
   "id": "34aa4cc0",
   "metadata": {},
   "outputs": [
    {
     "name": "stdout",
     "output_type": "stream",
     "text": [
      "training on  cuda\n",
      "epoch 0/100, loss in train is 1.175, @17:09:28\n",
      "epoch 5/100, loss in train is 0.504, @17:10:08\n",
      "epoch 10/100, loss in train is 0.328, @17:10:47\n",
      "epoch 15/100, loss in train is 0.281, @17:11:27\n",
      "epoch 20/100, loss in train is 0.418, @17:12:07\n",
      "epoch 25/100, loss in train is 0.386, @17:12:46\n",
      "epoch 30/100, loss in train is 0.310, @17:13:26\n",
      "epoch 35/100, loss in train is 0.345, @17:14:07\n",
      "epoch 40/100, loss in train is 0.157, @17:14:48\n",
      "epoch 45/100, loss in train is 0.308, @17:15:28\n",
      "epoch 50/100, loss in train is 0.310, @17:16:09\n",
      "epoch 55/100, loss in train is 0.347, @17:16:50\n",
      "epoch 60/100, loss in train is 0.282, @17:17:31\n",
      "epoch 65/100, loss in train is 0.347, @17:18:12\n",
      "epoch 70/100, loss in train is 0.367, @17:18:51\n",
      "epoch 75/100, loss in train is 0.311, @17:19:32\n",
      "epoch 80/100, loss in train is 0.225, @17:20:12\n",
      "epoch 85/100, loss in train is 0.216, @17:20:53\n",
      "epoch 90/100, loss in train is 0.151, @17:21:33\n",
      "epoch 95/100, loss in train is 0.165, @17:22:14\n"
     ]
    }
   ],
   "source": [
    "lr, num_epochs = 0.001, 100\n",
    "optimizer = torch.optim.Adam(net.parameters(), lr=lr)\n",
    "train(net, train_iter, test_iter, batch_size, optimizer, device, num_epochs)"
   ]
  },
  {
   "cell_type": "code",
   "execution_count": 184,
   "id": "1a3cb017",
   "metadata": {},
   "outputs": [],
   "source": [
    "writer.close()"
   ]
  },
  {
   "cell_type": "code",
   "execution_count": null,
   "id": "d334a7ce",
   "metadata": {},
   "outputs": [],
   "source": []
  },
  {
   "cell_type": "code",
   "execution_count": null,
   "id": "d667534c",
   "metadata": {},
   "outputs": [],
   "source": []
  },
  {
   "cell_type": "code",
   "execution_count": null,
   "id": "f2dcda8e",
   "metadata": {},
   "outputs": [],
   "source": []
  },
  {
   "cell_type": "code",
   "execution_count": null,
   "id": "44c5b94c",
   "metadata": {},
   "outputs": [],
   "source": []
  },
  {
   "cell_type": "markdown",
   "id": "b7e9c37a",
   "metadata": {},
   "source": [
    "# Bugs & Issues"
   ]
  },
  {
   "cell_type": "markdown",
   "id": "e8fb046b",
   "metadata": {},
   "source": [
    "## 1. Dataset -> DataLoader的channel问题, 为啥自动加了dim?\n",
    "\n",
    "+ 其实没有, 其实是Dataset的`__getitem__`里实现的方法, 他就给加了channel dim! DataLoader是无辜的!"
   ]
  },
  {
   "cell_type": "markdown",
   "id": "8466034f",
   "metadata": {},
   "source": [
    "## 2. DataLoader怎么单batch然后取值?\n",
    "\n",
    "+ 1个batch么就`batch_size = len(dataset)`\n",
    "+ 取值么就`next(iter(dataloader))`"
   ]
  },
  {
   "cell_type": "markdown",
   "id": "f1a3fdfc",
   "metadata": {},
   "source": [
    "## 3. 可视化怎么搞?\n",
    "\n",
    "+ 全面拥抱tensorboard! loss的和graph的, 好使!\n",
    "+ 过程中可视化通过add_scalar实现"
   ]
  },
  {
   "cell_type": "markdown",
   "id": "4201d8f4",
   "metadata": {},
   "source": [
    "## 4. performance怎么衡量?\n",
    "\n",
    "+ 除了CrossEntropy loss, 还统计了acc作为by_epoch关注量, 同时, train完统计multi-class的precision, recall, accuracy, f1-score"
   ]
  },
  {
   "cell_type": "markdown",
   "id": "832b0890",
   "metadata": {},
   "source": [
    "# Extend\n",
    "\n",
    "## CNN怎么去做regression任务呢?\n",
    "\n",
    "+ 发现能搜到paper, ok, 看paper去!"
   ]
  },
  {
   "cell_type": "code",
   "execution_count": null,
   "id": "f647485d",
   "metadata": {},
   "outputs": [],
   "source": []
  },
  {
   "cell_type": "code",
   "execution_count": null,
   "id": "23c7ac63",
   "metadata": {},
   "outputs": [],
   "source": []
  },
  {
   "cell_type": "code",
   "execution_count": null,
   "id": "0c7abab4",
   "metadata": {},
   "outputs": [],
   "source": []
  }
 ],
 "metadata": {
  "kernelspec": {
   "display_name": "ai",
   "language": "python",
   "name": "ai"
  },
  "language_info": {
   "codemirror_mode": {
    "name": "ipython",
    "version": 3
   },
   "file_extension": ".py",
   "mimetype": "text/x-python",
   "name": "python",
   "nbconvert_exporter": "python",
   "pygments_lexer": "ipython3",
   "version": "3.11.4"
  }
 },
 "nbformat": 4,
 "nbformat_minor": 5
}
